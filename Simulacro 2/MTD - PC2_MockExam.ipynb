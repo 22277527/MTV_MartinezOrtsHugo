{
 "cells": [
  {
   "cell_type": "markdown",
   "id": "1294c162",
   "metadata": {},
   "source": [
    "## MTD - PC2 (MockExam) - **Logistic Regression** and **Time Series Analysis**\n",
    "\n",
    "**Duration:** 2 hours  \n",
    "**Total score:** 100 points    \n",
    "**Permitted materials:** Jupyter Notebook on Visual Studio Code.     \n",
    "  \n",
    "---\n",
    "\n"
   ]
  },
  {
   "cell_type": "markdown",
   "id": "a3488966",
   "metadata": {},
   "source": [
    "### PART A – Multiple choice (4 × 5 = 20 pts)\n",
    "\n",
    "Choose **the** correct option and **briefly explain in two lines** your reasoning (explanations count for 2 points each).\n",
    "\n"
   ]
  },
  {
   "cell_type": "markdown",
   "id": "41fdd782",
   "metadata": {},
   "source": [
    "1. In a pure AR(2) model, which of the following statements about the PACF (partial autocorrelation function) is correct?     \n",
    "   a) It gradually decreases without reaching zero.      \n",
    "   b) It cuts off (becomes ≃0) after lag 2.     \n",
    "   c) It cuts off after lag 1.      \n",
    "   d) It spikes at all even-numbered lags.      \n",
    "\n"
   ]
  },
  {
   "cell_type": "markdown",
   "id": "761f5525",
   "metadata": {},
   "source": [
    "B\n",
    "La PACF muestra valores significativamente distintos de cero hasta el rezago p."
   ]
  },
  {
   "cell_type": "markdown",
   "id": "f8d4e61d",
   "metadata": {},
   "source": [
    "2. Standard logistic regression uses the:    \n",
    "   a) Normal distribution     \n",
    "   b) Bernoulli / Binomial distribution      \n",
    "   c) Poisson distribution    \n",
    "   d) Exponential distribution      \n",
    "\n"
   ]
  },
  {
   "cell_type": "markdown",
   "id": "1316d843",
   "metadata": {},
   "source": [
    "B\n",
    "La regresión logística estándar se utiliza cuando la variable dependiente (o respuesta) es binaria"
   ]
  },
  {
   "cell_type": "markdown",
   "id": "d14d3e99",
   "metadata": {},
   "source": [
    "3. A time series with constant mean but increasing variance mainly suffers from:    \n",
    "   a) Deterministic trend     \n",
    "   b) Seasonality    \n",
    "   c) Heteroskedasticity      \n",
    "   d) Cointegration     \n",
    "\n"
   ]
  },
  {
   "cell_type": "markdown",
   "id": "7cddd490",
   "metadata": {},
   "source": [
    "C\n",
    "Cuando tiene media constante significa que tiene heterocedasticidad"
   ]
  },
  {
   "cell_type": "markdown",
   "id": "8ab0579f",
   "metadata": {},
   "source": [
    "4. In a logistic regression context, an **odds ratio** of 2 for variable *X* implies:     \n",
    "   a) A 200% increase in the probability of success per unit increase in *X*     \n",
    "   b) Twice the odds of success per unit increase in *X*    \n",
    "   c) That *X* has no effect on the probability of success     \n",
    "   d) A 2% increase in the probability of success per unit increase in *X*    \n",
    "\n"
   ]
  },
  {
   "cell_type": "markdown",
   "id": "250bde02",
   "metadata": {},
   "source": [
    "B\n",
    "el efecto de una variable independiente (X) sobre la variable dependiente (probabilidad de éxito) se mide en términos de odds ratios. Si el odd ratio es 2 se los odds se multiplican por dos a medida que sube X"
   ]
  },
  {
   "cell_type": "markdown",
   "id": "fed54d68",
   "metadata": {},
   "source": [
    "---\n",
    "\n"
   ]
  },
  {
   "cell_type": "markdown",
   "id": "6170c7ce",
   "metadata": {},
   "source": [
    "### PART B – Short answer (3 × 10 = 30 pts)\n",
    "\n",
    "5. **Stationarity (10 pts)**     \n",
    "   a) Define second-order stationarity.      \n",
    "   b) Describe the Augmented Dickey–Fuller (ADF) test procedure and interpret the role of the null hypothesis. \n",
    "      \n",
    "\n"
   ]
  },
  {
   "cell_type": "markdown",
   "id": "7950595e",
   "metadata": {},
   "source": [
    "A) Una serie es estacionaria de segundo orden si su media y covarianza no cambian a lo largo del tiempo, mientras que la covarianza depende del rezago.\n",
    "B) La prueba ADF (Augmented Dickey–Fuller) es un test estadístico que se usa para determinar si una serie temporal es estacionaria o tiene una raíz unitaria (es decir, es no estacionaria). La hipotesis nula quiere decir que si es = 0 no es estacionaria"
   ]
  },
  {
   "cell_type": "markdown",
   "id": "35fe48cc",
   "metadata": {},
   "source": [
    "6. **Logit transformation (10 pts)**\n",
    "   For a success probability π = 0.8:     \n",
    "   a) Calculate the logit.    \n",
    "   b) If the coefficient β₁ of the variable *Age* is 0.045, interpret its practical meaning.    \n",
    "\n"
   ]
  },
  {
   "cell_type": "markdown",
   "id": "cbf187c5",
   "metadata": {},
   "source": [
    "A) 0.8 / (1 - 0.8) = 1.386 \n",
    "B)  Un aumento de 1 año en la edad incrementa las odds de éxito en ≈4.6%."
   ]
  },
  {
   "cell_type": "markdown",
   "id": "0fb1870b",
   "metadata": {},
   "source": [
    "7. **Class imbalance (10 pts)**     \n",
    "   a) Explain why a dataset with 95% zeros and 5% ones may pose problems for standard logistic regression.     \n",
    "   b) Propose two basic strategies to mitigate this imbalance and briefly discuss their advantages.      \n"
   ]
  },
  {
   "cell_type": "markdown",
   "id": "4a12613d",
   "metadata": {},
   "source": [
    "A)El modelo puede aprender a predecir siempre la clase mayoritaria (0) y aún así obtener una alta precisión global (accuracy) (~95%), pero sin realmente aprender a detectar la clase minoritaria (1), que suele ser la más importante en muchos casos (como fraude, enfermedad, etc.).\n",
    "\n",
    "B) RE- MUESTREO\n",
    "Oversampling de la clase minoritaria: duplicar o generar más ejemplos de la clase 1 (por ejemplo, con técnicas como SMOTE).\n",
    "\n",
    "Undersampling de la clase mayoritaria: reducir el número de ejemplos de la clase 0.\n",
    "\n",
    "   AJUSTES DE PESOS \n",
    "   \n",
    "Modificar la función de pérdida de la regresión logística para penalizar más los errores en la clase minoritaria."
   ]
  },
  {
   "cell_type": "markdown",
   "id": "ea492fda",
   "metadata": {},
   "source": [
    "\n",
    "---\n",
    "\n"
   ]
  },
  {
   "cell_type": "markdown",
   "id": "a19a4a1f",
   "metadata": {},
   "source": [
    "### PART C – Extended problems (2 × 25 pts = 50 pts)\n",
    "\n",
    "8. **ARIMA modeling (25 pts)**      \n",
    "   Monthly sales of a product (in thousands of units) are recorded for 5 years; the analyst suspects a linear trend and a seasonal component of period 12.     \n"
   ]
  },
  {
   "cell_type": "markdown",
   "id": "33cf6dda",
   "metadata": {},
   "source": [
    "   a) Describe step by step how you would transform the series to make it stationary (include at least two different techniques).      \n"
   ]
  },
  {
   "cell_type": "markdown",
   "id": "277e59ff",
   "metadata": {},
   "source": [
    "Paso 1: Visualización y diagnóstico inicial\n",
    "Paso 2: Eliminar la tendencia (diferenciación no estacional)\n",
    "Paso 3: Eliminar la estacionalidad (diferenciación estacional)\n",
    "Paso 4: Transformación para estabilizar la varianza (si es necesario)\n",
    "Paso 5: Revisar estacionariedad tras transformaciones"
   ]
  },
  {
   "cell_type": "markdown",
   "id": "fec3c061",
   "metadata": {},
   "source": [
    "   b) Present a reasoned procedure to identify a SARIMA(p,d,q)(P,D,Q)$_{12}$ model.    \n"
   ]
  },
  {
   "cell_type": "markdown",
   "id": "7dfcd52d",
   "metadata": {},
   "source": [
    "Paso 1: Diagnóstico inicial y transformación\n",
    "Paso 2: Graficar la serie transformada\n",
    "Paso 3: Analizar ACF y PACF de la serie estacionaria\n",
    "Paso 4: Estimar varios modelos candidatos SARIMA\n",
    "Paso 5: Selección del mejor modelo\n",
    "Paso 6: Validación"
   ]
  },
  {
   "cell_type": "markdown",
   "id": "ef7eb710",
   "metadata": {},
   "source": [
    "   c) One candidate model is SARIMA(1,1,1)(0,1,1)$_{12}$. What do the values of p, d, P, and D specifically mean?    \n"
   ]
  },
  {
   "cell_type": "markdown",
   "id": "e38b6172",
   "metadata": {},
   "source": []
  },
  {
   "cell_type": "markdown",
   "id": "93ba5e3e",
   "metadata": {},
   "source": [
    "   d) Name two numerical criteria to compare models and choose the best one.     \n",
    "\n"
   ]
  },
  {
   "cell_type": "markdown",
   "id": "f271b57f",
   "metadata": {},
   "source": []
  },
  {
   "cell_type": "markdown",
   "id": "219f010c",
   "metadata": {},
   "source": [
    "9. **Logistic regression with interaction (25 pts)**\n",
    "   A study assesses the probability of developing hypertension ($Y=1$) based on **Age** (*A*, in years) and **Weekly physical activity** (*E*, 1 = “≥ 150 min”, 0 = “< 150 min”). The estimated model is:      \n",
    "\n",
    "   $$\n",
    "   \\log\\frac{\\hat\\pi}{1-\\hat\\pi}= -6.2 + 0.05A - 1.3E + 0.02AE\n",
    "   $$\n",
    "\n"
   ]
  },
  {
   "cell_type": "markdown",
   "id": "585da2fc",
   "metadata": {},
   "source": [
    "   a) Interpret the sign and magnitude of each coefficient.    \n"
   ]
  },
  {
   "cell_type": "markdown",
   "id": "0ff02379",
   "metadata": {},
   "source": []
  },
  {
   "cell_type": "markdown",
   "id": "eea0fb31",
   "metadata": {},
   "source": [
    "   b) Calculate the estimated probability of hypertension for:    \n",
    "   * i) A 50-year-old person with low physical activity (E=0).    \n",
    "   * ii) A 50-year-old active person (E=1).     \n"
   ]
  },
  {
   "cell_type": "markdown",
   "id": "fedb2e28",
   "metadata": {},
   "source": []
  },
  {
   "cell_type": "markdown",
   "id": "1629a5e6",
   "metadata": {},
   "source": [
    "c) Determine and comment on the **odds ratio** of switching from inactive to active at age 60.      \n"
   ]
  },
  {
   "cell_type": "markdown",
   "id": "2f8bf75f",
   "metadata": {},
   "source": []
  },
  {
   "cell_type": "markdown",
   "id": "1427c554",
   "metadata": {},
   "source": [
    "d) Propose a simple graph to show the interaction and describe the expected shape of the curves.    \n"
   ]
  },
  {
   "cell_type": "markdown",
   "id": "b8ff3958",
   "metadata": {},
   "source": []
  },
  {
   "cell_type": "markdown",
   "id": "a42889b5",
   "metadata": {},
   "source": [
    "\n",
    "---"
   ]
  }
 ],
 "metadata": {
  "language_info": {
   "name": "python"
  }
 },
 "nbformat": 4,
 "nbformat_minor": 5
}
