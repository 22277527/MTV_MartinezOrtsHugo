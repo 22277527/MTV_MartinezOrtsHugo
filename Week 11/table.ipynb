{
 "cells": [
  {
   "cell_type": "code",
   "execution_count": 10,
   "metadata": {},
   "outputs": [],
   "source": [
    "import plotly.graph_objects as go\n",
    "from scipy.stats import binom\n",
    "import numpy as np\n",
    "import matplotlib.pyplot as plt"
   ]
  },
  {
   "cell_type": "code",
   "execution_count": 6,
   "metadata": {},
   "outputs": [
    {
     "data": {
      "application/vnd.plotly.v1+json": {
       "config": {
        "plotlyServerURL": "https://plot.ly"
       },
       "data": [
        {
         "line": {
          "color": "black"
         },
         "mode": "lines",
         "showlegend": false,
         "type": "scatter",
         "x": [
          0,
          0
         ],
         "y": [
          0,
          0.02824752489999998
         ]
        },
        {
         "line": {
          "color": "black"
         },
         "mode": "lines",
         "showlegend": false,
         "type": "scatter",
         "x": [
          1,
          1
         ],
         "y": [
          0,
          0.12106082099999989
         ]
        },
        {
         "line": {
          "color": "black"
         },
         "mode": "lines",
         "showlegend": false,
         "type": "scatter",
         "x": [
          2,
          2
         ],
         "y": [
          0,
          0.2334744405000001
         ]
        },
        {
         "line": {
          "color": "black"
         },
         "mode": "lines",
         "showlegend": false,
         "type": "scatter",
         "x": [
          3,
          3
         ],
         "y": [
          0,
          0.26682793199999977
         ]
        },
        {
         "line": {
          "color": "black"
         },
         "mode": "lines",
         "showlegend": false,
         "type": "scatter",
         "x": [
          4,
          4
         ],
         "y": [
          0,
          0.2001209489999999
         ]
        },
        {
         "line": {
          "color": "black"
         },
         "mode": "lines",
         "showlegend": false,
         "type": "scatter",
         "x": [
          5,
          5
         ],
         "y": [
          0,
          0.10291934519999989
         ]
        },
        {
         "line": {
          "color": "black"
         },
         "mode": "lines",
         "showlegend": false,
         "type": "scatter",
         "x": [
          6,
          6
         ],
         "y": [
          0,
          0.036756908999999956
         ]
        },
        {
         "line": {
          "color": "black"
         },
         "mode": "lines",
         "showlegend": false,
         "type": "scatter",
         "x": [
          7,
          7
         ],
         "y": [
          0,
          0.009001691999999992
         ]
        },
        {
         "line": {
          "color": "black"
         },
         "mode": "lines",
         "showlegend": false,
         "type": "scatter",
         "x": [
          8,
          8
         ],
         "y": [
          0,
          0.0014467004999999982
         ]
        },
        {
         "line": {
          "color": "black"
         },
         "mode": "lines",
         "showlegend": false,
         "type": "scatter",
         "x": [
          9,
          9
         ],
         "y": [
          0,
          0.00013778099999999988
         ]
        },
        {
         "line": {
          "color": "black"
         },
         "mode": "lines",
         "showlegend": false,
         "type": "scatter",
         "x": [
          10,
          10
         ],
         "y": [
          0,
          0.0000059048999999999975
         ]
        },
        {
         "marker": {
          "color": "black",
          "size": 8
         },
         "mode": "markers",
         "showlegend": false,
         "type": "scatter",
         "x": [
          0,
          1,
          2,
          3,
          4,
          5,
          6,
          7,
          8,
          9,
          10
         ],
         "y": [
          0.02824752489999998,
          0.12106082099999989,
          0.2334744405000001,
          0.26682793199999977,
          0.2001209489999999,
          0.10291934519999989,
          0.036756908999999956,
          0.009001691999999992,
          0.0014467004999999982,
          0.00013778099999999988,
          0.0000059048999999999975
         ]
        }
       ],
       "layout": {
        "plot_bgcolor": "white",
        "template": {
         "data": {
          "bar": [
           {
            "error_x": {
             "color": "#2a3f5f"
            },
            "error_y": {
             "color": "#2a3f5f"
            },
            "marker": {
             "line": {
              "color": "#E5ECF6",
              "width": 0.5
             },
             "pattern": {
              "fillmode": "overlay",
              "size": 10,
              "solidity": 0.2
             }
            },
            "type": "bar"
           }
          ],
          "barpolar": [
           {
            "marker": {
             "line": {
              "color": "#E5ECF6",
              "width": 0.5
             },
             "pattern": {
              "fillmode": "overlay",
              "size": 10,
              "solidity": 0.2
             }
            },
            "type": "barpolar"
           }
          ],
          "carpet": [
           {
            "aaxis": {
             "endlinecolor": "#2a3f5f",
             "gridcolor": "white",
             "linecolor": "white",
             "minorgridcolor": "white",
             "startlinecolor": "#2a3f5f"
            },
            "baxis": {
             "endlinecolor": "#2a3f5f",
             "gridcolor": "white",
             "linecolor": "white",
             "minorgridcolor": "white",
             "startlinecolor": "#2a3f5f"
            },
            "type": "carpet"
           }
          ],
          "choropleth": [
           {
            "colorbar": {
             "outlinewidth": 0,
             "ticks": ""
            },
            "type": "choropleth"
           }
          ],
          "contour": [
           {
            "colorbar": {
             "outlinewidth": 0,
             "ticks": ""
            },
            "colorscale": [
             [
              0,
              "#0d0887"
             ],
             [
              0.1111111111111111,
              "#46039f"
             ],
             [
              0.2222222222222222,
              "#7201a8"
             ],
             [
              0.3333333333333333,
              "#9c179e"
             ],
             [
              0.4444444444444444,
              "#bd3786"
             ],
             [
              0.5555555555555556,
              "#d8576b"
             ],
             [
              0.6666666666666666,
              "#ed7953"
             ],
             [
              0.7777777777777778,
              "#fb9f3a"
             ],
             [
              0.8888888888888888,
              "#fdca26"
             ],
             [
              1,
              "#f0f921"
             ]
            ],
            "type": "contour"
           }
          ],
          "contourcarpet": [
           {
            "colorbar": {
             "outlinewidth": 0,
             "ticks": ""
            },
            "type": "contourcarpet"
           }
          ],
          "heatmap": [
           {
            "colorbar": {
             "outlinewidth": 0,
             "ticks": ""
            },
            "colorscale": [
             [
              0,
              "#0d0887"
             ],
             [
              0.1111111111111111,
              "#46039f"
             ],
             [
              0.2222222222222222,
              "#7201a8"
             ],
             [
              0.3333333333333333,
              "#9c179e"
             ],
             [
              0.4444444444444444,
              "#bd3786"
             ],
             [
              0.5555555555555556,
              "#d8576b"
             ],
             [
              0.6666666666666666,
              "#ed7953"
             ],
             [
              0.7777777777777778,
              "#fb9f3a"
             ],
             [
              0.8888888888888888,
              "#fdca26"
             ],
             [
              1,
              "#f0f921"
             ]
            ],
            "type": "heatmap"
           }
          ],
          "heatmapgl": [
           {
            "colorbar": {
             "outlinewidth": 0,
             "ticks": ""
            },
            "colorscale": [
             [
              0,
              "#0d0887"
             ],
             [
              0.1111111111111111,
              "#46039f"
             ],
             [
              0.2222222222222222,
              "#7201a8"
             ],
             [
              0.3333333333333333,
              "#9c179e"
             ],
             [
              0.4444444444444444,
              "#bd3786"
             ],
             [
              0.5555555555555556,
              "#d8576b"
             ],
             [
              0.6666666666666666,
              "#ed7953"
             ],
             [
              0.7777777777777778,
              "#fb9f3a"
             ],
             [
              0.8888888888888888,
              "#fdca26"
             ],
             [
              1,
              "#f0f921"
             ]
            ],
            "type": "heatmapgl"
           }
          ],
          "histogram": [
           {
            "marker": {
             "pattern": {
              "fillmode": "overlay",
              "size": 10,
              "solidity": 0.2
             }
            },
            "type": "histogram"
           }
          ],
          "histogram2d": [
           {
            "colorbar": {
             "outlinewidth": 0,
             "ticks": ""
            },
            "colorscale": [
             [
              0,
              "#0d0887"
             ],
             [
              0.1111111111111111,
              "#46039f"
             ],
             [
              0.2222222222222222,
              "#7201a8"
             ],
             [
              0.3333333333333333,
              "#9c179e"
             ],
             [
              0.4444444444444444,
              "#bd3786"
             ],
             [
              0.5555555555555556,
              "#d8576b"
             ],
             [
              0.6666666666666666,
              "#ed7953"
             ],
             [
              0.7777777777777778,
              "#fb9f3a"
             ],
             [
              0.8888888888888888,
              "#fdca26"
             ],
             [
              1,
              "#f0f921"
             ]
            ],
            "type": "histogram2d"
           }
          ],
          "histogram2dcontour": [
           {
            "colorbar": {
             "outlinewidth": 0,
             "ticks": ""
            },
            "colorscale": [
             [
              0,
              "#0d0887"
             ],
             [
              0.1111111111111111,
              "#46039f"
             ],
             [
              0.2222222222222222,
              "#7201a8"
             ],
             [
              0.3333333333333333,
              "#9c179e"
             ],
             [
              0.4444444444444444,
              "#bd3786"
             ],
             [
              0.5555555555555556,
              "#d8576b"
             ],
             [
              0.6666666666666666,
              "#ed7953"
             ],
             [
              0.7777777777777778,
              "#fb9f3a"
             ],
             [
              0.8888888888888888,
              "#fdca26"
             ],
             [
              1,
              "#f0f921"
             ]
            ],
            "type": "histogram2dcontour"
           }
          ],
          "mesh3d": [
           {
            "colorbar": {
             "outlinewidth": 0,
             "ticks": ""
            },
            "type": "mesh3d"
           }
          ],
          "parcoords": [
           {
            "line": {
             "colorbar": {
              "outlinewidth": 0,
              "ticks": ""
             }
            },
            "type": "parcoords"
           }
          ],
          "pie": [
           {
            "automargin": true,
            "type": "pie"
           }
          ],
          "scatter": [
           {
            "fillpattern": {
             "fillmode": "overlay",
             "size": 10,
             "solidity": 0.2
            },
            "type": "scatter"
           }
          ],
          "scatter3d": [
           {
            "line": {
             "colorbar": {
              "outlinewidth": 0,
              "ticks": ""
             }
            },
            "marker": {
             "colorbar": {
              "outlinewidth": 0,
              "ticks": ""
             }
            },
            "type": "scatter3d"
           }
          ],
          "scattercarpet": [
           {
            "marker": {
             "colorbar": {
              "outlinewidth": 0,
              "ticks": ""
             }
            },
            "type": "scattercarpet"
           }
          ],
          "scattergeo": [
           {
            "marker": {
             "colorbar": {
              "outlinewidth": 0,
              "ticks": ""
             }
            },
            "type": "scattergeo"
           }
          ],
          "scattergl": [
           {
            "marker": {
             "colorbar": {
              "outlinewidth": 0,
              "ticks": ""
             }
            },
            "type": "scattergl"
           }
          ],
          "scattermapbox": [
           {
            "marker": {
             "colorbar": {
              "outlinewidth": 0,
              "ticks": ""
             }
            },
            "type": "scattermapbox"
           }
          ],
          "scatterpolar": [
           {
            "marker": {
             "colorbar": {
              "outlinewidth": 0,
              "ticks": ""
             }
            },
            "type": "scatterpolar"
           }
          ],
          "scatterpolargl": [
           {
            "marker": {
             "colorbar": {
              "outlinewidth": 0,
              "ticks": ""
             }
            },
            "type": "scatterpolargl"
           }
          ],
          "scatterternary": [
           {
            "marker": {
             "colorbar": {
              "outlinewidth": 0,
              "ticks": ""
             }
            },
            "type": "scatterternary"
           }
          ],
          "surface": [
           {
            "colorbar": {
             "outlinewidth": 0,
             "ticks": ""
            },
            "colorscale": [
             [
              0,
              "#0d0887"
             ],
             [
              0.1111111111111111,
              "#46039f"
             ],
             [
              0.2222222222222222,
              "#7201a8"
             ],
             [
              0.3333333333333333,
              "#9c179e"
             ],
             [
              0.4444444444444444,
              "#bd3786"
             ],
             [
              0.5555555555555556,
              "#d8576b"
             ],
             [
              0.6666666666666666,
              "#ed7953"
             ],
             [
              0.7777777777777778,
              "#fb9f3a"
             ],
             [
              0.8888888888888888,
              "#fdca26"
             ],
             [
              1,
              "#f0f921"
             ]
            ],
            "type": "surface"
           }
          ],
          "table": [
           {
            "cells": {
             "fill": {
              "color": "#EBF0F8"
             },
             "line": {
              "color": "white"
             }
            },
            "header": {
             "fill": {
              "color": "#C8D4E3"
             },
             "line": {
              "color": "white"
             }
            },
            "type": "table"
           }
          ]
         },
         "layout": {
          "annotationdefaults": {
           "arrowcolor": "#2a3f5f",
           "arrowhead": 0,
           "arrowwidth": 1
          },
          "autotypenumbers": "strict",
          "coloraxis": {
           "colorbar": {
            "outlinewidth": 0,
            "ticks": ""
           }
          },
          "colorscale": {
           "diverging": [
            [
             0,
             "#8e0152"
            ],
            [
             0.1,
             "#c51b7d"
            ],
            [
             0.2,
             "#de77ae"
            ],
            [
             0.3,
             "#f1b6da"
            ],
            [
             0.4,
             "#fde0ef"
            ],
            [
             0.5,
             "#f7f7f7"
            ],
            [
             0.6,
             "#e6f5d0"
            ],
            [
             0.7,
             "#b8e186"
            ],
            [
             0.8,
             "#7fbc41"
            ],
            [
             0.9,
             "#4d9221"
            ],
            [
             1,
             "#276419"
            ]
           ],
           "sequential": [
            [
             0,
             "#0d0887"
            ],
            [
             0.1111111111111111,
             "#46039f"
            ],
            [
             0.2222222222222222,
             "#7201a8"
            ],
            [
             0.3333333333333333,
             "#9c179e"
            ],
            [
             0.4444444444444444,
             "#bd3786"
            ],
            [
             0.5555555555555556,
             "#d8576b"
            ],
            [
             0.6666666666666666,
             "#ed7953"
            ],
            [
             0.7777777777777778,
             "#fb9f3a"
            ],
            [
             0.8888888888888888,
             "#fdca26"
            ],
            [
             1,
             "#f0f921"
            ]
           ],
           "sequentialminus": [
            [
             0,
             "#0d0887"
            ],
            [
             0.1111111111111111,
             "#46039f"
            ],
            [
             0.2222222222222222,
             "#7201a8"
            ],
            [
             0.3333333333333333,
             "#9c179e"
            ],
            [
             0.4444444444444444,
             "#bd3786"
            ],
            [
             0.5555555555555556,
             "#d8576b"
            ],
            [
             0.6666666666666666,
             "#ed7953"
            ],
            [
             0.7777777777777778,
             "#fb9f3a"
            ],
            [
             0.8888888888888888,
             "#fdca26"
            ],
            [
             1,
             "#f0f921"
            ]
           ]
          },
          "colorway": [
           "#636efa",
           "#EF553B",
           "#00cc96",
           "#ab63fa",
           "#FFA15A",
           "#19d3f3",
           "#FF6692",
           "#B6E880",
           "#FF97FF",
           "#FECB52"
          ],
          "font": {
           "color": "#2a3f5f"
          },
          "geo": {
           "bgcolor": "white",
           "lakecolor": "white",
           "landcolor": "#E5ECF6",
           "showlakes": true,
           "showland": true,
           "subunitcolor": "white"
          },
          "hoverlabel": {
           "align": "left"
          },
          "hovermode": "closest",
          "mapbox": {
           "style": "light"
          },
          "paper_bgcolor": "white",
          "plot_bgcolor": "#E5ECF6",
          "polar": {
           "angularaxis": {
            "gridcolor": "white",
            "linecolor": "white",
            "ticks": ""
           },
           "bgcolor": "#E5ECF6",
           "radialaxis": {
            "gridcolor": "white",
            "linecolor": "white",
            "ticks": ""
           }
          },
          "scene": {
           "xaxis": {
            "backgroundcolor": "#E5ECF6",
            "gridcolor": "white",
            "gridwidth": 2,
            "linecolor": "white",
            "showbackground": true,
            "ticks": "",
            "zerolinecolor": "white"
           },
           "yaxis": {
            "backgroundcolor": "#E5ECF6",
            "gridcolor": "white",
            "gridwidth": 2,
            "linecolor": "white",
            "showbackground": true,
            "ticks": "",
            "zerolinecolor": "white"
           },
           "zaxis": {
            "backgroundcolor": "#E5ECF6",
            "gridcolor": "white",
            "gridwidth": 2,
            "linecolor": "white",
            "showbackground": true,
            "ticks": "",
            "zerolinecolor": "white"
           }
          },
          "shapedefaults": {
           "line": {
            "color": "#2a3f5f"
           }
          },
          "ternary": {
           "aaxis": {
            "gridcolor": "white",
            "linecolor": "white",
            "ticks": ""
           },
           "baxis": {
            "gridcolor": "white",
            "linecolor": "white",
            "ticks": ""
           },
           "bgcolor": "#E5ECF6",
           "caxis": {
            "gridcolor": "white",
            "linecolor": "white",
            "ticks": ""
           }
          },
          "title": {
           "x": 0.05
          },
          "xaxis": {
           "automargin": true,
           "gridcolor": "white",
           "linecolor": "white",
           "ticks": "",
           "title": {
            "standoff": 15
           },
           "zerolinecolor": "white",
           "zerolinewidth": 2
          },
          "yaxis": {
           "automargin": true,
           "gridcolor": "white",
           "linecolor": "white",
           "ticks": "",
           "title": {
            "standoff": 15
           },
           "zerolinecolor": "white",
           "zerolinewidth": 2
          }
         }
        },
        "title": {
         "text": "Binomial Distribution: Binomial trials=10, Probability of success=0.3"
        },
        "xaxis": {
         "dtick": 1,
         "title": {
          "text": "Number of Successes"
         }
        },
        "yaxis": {
         "title": {
          "text": "Probability Mass"
         }
        }
       }
      }
     },
     "metadata": {},
     "output_type": "display_data"
    }
   ],
   "source": [
    "\n",
    "\n",
    "# Parámetros de la distribución binomial\n",
    "n = 10\n",
    "p = 0.3\n",
    "\n",
    "# Valores posibles y sus probabilidades\n",
    "x = np.arange(0, n + 1)\n",
    "y = binom.pmf(x, n, p)\n",
    "\n",
    "# Crear figura\n",
    "fig = go.Figure()\n",
    "\n",
    "# Añadir líneas verticales (tipo diagrama de tallo)\n",
    "for xi, yi in zip(x, y):\n",
    "    fig.add_trace(go.Scatter(\n",
    "        x=[xi, xi],\n",
    "        y=[0, yi],\n",
    "        mode='lines',\n",
    "        line=dict(color='black'),\n",
    "        showlegend=False\n",
    "    ))\n",
    "\n",
    "# Añadir puntos\n",
    "fig.add_trace(go.Scatter(\n",
    "    x=x,\n",
    "    y=y,\n",
    "    mode='markers',\n",
    "    marker=dict(color='black', size=8),\n",
    "    showlegend=False\n",
    "))\n",
    "\n",
    "# Configuración de layout\n",
    "fig.update_layout(\n",
    "    title='Binomial Distribution: Binomial trials=10, Probability of success=0.3',\n",
    "    xaxis_title='Number of Successes',\n",
    "    yaxis_title='Probability Mass',\n",
    "    xaxis=dict(dtick=1),\n",
    "    plot_bgcolor='white'\n",
    ")\n",
    "\n",
    "fig.show()\n"
   ]
  },
  {
   "cell_type": "code",
   "execution_count": null,
   "metadata": {},
   "outputs": [
    {
     "data": {
      "application/vnd.plotly.v1+json": {
       "config": {
        "plotlyServerURL": "https://plot.ly"
       },
       "data": [
        {
         "line": {
          "color": "black"
         },
         "mode": "lines",
         "showlegend": false,
         "type": "scatter",
         "x": [
          0,
          0
         ],
         "y": [
          0,
          0.02824752489999998
         ]
        },
        {
         "line": {
          "color": "black"
         },
         "mode": "lines",
         "showlegend": false,
         "type": "scatter",
         "x": [
          1,
          1
         ],
         "y": [
          0,
          0.12106082099999993
         ]
        },
        {
         "line": {
          "color": "black"
         },
         "mode": "lines",
         "showlegend": false,
         "type": "scatter",
         "x": [
          2,
          2
         ],
         "y": [
          0,
          0.23347444049999988
         ]
        },
        {
         "line": {
          "color": "black"
         },
         "mode": "lines",
         "showlegend": false,
         "type": "scatter",
         "x": [
          3,
          3
         ],
         "y": [
          0,
          0.2668279319999998
         ]
        },
        {
         "line": {
          "color": "black"
         },
         "mode": "lines",
         "showlegend": false,
         "type": "scatter",
         "x": [
          4,
          4
         ],
         "y": [
          0,
          0.2001209489999999
         ]
        },
        {
         "line": {
          "color": "black"
         },
         "mode": "lines",
         "showlegend": false,
         "type": "scatter",
         "x": [
          5,
          5
         ],
         "y": [
          0,
          0.10291934519999994
         ]
        },
        {
         "line": {
          "color": "black"
         },
         "mode": "lines",
         "showlegend": false,
         "type": "scatter",
         "x": [
          6,
          6
         ],
         "y": [
          0,
          0.03675690899999999
         ]
        },
        {
         "line": {
          "color": "black"
         },
         "mode": "lines",
         "showlegend": false,
         "type": "scatter",
         "x": [
          7,
          7
         ],
         "y": [
          0,
          0.009001691999999995
         ]
        },
        {
         "line": {
          "color": "black"
         },
         "mode": "lines",
         "showlegend": false,
         "type": "scatter",
         "x": [
          8,
          8
         ],
         "y": [
          0,
          0.0014467004999999993
         ]
        },
        {
         "line": {
          "color": "black"
         },
         "mode": "lines",
         "showlegend": false,
         "type": "scatter",
         "x": [
          9,
          9
         ],
         "y": [
          0,
          0.00013778099999999996
         ]
        },
        {
         "line": {
          "color": "black"
         },
         "mode": "lines",
         "showlegend": false,
         "type": "scatter",
         "x": [
          10,
          10
         ],
         "y": [
          0,
          0.0000059048999999999975
         ]
        },
        {
         "marker": {
          "color": "black",
          "size": 8
         },
         "mode": "markers",
         "showlegend": false,
         "type": "scatter",
         "x": [
          0,
          1,
          2,
          3,
          4,
          5,
          6,
          7,
          8,
          9,
          10
         ],
         "y": [
          0.02824752489999998,
          0.12106082099999993,
          0.23347444049999988,
          0.2668279319999998,
          0.2001209489999999,
          0.10291934519999994,
          0.03675690899999999,
          0.009001691999999995,
          0.0014467004999999993,
          0.00013778099999999996,
          0.0000059048999999999975
         ]
        }
       ],
       "layout": {
        "plot_bgcolor": "white",
        "template": {
         "data": {
          "bar": [
           {
            "error_x": {
             "color": "#2a3f5f"
            },
            "error_y": {
             "color": "#2a3f5f"
            },
            "marker": {
             "line": {
              "color": "#E5ECF6",
              "width": 0.5
             },
             "pattern": {
              "fillmode": "overlay",
              "size": 10,
              "solidity": 0.2
             }
            },
            "type": "bar"
           }
          ],
          "barpolar": [
           {
            "marker": {
             "line": {
              "color": "#E5ECF6",
              "width": 0.5
             },
             "pattern": {
              "fillmode": "overlay",
              "size": 10,
              "solidity": 0.2
             }
            },
            "type": "barpolar"
           }
          ],
          "carpet": [
           {
            "aaxis": {
             "endlinecolor": "#2a3f5f",
             "gridcolor": "white",
             "linecolor": "white",
             "minorgridcolor": "white",
             "startlinecolor": "#2a3f5f"
            },
            "baxis": {
             "endlinecolor": "#2a3f5f",
             "gridcolor": "white",
             "linecolor": "white",
             "minorgridcolor": "white",
             "startlinecolor": "#2a3f5f"
            },
            "type": "carpet"
           }
          ],
          "choropleth": [
           {
            "colorbar": {
             "outlinewidth": 0,
             "ticks": ""
            },
            "type": "choropleth"
           }
          ],
          "contour": [
           {
            "colorbar": {
             "outlinewidth": 0,
             "ticks": ""
            },
            "colorscale": [
             [
              0,
              "#0d0887"
             ],
             [
              0.1111111111111111,
              "#46039f"
             ],
             [
              0.2222222222222222,
              "#7201a8"
             ],
             [
              0.3333333333333333,
              "#9c179e"
             ],
             [
              0.4444444444444444,
              "#bd3786"
             ],
             [
              0.5555555555555556,
              "#d8576b"
             ],
             [
              0.6666666666666666,
              "#ed7953"
             ],
             [
              0.7777777777777778,
              "#fb9f3a"
             ],
             [
              0.8888888888888888,
              "#fdca26"
             ],
             [
              1,
              "#f0f921"
             ]
            ],
            "type": "contour"
           }
          ],
          "contourcarpet": [
           {
            "colorbar": {
             "outlinewidth": 0,
             "ticks": ""
            },
            "type": "contourcarpet"
           }
          ],
          "heatmap": [
           {
            "colorbar": {
             "outlinewidth": 0,
             "ticks": ""
            },
            "colorscale": [
             [
              0,
              "#0d0887"
             ],
             [
              0.1111111111111111,
              "#46039f"
             ],
             [
              0.2222222222222222,
              "#7201a8"
             ],
             [
              0.3333333333333333,
              "#9c179e"
             ],
             [
              0.4444444444444444,
              "#bd3786"
             ],
             [
              0.5555555555555556,
              "#d8576b"
             ],
             [
              0.6666666666666666,
              "#ed7953"
             ],
             [
              0.7777777777777778,
              "#fb9f3a"
             ],
             [
              0.8888888888888888,
              "#fdca26"
             ],
             [
              1,
              "#f0f921"
             ]
            ],
            "type": "heatmap"
           }
          ],
          "heatmapgl": [
           {
            "colorbar": {
             "outlinewidth": 0,
             "ticks": ""
            },
            "colorscale": [
             [
              0,
              "#0d0887"
             ],
             [
              0.1111111111111111,
              "#46039f"
             ],
             [
              0.2222222222222222,
              "#7201a8"
             ],
             [
              0.3333333333333333,
              "#9c179e"
             ],
             [
              0.4444444444444444,
              "#bd3786"
             ],
             [
              0.5555555555555556,
              "#d8576b"
             ],
             [
              0.6666666666666666,
              "#ed7953"
             ],
             [
              0.7777777777777778,
              "#fb9f3a"
             ],
             [
              0.8888888888888888,
              "#fdca26"
             ],
             [
              1,
              "#f0f921"
             ]
            ],
            "type": "heatmapgl"
           }
          ],
          "histogram": [
           {
            "marker": {
             "pattern": {
              "fillmode": "overlay",
              "size": 10,
              "solidity": 0.2
             }
            },
            "type": "histogram"
           }
          ],
          "histogram2d": [
           {
            "colorbar": {
             "outlinewidth": 0,
             "ticks": ""
            },
            "colorscale": [
             [
              0,
              "#0d0887"
             ],
             [
              0.1111111111111111,
              "#46039f"
             ],
             [
              0.2222222222222222,
              "#7201a8"
             ],
             [
              0.3333333333333333,
              "#9c179e"
             ],
             [
              0.4444444444444444,
              "#bd3786"
             ],
             [
              0.5555555555555556,
              "#d8576b"
             ],
             [
              0.6666666666666666,
              "#ed7953"
             ],
             [
              0.7777777777777778,
              "#fb9f3a"
             ],
             [
              0.8888888888888888,
              "#fdca26"
             ],
             [
              1,
              "#f0f921"
             ]
            ],
            "type": "histogram2d"
           }
          ],
          "histogram2dcontour": [
           {
            "colorbar": {
             "outlinewidth": 0,
             "ticks": ""
            },
            "colorscale": [
             [
              0,
              "#0d0887"
             ],
             [
              0.1111111111111111,
              "#46039f"
             ],
             [
              0.2222222222222222,
              "#7201a8"
             ],
             [
              0.3333333333333333,
              "#9c179e"
             ],
             [
              0.4444444444444444,
              "#bd3786"
             ],
             [
              0.5555555555555556,
              "#d8576b"
             ],
             [
              0.6666666666666666,
              "#ed7953"
             ],
             [
              0.7777777777777778,
              "#fb9f3a"
             ],
             [
              0.8888888888888888,
              "#fdca26"
             ],
             [
              1,
              "#f0f921"
             ]
            ],
            "type": "histogram2dcontour"
           }
          ],
          "mesh3d": [
           {
            "colorbar": {
             "outlinewidth": 0,
             "ticks": ""
            },
            "type": "mesh3d"
           }
          ],
          "parcoords": [
           {
            "line": {
             "colorbar": {
              "outlinewidth": 0,
              "ticks": ""
             }
            },
            "type": "parcoords"
           }
          ],
          "pie": [
           {
            "automargin": true,
            "type": "pie"
           }
          ],
          "scatter": [
           {
            "fillpattern": {
             "fillmode": "overlay",
             "size": 10,
             "solidity": 0.2
            },
            "type": "scatter"
           }
          ],
          "scatter3d": [
           {
            "line": {
             "colorbar": {
              "outlinewidth": 0,
              "ticks": ""
             }
            },
            "marker": {
             "colorbar": {
              "outlinewidth": 0,
              "ticks": ""
             }
            },
            "type": "scatter3d"
           }
          ],
          "scattercarpet": [
           {
            "marker": {
             "colorbar": {
              "outlinewidth": 0,
              "ticks": ""
             }
            },
            "type": "scattercarpet"
           }
          ],
          "scattergeo": [
           {
            "marker": {
             "colorbar": {
              "outlinewidth": 0,
              "ticks": ""
             }
            },
            "type": "scattergeo"
           }
          ],
          "scattergl": [
           {
            "marker": {
             "colorbar": {
              "outlinewidth": 0,
              "ticks": ""
             }
            },
            "type": "scattergl"
           }
          ],
          "scattermapbox": [
           {
            "marker": {
             "colorbar": {
              "outlinewidth": 0,
              "ticks": ""
             }
            },
            "type": "scattermapbox"
           }
          ],
          "scatterpolar": [
           {
            "marker": {
             "colorbar": {
              "outlinewidth": 0,
              "ticks": ""
             }
            },
            "type": "scatterpolar"
           }
          ],
          "scatterpolargl": [
           {
            "marker": {
             "colorbar": {
              "outlinewidth": 0,
              "ticks": ""
             }
            },
            "type": "scatterpolargl"
           }
          ],
          "scatterternary": [
           {
            "marker": {
             "colorbar": {
              "outlinewidth": 0,
              "ticks": ""
             }
            },
            "type": "scatterternary"
           }
          ],
          "surface": [
           {
            "colorbar": {
             "outlinewidth": 0,
             "ticks": ""
            },
            "colorscale": [
             [
              0,
              "#0d0887"
             ],
             [
              0.1111111111111111,
              "#46039f"
             ],
             [
              0.2222222222222222,
              "#7201a8"
             ],
             [
              0.3333333333333333,
              "#9c179e"
             ],
             [
              0.4444444444444444,
              "#bd3786"
             ],
             [
              0.5555555555555556,
              "#d8576b"
             ],
             [
              0.6666666666666666,
              "#ed7953"
             ],
             [
              0.7777777777777778,
              "#fb9f3a"
             ],
             [
              0.8888888888888888,
              "#fdca26"
             ],
             [
              1,
              "#f0f921"
             ]
            ],
            "type": "surface"
           }
          ],
          "table": [
           {
            "cells": {
             "fill": {
              "color": "#EBF0F8"
             },
             "line": {
              "color": "white"
             }
            },
            "header": {
             "fill": {
              "color": "#C8D4E3"
             },
             "line": {
              "color": "white"
             }
            },
            "type": "table"
           }
          ]
         },
         "layout": {
          "annotationdefaults": {
           "arrowcolor": "#2a3f5f",
           "arrowhead": 0,
           "arrowwidth": 1
          },
          "autotypenumbers": "strict",
          "coloraxis": {
           "colorbar": {
            "outlinewidth": 0,
            "ticks": ""
           }
          },
          "colorscale": {
           "diverging": [
            [
             0,
             "#8e0152"
            ],
            [
             0.1,
             "#c51b7d"
            ],
            [
             0.2,
             "#de77ae"
            ],
            [
             0.3,
             "#f1b6da"
            ],
            [
             0.4,
             "#fde0ef"
            ],
            [
             0.5,
             "#f7f7f7"
            ],
            [
             0.6,
             "#e6f5d0"
            ],
            [
             0.7,
             "#b8e186"
            ],
            [
             0.8,
             "#7fbc41"
            ],
            [
             0.9,
             "#4d9221"
            ],
            [
             1,
             "#276419"
            ]
           ],
           "sequential": [
            [
             0,
             "#0d0887"
            ],
            [
             0.1111111111111111,
             "#46039f"
            ],
            [
             0.2222222222222222,
             "#7201a8"
            ],
            [
             0.3333333333333333,
             "#9c179e"
            ],
            [
             0.4444444444444444,
             "#bd3786"
            ],
            [
             0.5555555555555556,
             "#d8576b"
            ],
            [
             0.6666666666666666,
             "#ed7953"
            ],
            [
             0.7777777777777778,
             "#fb9f3a"
            ],
            [
             0.8888888888888888,
             "#fdca26"
            ],
            [
             1,
             "#f0f921"
            ]
           ],
           "sequentialminus": [
            [
             0,
             "#0d0887"
            ],
            [
             0.1111111111111111,
             "#46039f"
            ],
            [
             0.2222222222222222,
             "#7201a8"
            ],
            [
             0.3333333333333333,
             "#9c179e"
            ],
            [
             0.4444444444444444,
             "#bd3786"
            ],
            [
             0.5555555555555556,
             "#d8576b"
            ],
            [
             0.6666666666666666,
             "#ed7953"
            ],
            [
             0.7777777777777778,
             "#fb9f3a"
            ],
            [
             0.8888888888888888,
             "#fdca26"
            ],
            [
             1,
             "#f0f921"
            ]
           ]
          },
          "colorway": [
           "#636efa",
           "#EF553B",
           "#00cc96",
           "#ab63fa",
           "#FFA15A",
           "#19d3f3",
           "#FF6692",
           "#B6E880",
           "#FF97FF",
           "#FECB52"
          ],
          "font": {
           "color": "#2a3f5f"
          },
          "geo": {
           "bgcolor": "white",
           "lakecolor": "white",
           "landcolor": "#E5ECF6",
           "showlakes": true,
           "showland": true,
           "subunitcolor": "white"
          },
          "hoverlabel": {
           "align": "left"
          },
          "hovermode": "closest",
          "mapbox": {
           "style": "light"
          },
          "paper_bgcolor": "white",
          "plot_bgcolor": "#E5ECF6",
          "polar": {
           "angularaxis": {
            "gridcolor": "white",
            "linecolor": "white",
            "ticks": ""
           },
           "bgcolor": "#E5ECF6",
           "radialaxis": {
            "gridcolor": "white",
            "linecolor": "white",
            "ticks": ""
           }
          },
          "scene": {
           "xaxis": {
            "backgroundcolor": "#E5ECF6",
            "gridcolor": "white",
            "gridwidth": 2,
            "linecolor": "white",
            "showbackground": true,
            "ticks": "",
            "zerolinecolor": "white"
           },
           "yaxis": {
            "backgroundcolor": "#E5ECF6",
            "gridcolor": "white",
            "gridwidth": 2,
            "linecolor": "white",
            "showbackground": true,
            "ticks": "",
            "zerolinecolor": "white"
           },
           "zaxis": {
            "backgroundcolor": "#E5ECF6",
            "gridcolor": "white",
            "gridwidth": 2,
            "linecolor": "white",
            "showbackground": true,
            "ticks": "",
            "zerolinecolor": "white"
           }
          },
          "shapedefaults": {
           "line": {
            "color": "#2a3f5f"
           }
          },
          "ternary": {
           "aaxis": {
            "gridcolor": "white",
            "linecolor": "white",
            "ticks": ""
           },
           "baxis": {
            "gridcolor": "white",
            "linecolor": "white",
            "ticks": ""
           },
           "bgcolor": "#E5ECF6",
           "caxis": {
            "gridcolor": "white",
            "linecolor": "white",
            "ticks": ""
           }
          },
          "title": {
           "x": 0.05
          },
          "xaxis": {
           "automargin": true,
           "gridcolor": "white",
           "linecolor": "white",
           "ticks": "",
           "title": {
            "standoff": 15
           },
           "zerolinecolor": "white",
           "zerolinewidth": 2
          },
          "yaxis": {
           "automargin": true,
           "gridcolor": "white",
           "linecolor": "white",
           "ticks": "",
           "title": {
            "standoff": 15
           },
           "zerolinecolor": "white",
           "zerolinewidth": 2
          }
         }
        },
        "title": {
         "text": "Binomial Distribution: Binomial trials=10, Probability of success=0.3"
        },
        "xaxis": {
         "dtick": 1,
         "title": {
          "text": "Number of Successes"
         }
        },
        "yaxis": {
         "title": {
          "text": "Probability Mass"
         }
        }
       }
      }
     },
     "metadata": {},
     "output_type": "display_data"
    }
   ],
   "source": [
    "import math\n",
    "\n",
    "# Parámetros\n",
    "n = 10\n",
    "p = 0.3\n",
    "\n",
    "# Función para calcular combinaciones, representa cuántas formas hay de obtener exactamente k éxitos en n ensayos.\n",
    "def binomial_coeff(n, k):\n",
    "    return math.factorial(n) // (math.factorial(k) * math.factorial(n - k))\n",
    "\n",
    "# Calcular PMF manualmente\n",
    "x = np.arange(0, n + 1)\n",
    "y = [binomial_coeff(n, k) * (p ** k) * ((1 - p) ** (n - k)) for k in x]\n",
    "\n",
    "# Gráfica tipo lollipop (como en la imagen)\n",
    "fig = go.Figure()\n",
    "\n",
    "for xi, yi in zip(x, y):\n",
    "    fig.add_trace(go.Scatter(\n",
    "        x=[xi, xi],\n",
    "        y=[0, yi],\n",
    "        mode='lines',\n",
    "        line=dict(color='black'),\n",
    "        showlegend=False\n",
    "    ))\n",
    "\n",
    "fig.add_trace(go.Scatter(\n",
    "    x=x,\n",
    "    y=y,\n",
    "    mode='markers',\n",
    "    marker=dict(color='black', size=8),\n",
    "    showlegend=False\n",
    "))\n",
    "\n",
    "fig.update_layout(\n",
    "    title='Binomial Distribution: Binomial trials=10, Probability of success=0.3',\n",
    "    xaxis_title='Number of Successes',\n",
    "    yaxis_title='Probability Mass',\n",
    "    xaxis=dict(dtick=1),\n",
    "    plot_bgcolor='white'\n",
    ")\n",
    "\n",
    "fig.show()"
   ]
  },
  {
   "cell_type": "code",
   "execution_count": 11,
   "metadata": {},
   "outputs": [
    {
     "data": {
      "image/png": "[encoded data removed]",
      "text/plain": [
       "<Figure size 800x500 with 1 Axes>"
      ]
     },
     "metadata": {},
     "output_type": "display_data"
    }
   ],
   "source": [
    "# Definir la función sigmoide\n",
    "def sigmoid(z):\n",
    "    return 1 / (1 + np.exp(-z))\n",
    "\n",
    "# Crear un rango de valores para z\n",
    "z = np.linspace(-10, 10, 400)\n",
    "f_z = sigmoid(z)\n",
    "\n",
    "# Graficar\n",
    "plt.figure(figsize=(8, 5))\n",
    "plt.plot(z, f_z, color='blue')\n",
    "plt.title('Función Sigmoide')\n",
    "plt.xlabel('z')\n",
    "plt.ylabel('f(z)')\n",
    "plt.grid(True)\n",
    "plt.axhline(0, color='black', linewidth=0.5)\n",
    "plt.axhline(1, color='black', linewidth=0.5)\n",
    "plt.axvline(0, color='black', linestyle='--', linewidth=0.7)\n",
    "plt.show()"
   ]
  },
  {
   "cell_type": "code",
   "execution_count": 12,
   "metadata": {},
   "outputs": [
    {
     "data": {
      "application/vnd.plotly.v1+json": {
       "config": {
        "plotlyServerURL": "https://plot.ly"
       },
       "data": [
        {
         "line": {
          "color": "blue"
         },
         "mode": "lines",
         "name": "f(z)",
         "type": "scatter",
         "x": [
          -10,
          -9.949874686716791,
          -9.899749373433584,
          -9.849624060150376,
          -9.799498746867169,
          -9.74937343358396,
          -9.699248120300751,
          -9.649122807017545,
          -9.598997493734336,
          -9.548872180451127,
          -9.49874686716792,
          -9.448621553884712,
          -9.398496240601503,
          -9.348370927318296,
          -9.298245614035087,
          -9.24812030075188,
          -9.197994987468672,
          -9.147869674185463,
          -9.097744360902256,
          -9.047619047619047,
          -8.99749373433584,
          -8.947368421052632,
          -8.897243107769423,
          -8.847117794486216,
          -8.796992481203008,
          -8.746867167919799,
          -8.696741854636592,
          -8.646616541353383,
          -8.596491228070175,
          -8.546365914786968,
          -8.496240601503759,
          -8.446115288220552,
          -8.395989974937343,
          -8.345864661654135,
          -8.295739348370928,
          -8.24561403508772,
          -8.195488721804512,
          -8.145363408521304,
          -8.095238095238095,
          -8.045112781954888,
          -7.994987468671679,
          -7.9448621553884715,
          -7.894736842105264,
          -7.844611528822055,
          -7.794486215538847,
          -7.7443609022556394,
          -7.694235588972431,
          -7.644110275689223,
          -7.593984962406015,
          -7.543859649122807,
          -7.4937343358396,
          -7.443609022556391,
          -7.393483709273183,
          -7.343358395989975,
          -7.293233082706767,
          -7.243107769423559,
          -7.192982456140351,
          -7.142857142857143,
          -7.092731829573935,
          -7.042606516290727,
          -6.992481203007519,
          -6.942355889724311,
          -6.8922305764411025,
          -6.842105263157895,
          -6.791979949874687,
          -6.741854636591479,
          -6.691729323308271,
          -6.641604010025063,
          -6.591478696741855,
          -6.541353383458647,
          -6.491228070175438,
          -6.4411027568922306,
          -6.390977443609023,
          -6.340852130325815,
          -6.290726817042607,
          -6.2406015037593985,
          -6.190476190476191,
          -6.140350877192983,
          -6.090225563909774,
          -6.040100250626566,
          -5.989974937343359,
          -5.939849624060151,
          -5.889724310776943,
          -5.839598997493734,
          -5.7894736842105265,
          -5.739348370927319,
          -5.68922305764411,
          -5.639097744360902,
          -5.5889724310776945,
          -5.538847117794487,
          -5.488721804511279,
          -5.43859649122807,
          -5.388471177944862,
          -5.338345864661655,
          -5.288220551378446,
          -5.238095238095238,
          -5.18796992481203,
          -5.1378446115288225,
          -5.087719298245615,
          -5.037593984962406,
          -4.987468671679198,
          -4.9373433583959905,
          -4.887218045112782,
          -4.837092731829574,
          -4.786967418546366,
          -4.736842105263158,
          -4.686716791979951,
          -4.636591478696742,
          -4.586466165413534,
          -4.536340852130326,
          -4.486215538847118,
          -4.43609022556391,
          -4.385964912280702,
          -4.335839598997494,
          -4.2857142857142865,
          -4.235588972431078,
          -4.18546365914787,
          -4.135338345864662,
          -4.0852130325814535,
          -4.035087719298246,
          -3.984962406015038,
          -3.93483709273183,
          -3.8847117794486223,
          -3.8345864661654137,
          -3.784461152882206,
          -3.734335839598998,
          -3.6842105263157894,
          -3.6340852130325816,
          -3.583959899749374,
          -3.533834586466166,
          -3.483709273182958,
          -3.4335839598997495,
          -3.3834586466165417,
          -3.333333333333334,
          -3.2832080200501252,
          -3.2330827067669174,
          -3.1829573934837097,
          -3.132832080200502,
          -3.082706766917294,
          -3.0325814536340854,
          -2.9824561403508776,
          -2.93233082706767,
          -2.882205513784461,
          -2.8320802005012533,
          -2.7819548872180455,
          -2.7318295739348377,
          -2.68170426065163,
          -2.6315789473684212,
          -2.5814536340852134,
          -2.5313283208020056,
          -2.481203007518797,
          -2.431077694235589,
          -2.3809523809523814,
          -2.3308270676691736,
          -2.280701754385966,
          -2.230576441102757,
          -2.1804511278195493,
          -2.1303258145363415,
          -2.080200501253133,
          -2.030075187969925,
          -1.9799498746867172,
          -1.9298245614035086,
          -1.8796992481203016,
          -1.829573934837093,
          -1.779448621553886,
          -1.7293233082706774,
          -1.6791979949874687,
          -1.6290726817042618,
          -1.578947368421053,
          -1.5288220551378444,
          -1.4786967418546375,
          -1.4285714285714288,
          -1.3784461152882201,
          -1.3283208020050132,
          -1.2781954887218046,
          -1.2280701754385976,
          -1.177944862155389,
          -1.1278195488721803,
          -1.0776942355889734,
          -1.0275689223057647,
          -0.9774436090225578,
          -0.9273182957393491,
          -0.8771929824561404,
          -0.8270676691729335,
          -0.7769423558897248,
          -0.7268170426065161,
          -0.6766917293233092,
          -0.6265664160401005,
          -0.5764411027568919,
          -0.526315789473685,
          -0.4761904761904763,
          -0.42606516290726937,
          -0.3759398496240607,
          -0.325814536340852,
          -0.2756892230576451,
          -0.2255639097744364,
          -0.1754385964912295,
          -0.12531328320802082,
          -0.07518796992481214,
          -0.02506265664160523,
          0.025062656641603454,
          0.07518796992481214,
          0.12531328320801904,
          0.17543859649122773,
          0.2255639097744364,
          0.2756892230576433,
          0.325814536340852,
          0.3759398496240589,
          0.4260651629072676,
          0.4761904761904763,
          0.5263157894736832,
          0.5764411027568919,
          0.6265664160400988,
          0.6766917293233075,
          0.7268170426065161,
          0.776942355889723,
          0.8270676691729317,
          0.8771929824561404,
          0.9273182957393473,
          0.977443609022556,
          1.0275689223057647,
          1.0776942355889716,
          1.1278195488721803,
          1.1779448621553872,
          1.2280701754385959,
          1.2781954887218046,
          1.3283208020050115,
          1.3784461152882201,
          1.428571428571427,
          1.4786967418546357,
          1.5288220551378444,
          1.5789473684210513,
          1.62907268170426,
          1.6791979949874687,
          1.7293233082706756,
          1.7794486215538843,
          1.829573934837093,
          1.8796992481202999,
          1.9298245614035086,
          1.9799498746867155,
          2.030075187969924,
          2.080200501253133,
          2.1303258145363397,
          2.1804511278195484,
          2.2305764411027553,
          2.280701754385964,
          2.3308270676691727,
          2.3809523809523796,
          2.4310776942355883,
          2.481203007518797,
          2.531328320802004,
          2.5814536340852126,
          2.6315789473684212,
          2.681704260651628,
          2.731829573934837,
          2.7819548872180437,
          2.8320802005012524,
          2.882205513784461,
          2.932330827067668,
          2.9824561403508767,
          3.0325814536340836,
          3.0827067669172923,
          3.132832080200501,
          3.182957393483708,
          3.2330827067669166,
          3.2832080200501252,
          3.333333333333332,
          3.383458646616541,
          3.4335839598997495,
          3.4837092731829564,
          3.533834586466165,
          3.583959899749372,
          3.6340852130325807,
          3.6842105263157894,
          3.7343358395989963,
          3.784461152882205,
          3.834586466165412,
          3.8847117794486206,
          3.9348370927318292,
          3.984962406015036,
          4.035087719298245,
          4.0852130325814535,
          4.13533834586466,
          4.185463659147869,
          4.235588972431078,
          4.285714285714285,
          4.335839598997493,
          4.3859649122807,
          4.436090225563909,
          4.486215538847118,
          4.536340852130325,
          4.586466165413533,
          4.63659147869674,
          4.686716791979949,
          4.7368421052631575,
          4.786967418546364,
          4.837092731829573,
          4.887218045112782,
          4.937343358395989,
          4.987468671679197,
          5.037593984962406,
          5.087719298245613,
          5.137844611528822,
          5.187969924812029,
          5.238095238095237,
          5.288220551378446,
          5.338345864661653,
          5.3884711779448615,
          5.438596491228068,
          5.488721804511277,
          5.538847117794486,
          5.588972431077693,
          5.639097744360901,
          5.68922305764411,
          5.739348370927317,
          5.789473684210526,
          5.839598997493734,
          5.889724310776941,
          5.93984962406015,
          5.989974937343357,
          6.0401002506265655,
          6.090225563909772,
          6.140350877192983,
          6.19047619047619,
          6.240601503759397,
          6.290726817042607,
          6.340852130325814,
          6.390977443609021,
          6.441102756892228,
          6.491228070175438,
          6.541353383458645,
          6.591478696741852,
          6.641604010025063,
          6.6917293233082695,
          6.741854636591476,
          6.791979949874687,
          6.842105263157894,
          6.892230576441101,
          6.942355889724311,
          6.992481203007518,
          7.042606516290725,
          7.092731829573935,
          7.142857142857142,
          7.192982456140349,
          7.24310776942356,
          7.293233082706767,
          7.3433583959899735,
          7.39348370927318,
          7.443609022556391,
          7.493734335839598,
          7.543859649122805,
          7.593984962406015,
          7.644110275689222,
          7.694235588972429,
          7.7443609022556394,
          7.794486215538846,
          7.844611528822053,
          7.894736842105264,
          7.944862155388471,
          7.9949874686716775,
          8.045112781954884,
          8.095238095238095,
          8.145363408521302,
          8.195488721804509,
          8.24561403508772,
          8.295739348370926,
          8.345864661654133,
          8.395989974937343,
          8.44611528822055,
          8.496240601503757,
          8.546365914786968,
          8.596491228070175,
          8.646616541353382,
          8.696741854636592,
          8.746867167919799,
          8.796992481203006,
          8.847117794486216,
          8.897243107769423,
          8.94736842105263,
          8.997493734335837,
          9.047619047619047,
          9.097744360902254,
          9.147869674185461,
          9.197994987468672,
          9.248120300751879,
          9.298245614035086,
          9.348370927318296,
          9.398496240601503,
          9.44862155388471,
          9.49874686716792,
          9.548872180451127,
          9.598997493734334,
          9.649122807017541,
          9.699248120300751,
          9.749373433583958,
          9.799498746867165,
          9.849624060150376,
          9.899749373433583,
          9.94987468671679,
          10
         ],
         "y": [
          0.000045397868702434395,
          0.00004773133682880348,
          0.000050184740105883276,
          0.000052764242303019376,
          0.00005547632389425706,
          0.000058327798324098484,
          0.00006132582910791344,
          0.00006447794780975673,
          0.00006779207294252328,
          0.00007127652983766402,
          0.0000749400715340959,
          0.00007879190073846649,
          0.00008284169291158995,
          0.00008709962053866628,
          0.00009157637864382417,
          0.00009628321161260666,
          0.00010123194138925883,
          0.00010643499711906477,
          0.00011190544630955747,
          0.00011765702758816542,
          0.00012370418513779296,
          0.00013006210489596818,
          0.0001367467526075175,
          0.00014377491382528933,
          0.00015116423595822073,
          0.00015893327247105558,
          0.00016710152934529528,
          0.0001756895139164791,
          0.0001847187862086896,
          0.00019421201289326786,
          0.0002041930240050978,
          0.0002146868725565114,
          0.00022571989719590027,
          0.00023731978806546377,
          0.00024951565602026357,
          0.00026233810537883975,
          0.00027581931038412585,
          0.0002899930955623135,
          0.0003048950201766115,
          0.0003205624669826366,
          0.0003370347355023891,
          0.00035435314004447673,
          0.0003725611127094928,
          0.00039170431163117376,
          0.00041183073471627157,
          0.00043299083915894135,
          0.0004552376670188896,
          0.0004786269771666129,
          0.0005032173839137706,
          0.0005290705026621036,
          0.0005562511029203906,
          0.0005848272690557055,
          0.0006148705691627633,
          0.0006464562324534311,
          0.0006796633355875402,
          0.0007145749983860355,
          0.0007512785893882237,
          0.0007898659417364615,
          0.0008304335798941047,
          0.0008730829577259298,
          0.0009179207084945323,
          0.0009650589073514997,
          0.0010146153469283493,
          0.0010667138266594565,
          0.0011214844564974135,
          0.0011790639757104395,
          0.0012395960874817178,
          0.0013032318100617616,
          0.0013701298452571465,
          0.0014404569650722243,
          0.0015143884173546241,
          0.0015921083513305736,
          0.0016738102639522036,
          0.001759697468015975,
          0.001849983583049263,
          0.0019448930500007375,
          0.002044661670809488,
          0.0021495371739678063,
          0.0022597798072328725,
          0.0023756629586834214,
          0.0024974738073584297,
          0.0026255140047557984,
          0.0027601003885099123,
          0.002901565729607301,
          0.0030502595145393656,
          0.003206548763829929,
          0.0033708188884126774,
          0.003543474585369341,
          0.003724940774572977,
          0.003915663577811525,
          0.004116111341994536,
          0.004326775708069767,
          0.004548172727295603,
          0.004780844026529357,
          0.0050253580241991815,
          0.005282311198628163,
          0.005552329410371743,
          0.005836069280212672,
          0.006134219624430473,
          0.006447502948922846,
          0.0067766770037033805,
          0.007122536399231741,
          0.007485914285946693,
          0.007867684098267831,
          0.008268761364205547,
          0.008690105581568571,
          0.009132722161581949,
          0.009597664440522147,
          0.010086035759737462,
          0.010598991614147683,
          0.011137741869002933,
          0.011703553044324723,
          0.012297750666047822,
          0.012921721682425023,
          0.013576916943744353,
          0.014264853742833926,
          0.014987118413188737,
          0.015745368980840883,
          0.016541337865303405,
          0.01737683462404353,
          0.018253748733976574,
          0.019174052402410463,
          0.02013980339870787,
          0.021153147896660583,
          0.022216323316182996,
          0.023331661151423176,
          0.024501589770753368,
          0.02572863717233349,
          0.02701543367703523,
          0.02836471453846613,
          0.02977932244764176,
          0.03126220990751547,
          0.032816441450090564,
          0.034445195666211154,
          0.03615176701535719,
          0.037939567379866174,
          0.0398121273249761,
          0.041773097022944954,
          0.04382624679627077,
          0.04597546723173339,
          0.04822476881363241,
          0.05057828102124078,
          0.05304025083216611,
          0.055615040570064424,
          0.05830712503203534,
          0.06112108782810607,
          0.06406161686256238,
          0.06713349888458207,
          0.07034161303376821,
          0.07369092330486485,
          0.07718646985527597,
          0.08083335907912606,
          0.08463675237262301,
          0.08860185351754904,
          0.09273389461296314,
          0.09703812048979242,
          0.10151977154907528,
          0.10618406497234865,
          0.11103617426218783,
          0.11608120708235385,
          0.12132418138050477,
          0.12676999979208073,
          0.1324234223418733,
          0.13828903747997087,
          0.14437123151124115,
          0.15067415650224655,
          0.1572016967763533,
          0.1639574341366774,
          0.17094461198713198,
          0.17816609855391696,
          0.18562434944293382,
          0.19332136980230868,
          0.20125867639292302,
          0.2094372599029291,
          0.21785754787390404,
          0.22651936863579195,
          0.23542191667421902,
          0.2445637198761995,
          0.2539426091177905,
          0.26355569066890666,
          0.2733993218953936,
          0.2834690907357408,
          0.29375979941869024,
          0.30426545286791934,
          0.31497925221042256,
          0.3258935937659866,
          0.3370000738462266,
          0.3482894996332474,
          0.3597519063406699,
          0.37137658078432684,
          0.3831520914074692,
          0.3950663247172312,
          0.40710652799703656,
          0.4192593580653767,
          0.43151093575708593,
          0.44384690571091684,
          0.45625250095915104,
          0.46871261173332973,
          0.48121185782698417,
          0.49373466379349634,
          0.5062653362065032,
          0.5187881421730158,
          0.5312873882666699,
          0.5437474990408485,
          0.5561530942890831,
          0.5684890642429136,
          0.5807406419346233,
          0.592893472002963,
          0.6049336752827684,
          0.6168479085925308,
          0.6286234192156727,
          0.6402480936593301,
          0.6517105003667522,
          0.6629999261537731,
          0.6741064062340134,
          0.685020747789577,
          0.6957345471320803,
          0.7062402005813097,
          0.7165309092642589,
          0.726600678104606,
          0.7364443093310934,
          0.7460573908822091,
          0.7554362801238005,
          0.7645780833257806,
          0.7734806313642076,
          0.7821424521260959,
          0.7905627400970706,
          0.798741323607077,
          0.8066786301976911,
          0.8143756505570658,
          0.821833901446083,
          0.8290553880128678,
          0.8360425658633223,
          0.8427983032236467,
          0.8493258434977533,
          0.8556287684887587,
          0.8617109625200291,
          0.8675765776581265,
          0.8732300002079193,
          0.8786758186194951,
          0.8839187929176461,
          0.8889638257378121,
          0.8938159350276512,
          0.8984802284509246,
          0.9029618795102073,
          0.9072661053870367,
          0.9113981464824509,
          0.915363247627377,
          0.9191666409208739,
          0.9228135301447241,
          0.9263090766951351,
          0.9296583869662317,
          0.9328665011154179,
          0.9359383831374376,
          0.9388789121718939,
          0.9416928749679646,
          0.9443849594299355,
          0.9469597491678339,
          0.9494217189787592,
          0.9517752311863675,
          0.9540245327682665,
          0.9561737532037291,
          0.958226902977055,
          0.9601878726750239,
          0.9620604326201337,
          0.9638482329846427,
          0.9655548043337887,
          0.9671835585499093,
          0.9687377900924846,
          0.9702206775523581,
          0.9716352854615338,
          0.9729845663229648,
          0.9742713628276665,
          0.9754984102292465,
          0.9766683388485768,
          0.9777836766838169,
          0.9788468521033393,
          0.979860196601292,
          0.9808259475975896,
          0.9817462512660234,
          0.9826231653759565,
          0.9834586621346965,
          0.984254631019159,
          0.9850128815868111,
          0.9857351462571661,
          0.9864230830562556,
          0.9870782783175749,
          0.9877022493339522,
          0.9882964469556753,
          0.9888622581309972,
          0.9894010083858523,
          0.9899139642402625,
          0.9904023355594778,
          0.9908672778384181,
          0.9913098944184313,
          0.9917312386357945,
          0.9921323159017321,
          0.9925140857140534,
          0.9928774636007683,
          0.9932233229962966,
          0.9935524970510773,
          0.9938657803755695,
          0.9941639307197873,
          0.9944476705896281,
          0.9947176888013718,
          0.9949746419758009,
          0.9952191559734707,
          0.9954518272727044,
          0.9956732242919302,
          0.9958838886580054,
          0.9960843364221885,
          0.9962750592254269,
          0.9964565254146307,
          0.9966291811115874,
          0.9967934512361701,
          0.9969497404854607,
          0.9970984342703927,
          0.9972398996114901,
          0.9973744859952443,
          0.9975025261926417,
          0.9976243370413166,
          0.9977402201927671,
          0.9978504628260322,
          0.9979553383291904,
          0.9980551069499993,
          0.9981500164169507,
          0.998240302531984,
          0.9983261897360477,
          0.9984078916486694,
          0.9984856115826455,
          0.9985595430349278,
          0.9986298701547428,
          0.9986967681899382,
          0.9987604039125182,
          0.9988209360242897,
          0.9988785155435027,
          0.9989332861733405,
          0.9989853846530716,
          0.9990349410926485,
          0.9990820792915055,
          0.9991269170422741,
          0.9991695664201058,
          0.9992101340582635,
          0.9992487214106117,
          0.999285425001614,
          0.9993203366644123,
          0.9993535437675465,
          0.9993851294308372,
          0.9994151727309443,
          0.9994437488970795,
          0.999470929497338,
          0.9994967826160862,
          0.9995213730228333,
          0.9995447623329811,
          0.9995670091608412,
          0.9995881692652837,
          0.9996082956883688,
          0.9996274388872904,
          0.9996456468599556,
          0.9996629652644975,
          0.9996794375330175,
          0.9996951049798235,
          0.9997100069044376,
          0.9997241806896159,
          0.9997376618946212,
          0.9997504843439798,
          0.9997626802119346,
          0.9997742801028041,
          0.9997853131274435,
          0.9997958069759949,
          0.9998057879871068,
          0.9998152812137914,
          0.9998243104860836,
          0.9998328984706546,
          0.999841066727529,
          0.9998488357640417,
          0.9998562250861748,
          0.9998632532473923,
          0.9998699378951041,
          0.9998762958148621,
          0.9998823429724117,
          0.9998880945536904,
          0.999893565002881,
          0.9998987680586107,
          0.9999037167883873,
          0.9999084236213561,
          0.9999129003794612,
          0.9999171583070884,
          0.9999212080992615,
          0.9999250599284658,
          0.9999287234701624,
          0.9999322079270575,
          0.9999355220521903,
          0.9999386741708921,
          0.999941672201676,
          0.9999445236761056,
          0.9999472357576971,
          0.9999498152598941,
          0.9999522686631712,
          0.9999546021312976
         ]
        }
       ],
       "layout": {
        "shapes": [
         {
          "line": {
           "color": "black",
           "width": 0.5
          },
          "type": "line",
          "x0": 0,
          "x1": 1,
          "xref": "x domain",
          "y0": 0,
          "y1": 0,
          "yref": "y"
         },
         {
          "line": {
           "color": "black",
           "width": 0.5
          },
          "type": "line",
          "x0": 0,
          "x1": 1,
          "xref": "x domain",
          "y0": 1,
          "y1": 1,
          "yref": "y"
         },
         {
          "line": {
           "color": "gray",
           "dash": "dash",
           "width": 0.7
          },
          "type": "line",
          "x0": 0,
          "x1": 0,
          "xref": "x",
          "y0": 0,
          "y1": 1,
          "yref": "y domain"
         }
        ],
        "template": {
         "data": {
          "bar": [
           {
            "error_x": {
             "color": "rgb(36,36,36)"
            },
            "error_y": {
             "color": "rgb(36,36,36)"
            },
            "marker": {
             "line": {
              "color": "white",
              "width": 0.5
             },
             "pattern": {
              "fillmode": "overlay",
              "size": 10,
              "solidity": 0.2
             }
            },
            "type": "bar"
           }
          ],
          "barpolar": [
           {
            "marker": {
             "line": {
              "color": "white",
              "width": 0.5
             },
             "pattern": {
              "fillmode": "overlay",
              "size": 10,
              "solidity": 0.2
             }
            },
            "type": "barpolar"
           }
          ],
          "carpet": [
           {
            "aaxis": {
             "endlinecolor": "rgb(36,36,36)",
             "gridcolor": "white",
             "linecolor": "white",
             "minorgridcolor": "white",
             "startlinecolor": "rgb(36,36,36)"
            },
            "baxis": {
             "endlinecolor": "rgb(36,36,36)",
             "gridcolor": "white",
             "linecolor": "white",
             "minorgridcolor": "white",
             "startlinecolor": "rgb(36,36,36)"
            },
            "type": "carpet"
           }
          ],
          "choropleth": [
           {
            "colorbar": {
             "outlinewidth": 1,
             "tickcolor": "rgb(36,36,36)",
             "ticks": "outside"
            },
            "type": "choropleth"
           }
          ],
          "contour": [
           {
            "colorbar": {
             "outlinewidth": 1,
             "tickcolor": "rgb(36,36,36)",
             "ticks": "outside"
            },
            "colorscale": [
             [
              0,
              "#440154"
             ],
             [
              0.1111111111111111,
              "#482878"
             ],
             [
              0.2222222222222222,
              "#3e4989"
             ],
             [
              0.3333333333333333,
              "#31688e"
             ],
             [
              0.4444444444444444,
              "#26828e"
             ],
             [
              0.5555555555555556,
              "#1f9e89"
             ],
             [
              0.6666666666666666,
              "#35b779"
             ],
             [
              0.7777777777777778,
              "#6ece58"
             ],
             [
              0.8888888888888888,
              "#b5de2b"
             ],
             [
              1,
              "#fde725"
             ]
            ],
            "type": "contour"
           }
          ],
          "contourcarpet": [
           {
            "colorbar": {
             "outlinewidth": 1,
             "tickcolor": "rgb(36,36,36)",
             "ticks": "outside"
            },
            "type": "contourcarpet"
           }
          ],
          "heatmap": [
           {
            "colorbar": {
             "outlinewidth": 1,
             "tickcolor": "rgb(36,36,36)",
             "ticks": "outside"
            },
            "colorscale": [
             [
              0,
              "#440154"
             ],
             [
              0.1111111111111111,
              "#482878"
             ],
             [
              0.2222222222222222,
              "#3e4989"
             ],
             [
              0.3333333333333333,
              "#31688e"
             ],
             [
              0.4444444444444444,
              "#26828e"
             ],
             [
              0.5555555555555556,
              "#1f9e89"
             ],
             [
              0.6666666666666666,
              "#35b779"
             ],
             [
              0.7777777777777778,
              "#6ece58"
             ],
             [
              0.8888888888888888,
              "#b5de2b"
             ],
             [
              1,
              "#fde725"
             ]
            ],
            "type": "heatmap"
           }
          ],
          "heatmapgl": [
           {
            "colorbar": {
             "outlinewidth": 1,
             "tickcolor": "rgb(36,36,36)",
             "ticks": "outside"
            },
            "colorscale": [
             [
              0,
              "#440154"
             ],
             [
              0.1111111111111111,
              "#482878"
             ],
             [
              0.2222222222222222,
              "#3e4989"
             ],
             [
              0.3333333333333333,
              "#31688e"
             ],
             [
              0.4444444444444444,
              "#26828e"
             ],
             [
              0.5555555555555556,
              "#1f9e89"
             ],
             [
              0.6666666666666666,
              "#35b779"
             ],
             [
              0.7777777777777778,
              "#6ece58"
             ],
             [
              0.8888888888888888,
              "#b5de2b"
             ],
             [
              1,
              "#fde725"
             ]
            ],
            "type": "heatmapgl"
           }
          ],
          "histogram": [
           {
            "marker": {
             "line": {
              "color": "white",
              "width": 0.6
             }
            },
            "type": "histogram"
           }
          ],
          "histogram2d": [
           {
            "colorbar": {
             "outlinewidth": 1,
             "tickcolor": "rgb(36,36,36)",
             "ticks": "outside"
            },
            "colorscale": [
             [
              0,
              "#440154"
             ],
             [
              0.1111111111111111,
              "#482878"
             ],
             [
              0.2222222222222222,
              "#3e4989"
             ],
             [
              0.3333333333333333,
              "#31688e"
             ],
             [
              0.4444444444444444,
              "#26828e"
             ],
             [
              0.5555555555555556,
              "#1f9e89"
             ],
             [
              0.6666666666666666,
              "#35b779"
             ],
             [
              0.7777777777777778,
              "#6ece58"
             ],
             [
              0.8888888888888888,
              "#b5de2b"
             ],
             [
              1,
              "#fde725"
             ]
            ],
            "type": "histogram2d"
           }
          ],
          "histogram2dcontour": [
           {
            "colorbar": {
             "outlinewidth": 1,
             "tickcolor": "rgb(36,36,36)",
             "ticks": "outside"
            },
            "colorscale": [
             [
              0,
              "#440154"
             ],
             [
              0.1111111111111111,
              "#482878"
             ],
             [
              0.2222222222222222,
              "#3e4989"
             ],
             [
              0.3333333333333333,
              "#31688e"
             ],
             [
              0.4444444444444444,
              "#26828e"
             ],
             [
              0.5555555555555556,
              "#1f9e89"
             ],
             [
              0.6666666666666666,
              "#35b779"
             ],
             [
              0.7777777777777778,
              "#6ece58"
             ],
             [
              0.8888888888888888,
              "#b5de2b"
             ],
             [
              1,
              "#fde725"
             ]
            ],
            "type": "histogram2dcontour"
           }
          ],
          "mesh3d": [
           {
            "colorbar": {
             "outlinewidth": 1,
             "tickcolor": "rgb(36,36,36)",
             "ticks": "outside"
            },
            "type": "mesh3d"
           }
          ],
          "parcoords": [
           {
            "line": {
             "colorbar": {
              "outlinewidth": 1,
              "tickcolor": "rgb(36,36,36)",
              "ticks": "outside"
             }
            },
            "type": "parcoords"
           }
          ],
          "pie": [
           {
            "automargin": true,
            "type": "pie"
           }
          ],
          "scatter": [
           {
            "fillpattern": {
             "fillmode": "overlay",
             "size": 10,
             "solidity": 0.2
            },
            "type": "scatter"
           }
          ],
          "scatter3d": [
           {
            "line": {
             "colorbar": {
              "outlinewidth": 1,
              "tickcolor": "rgb(36,36,36)",
              "ticks": "outside"
             }
            },
            "marker": {
             "colorbar": {
              "outlinewidth": 1,
              "tickcolor": "rgb(36,36,36)",
              "ticks": "outside"
             }
            },
            "type": "scatter3d"
           }
          ],
          "scattercarpet": [
           {
            "marker": {
             "colorbar": {
              "outlinewidth": 1,
              "tickcolor": "rgb(36,36,36)",
              "ticks": "outside"
             }
            },
            "type": "scattercarpet"
           }
          ],
          "scattergeo": [
           {
            "marker": {
             "colorbar": {
              "outlinewidth": 1,
              "tickcolor": "rgb(36,36,36)",
              "ticks": "outside"
             }
            },
            "type": "scattergeo"
           }
          ],
          "scattergl": [
           {
            "marker": {
             "colorbar": {
              "outlinewidth": 1,
              "tickcolor": "rgb(36,36,36)",
              "ticks": "outside"
             }
            },
            "type": "scattergl"
           }
          ],
          "scattermapbox": [
           {
            "marker": {
             "colorbar": {
              "outlinewidth": 1,
              "tickcolor": "rgb(36,36,36)",
              "ticks": "outside"
             }
            },
            "type": "scattermapbox"
           }
          ],
          "scatterpolar": [
           {
            "marker": {
             "colorbar": {
              "outlinewidth": 1,
              "tickcolor": "rgb(36,36,36)",
              "ticks": "outside"
             }
            },
            "type": "scatterpolar"
           }
          ],
          "scatterpolargl": [
           {
            "marker": {
             "colorbar": {
              "outlinewidth": 1,
              "tickcolor": "rgb(36,36,36)",
              "ticks": "outside"
             }
            },
            "type": "scatterpolargl"
           }
          ],
          "scatterternary": [
           {
            "marker": {
             "colorbar": {
              "outlinewidth": 1,
              "tickcolor": "rgb(36,36,36)",
              "ticks": "outside"
             }
            },
            "type": "scatterternary"
           }
          ],
          "surface": [
           {
            "colorbar": {
             "outlinewidth": 1,
             "tickcolor": "rgb(36,36,36)",
             "ticks": "outside"
            },
            "colorscale": [
             [
              0,
              "#440154"
             ],
             [
              0.1111111111111111,
              "#482878"
             ],
             [
              0.2222222222222222,
              "#3e4989"
             ],
             [
              0.3333333333333333,
              "#31688e"
             ],
             [
              0.4444444444444444,
              "#26828e"
             ],
             [
              0.5555555555555556,
              "#1f9e89"
             ],
             [
              0.6666666666666666,
              "#35b779"
             ],
             [
              0.7777777777777778,
              "#6ece58"
             ],
             [
              0.8888888888888888,
              "#b5de2b"
             ],
             [
              1,
              "#fde725"
             ]
            ],
            "type": "surface"
           }
          ],
          "table": [
           {
            "cells": {
             "fill": {
              "color": "rgb(237,237,237)"
             },
             "line": {
              "color": "white"
             }
            },
            "header": {
             "fill": {
              "color": "rgb(217,217,217)"
             },
             "line": {
              "color": "white"
             }
            },
            "type": "table"
           }
          ]
         },
         "layout": {
          "annotationdefaults": {
           "arrowhead": 0,
           "arrowwidth": 1
          },
          "autotypenumbers": "strict",
          "coloraxis": {
           "colorbar": {
            "outlinewidth": 1,
            "tickcolor": "rgb(36,36,36)",
            "ticks": "outside"
           }
          },
          "colorscale": {
           "diverging": [
            [
             0,
             "rgb(103,0,31)"
            ],
            [
             0.1,
             "rgb(178,24,43)"
            ],
            [
             0.2,
             "rgb(214,96,77)"
            ],
            [
             0.3,
             "rgb(244,165,130)"
            ],
            [
             0.4,
             "rgb(253,219,199)"
            ],
            [
             0.5,
             "rgb(247,247,247)"
            ],
            [
             0.6,
             "rgb(209,229,240)"
            ],
            [
             0.7,
             "rgb(146,197,222)"
            ],
            [
             0.8,
             "rgb(67,147,195)"
            ],
            [
             0.9,
             "rgb(33,102,172)"
            ],
            [
             1,
             "rgb(5,48,97)"
            ]
           ],
           "sequential": [
            [
             0,
             "#440154"
            ],
            [
             0.1111111111111111,
             "#482878"
            ],
            [
             0.2222222222222222,
             "#3e4989"
            ],
            [
             0.3333333333333333,
             "#31688e"
            ],
            [
             0.4444444444444444,
             "#26828e"
            ],
            [
             0.5555555555555556,
             "#1f9e89"
            ],
            [
             0.6666666666666666,
             "#35b779"
            ],
            [
             0.7777777777777778,
             "#6ece58"
            ],
            [
             0.8888888888888888,
             "#b5de2b"
            ],
            [
             1,
             "#fde725"
            ]
           ],
           "sequentialminus": [
            [
             0,
             "#440154"
            ],
            [
             0.1111111111111111,
             "#482878"
            ],
            [
             0.2222222222222222,
             "#3e4989"
            ],
            [
             0.3333333333333333,
             "#31688e"
            ],
            [
             0.4444444444444444,
             "#26828e"
            ],
            [
             0.5555555555555556,
             "#1f9e89"
            ],
            [
             0.6666666666666666,
             "#35b779"
            ],
            [
             0.7777777777777778,
             "#6ece58"
            ],
            [
             0.8888888888888888,
             "#b5de2b"
            ],
            [
             1,
             "#fde725"
            ]
           ]
          },
          "colorway": [
           "#1F77B4",
           "#FF7F0E",
           "#2CA02C",
           "#D62728",
           "#9467BD",
           "#8C564B",
           "#E377C2",
           "#7F7F7F",
           "#BCBD22",
           "#17BECF"
          ],
          "font": {
           "color": "rgb(36,36,36)"
          },
          "geo": {
           "bgcolor": "white",
           "lakecolor": "white",
           "landcolor": "white",
           "showlakes": true,
           "showland": true,
           "subunitcolor": "white"
          },
          "hoverlabel": {
           "align": "left"
          },
          "hovermode": "closest",
          "mapbox": {
           "style": "light"
          },
          "paper_bgcolor": "white",
          "plot_bgcolor": "white",
          "polar": {
           "angularaxis": {
            "gridcolor": "rgb(232,232,232)",
            "linecolor": "rgb(36,36,36)",
            "showgrid": false,
            "showline": true,
            "ticks": "outside"
           },
           "bgcolor": "white",
           "radialaxis": {
            "gridcolor": "rgb(232,232,232)",
            "linecolor": "rgb(36,36,36)",
            "showgrid": false,
            "showline": true,
            "ticks": "outside"
           }
          },
          "scene": {
           "xaxis": {
            "backgroundcolor": "white",
            "gridcolor": "rgb(232,232,232)",
            "gridwidth": 2,
            "linecolor": "rgb(36,36,36)",
            "showbackground": true,
            "showgrid": false,
            "showline": true,
            "ticks": "outside",
            "zeroline": false,
            "zerolinecolor": "rgb(36,36,36)"
           },
           "yaxis": {
            "backgroundcolor": "white",
            "gridcolor": "rgb(232,232,232)",
            "gridwidth": 2,
            "linecolor": "rgb(36,36,36)",
            "showbackground": true,
            "showgrid": false,
            "showline": true,
            "ticks": "outside",
            "zeroline": false,
            "zerolinecolor": "rgb(36,36,36)"
           },
           "zaxis": {
            "backgroundcolor": "white",
            "gridcolor": "rgb(232,232,232)",
            "gridwidth": 2,
            "linecolor": "rgb(36,36,36)",
            "showbackground": true,
            "showgrid": false,
            "showline": true,
            "ticks": "outside",
            "zeroline": false,
            "zerolinecolor": "rgb(36,36,36)"
           }
          },
          "shapedefaults": {
           "fillcolor": "black",
           "line": {
            "width": 0
           },
           "opacity": 0.3
          },
          "ternary": {
           "aaxis": {
            "gridcolor": "rgb(232,232,232)",
            "linecolor": "rgb(36,36,36)",
            "showgrid": false,
            "showline": true,
            "ticks": "outside"
           },
           "baxis": {
            "gridcolor": "rgb(232,232,232)",
            "linecolor": "rgb(36,36,36)",
            "showgrid": false,
            "showline": true,
            "ticks": "outside"
           },
           "bgcolor": "white",
           "caxis": {
            "gridcolor": "rgb(232,232,232)",
            "linecolor": "rgb(36,36,36)",
            "showgrid": false,
            "showline": true,
            "ticks": "outside"
           }
          },
          "title": {
           "x": 0.05
          },
          "xaxis": {
           "automargin": true,
           "gridcolor": "rgb(232,232,232)",
           "linecolor": "rgb(36,36,36)",
           "showgrid": false,
           "showline": true,
           "ticks": "outside",
           "title": {
            "standoff": 15
           },
           "zeroline": false,
           "zerolinecolor": "rgb(36,36,36)"
          },
          "yaxis": {
           "automargin": true,
           "gridcolor": "rgb(232,232,232)",
           "linecolor": "rgb(36,36,36)",
           "showgrid": false,
           "showline": true,
           "ticks": "outside",
           "title": {
            "standoff": 15
           },
           "zeroline": false,
           "zerolinecolor": "rgb(36,36,36)"
          }
         }
        },
        "title": {
         "text": "Función Sigmoide: f(z) = 1 / (1 + e^(-z))"
        },
        "xaxis": {
         "title": {
          "text": "z"
         }
        },
        "yaxis": {
         "title": {
          "text": "f(z)"
         }
        }
       }
      }
     },
     "metadata": {},
     "output_type": "display_data"
    }
   ],
   "source": [
    "# Definir la función sigmoide\n",
    "def sigmoid(z):\n",
    "    return 1 / (1 + np.exp(-z))\n",
    "\n",
    "# Valores de z\n",
    "z = np.linspace(-10, 10, 400)\n",
    "f_z = sigmoid(z)\n",
    "\n",
    "# Crear la figura con Plotly\n",
    "fig = go.Figure()\n",
    "\n",
    "# Añadir la curva sigmoide\n",
    "fig.add_trace(go.Scatter(\n",
    "    x=z,\n",
    "    y=f_z,\n",
    "    mode='lines',\n",
    "    name='f(z)',\n",
    "    line=dict(color='blue')\n",
    "))\n",
    "\n",
    "# Añadir líneas de referencia\n",
    "fig.add_hline(y=0, line=dict(color='black', width=0.5))\n",
    "fig.add_hline(y=1, line=dict(color='black', width=0.5))\n",
    "fig.add_vline(x=0, line=dict(color='gray', width=0.7, dash='dash'))\n",
    "\n",
    "# Layout personalizado\n",
    "fig.update_layout(\n",
    "    title='Función Sigmoide: f(z) = 1 / (1 + e^(-z))',\n",
    "    xaxis_title='z',\n",
    "    yaxis_title='f(z)',\n",
    "    template='simple_white'\n",
    ")\n",
    "\n",
    "fig.show()"
   ]
  }
 ],
 "metadata": {
  "kernelspec": {
   "display_name": "base",
   "language": "python",
   "name": "python3"
  },
  "language_info": {
   "codemirror_mode": {
    "name": "ipython",
    "version": 3
   },
   "file_extension": ".py",
   "mimetype": "text/x-python",
   "name": "python",
   "nbconvert_exporter": "python",
   "pygments_lexer": "ipython3",
   "version": "3.11.4"
  }
 },
 "nbformat": 4,
 "nbformat_minor": 2
}
