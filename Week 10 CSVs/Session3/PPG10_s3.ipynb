{
 "cells": [
  {
   "cell_type": "markdown",
   "metadata": {},
   "source": [
    "# PPG10_s3 - TIME SERIES\n",
    "\n"
   ]
  },
  {
   "cell_type": "markdown",
   "metadata": {},
   "source": [
    "1. **Definition and components**  \n",
    "   Explain what a time series is and list its main components. Provide a real-life example for each component.\n",
    "\n"
   ]
  },
  {
   "cell_type": "markdown",
   "metadata": {},
   "source": [
    "# 1. **Definition and Components**  \n",
    "\n",
    "## **What is a Time Series?**  \n",
    "A **time series** is a sequence of data points observed at successive time intervals (daily, monthly, yearly, etc.). It is used in fields like finance, economics, meteorology, and signal processing.  \n",
    "\n",
    "---\n",
    "\n",
    "## **Main Components of a Time Series**  \n",
    "\n",
    "1. **Trend**  \n",
    "   - A long-term movement in the data that shows an overall increase or decrease.  \n",
    "   - **Example:** The steady rise in global temperatures due to climate change.  \n",
    "\n",
    "2. **Seasonality**  \n",
    "   - Regular and predictable patterns that repeat over a fixed period.  \n",
    "   - **Example:** Retail sales increase every December due to the holiday season.  \n",
    "\n",
    "3. **Cyclic Patterns**  \n",
    "   - Long-term fluctuations that occur at irregular intervals, influenced by economic, political, or social factors.  \n",
    "   - **Example:** Stock market cycles that follow economic booms and recessions.  \n",
    "\n",
    "4. **Irregular Variations**  \n",
    "   - Unpredictable fluctuations caused by unexpected events.  \n",
    "   - **Example:** A sudden drop in airline travel during the COVID-19 pandemic.  "
   ]
  },
  {
   "cell_type": "markdown",
   "metadata": {},
   "source": [
    "2. **Stationarity**  \n",
    "   What does it mean for a time series to be stationary? Mention two methods to test if a series is stationary.\n",
    "\n"
   ]
  },
  {
   "cell_type": "markdown",
   "metadata": {},
   "source": [
    "* A time series is stationary if its statistical properties (mean, variance, and autocorrelation) remain constant over time.\n",
    "\n",
    "* **Augmented Dickey-Fuller (ADF) Test** or **Unit Root Test**: It is the most popular statistical test to know if the dataset is stationary or not and with the following assumptions:\n",
    "\n",
    "    • **Null Hypothesis (H0)**: Series is non-stationary\n",
    "    \n",
    "    • **Alternate Hypothesis (HA)**: Series is stationary\n",
    "    \n",
    "    • **p-value > 0.05**: Fail to reject (H0)\n",
    "    \n",
    "    • **p-value <= 0.05**: Accept (HA)\n",
    "\n",
    "* **Rolling Statistics (Moving Average & Variance)**\n",
    "\n",
    "    Plot the rolling mean and variance over time.\n",
    "    \n",
    "    If they remain constant, the series is likely stationary.\n",
    "    \n",
    "    If they show trends or shifts, the series is non-stationary.\n"
   ]
  },
  {
   "cell_type": "markdown",
   "metadata": {},
   "source": [
    "3. **AR and MA Models**  \n",
    "   Briefly define AR(p) and MA(q) models. Which graph is used to determine the order of each model?\n",
    "\n"
   ]
  },
  {
   "cell_type": "markdown",
   "metadata": {},
   "source": [
    "# 3. **AR and MA Models**  \n",
    "\n",
    "## **Autoregressive Model (AR(p))**  \n",
    "- Expresses the current value of a time series as a linear combination of its past values.  \n",
    "- **Formula:**  \n",
    "  \\[\n",
    "  X_t = \\phi_1 X_{t-1} + \\phi_2 X_{t-2} + ... + \\phi_p X_{t-p} + \\epsilon_t\n",
    "  \\]\n",
    "- **Example:** Predicting a stock's closing price based on past prices.  \n",
    "\n",
    "## **Moving Average Model (MA(q))**  \n",
    "- Expresses the current value of a time series as a linear combination of past error terms.  \n",
    "- **Formula:**  \n",
    "  \\[\n",
    "  X_t = \\epsilon_t + \\theta_1 \\epsilon_{t-1} + \\theta_2 \\epsilon_{t-2} + ... + \\theta_q \\epsilon_{t-q}\n",
    "  \\]\n",
    "- **Example:** The effect of economic news on stock prices dissipating over a few days.  \n",
    "\n",
    "## **Which Graph is Used to Determine Model Order?**  \n",
    "- **Autocorrelation Function (ACF):** Used to determine \\( q \\) in an MA(q) model.  \n",
    "- **Partial Autocorrelation Function (PACF):** Used to determine \\( p \\) in an AR(p) model.  \n"
   ]
  },
  {
   "cell_type": "markdown",
   "metadata": {},
   "source": [
    "4. **Trend**  \n",
    "   Explain what \"detrending\" is and mention two different methods to remove the trend from a time series.\n",
    "\n"
   ]
  },
  {
   "cell_type": "markdown",
   "metadata": {},
   "source": [
    "# 4. **Trend**  \n",
    "\n",
    "## **What is Detrending?**  \n",
    "**Detrending** is the process of removing the trend component from a time series to analyze underlying patterns such as seasonality and residual variations.  \n",
    "\n",
    "## **Methods to Remove Trend**  \n",
    "\n",
    "1. **Differencing**  \n",
    "   - Computes the difference between consecutive observations:  \n",
    "     \\[\n",
    "     Y_t = X_t - X_{t-1}\n",
    "     \\]\n",
    "   - Used to convert non-stationary series into stationary ones.  \n",
    "   - **Example:** Removing the trend in stock prices by calculating daily price changes.  \n",
    "\n",
    "2. **Regression-Based Detrending**  \n",
    "   - Fits a regression model (linear or polynomial) to estimate and remove the trend.  \n",
    "   - **Example:** Removing a linear trend in temperature data over the years.  "
   ]
  },
  {
   "cell_type": "markdown",
   "metadata": {},
   "source": [
    "5. **Transformations**  \n",
    "   Explain the Box-Cox transformation. When is it applied and what are its advantages in time series analysis?\n",
    "\n"
   ]
  },
  {
   "cell_type": "markdown",
   "metadata": {},
   "source": [
    "# 5. **Transformations**  \n",
    "\n",
    "## **Box-Cox Transformation**  \n",
    "The **Box-Cox transformation** stabilizes variance and normalizes data in time series analysis.  \n",
    "\n",
    "**Formula:**  \n",
    "\\[\n",
    "X' =  \n",
    "\\begin{cases}  \n",
    "\\frac{X^\\lambda - 1}{\\lambda}, & \\text{if } \\lambda \\neq 0  \\\\  \n",
    "\\ln(X), & \\text{if } \\lambda = 0  \n",
    "\\end{cases}\n",
    "\\]  \n",
    "\n",
    "### **When is it Applied?**  \n",
    "- When a time series has **heteroscedasticity** (non-constant variance).  \n",
    "- When the data is **skewed** and needs normalization.  \n",
    "- Before applying **ARIMA models**, which require stationary data.  \n",
    "\n",
    "### **Advantages**  \n",
    "✅ Stabilizes variance.  \n",
    "✅ Makes the data closer to a normal distribution.  \n",
    "✅ Helps in achieving stationarity, essential for forecasting models.  "
   ]
  },
  {
   "cell_type": "markdown",
   "metadata": {},
   "source": [
    "6. **Comparison between ARIMA and SARIMA**  \n",
    "   Describe the differences between an ARIMA model and a SARIMA model. Provide an example of when to use each one.\n",
    "\n"
   ]
  },
  {
   "cell_type": "markdown",
   "metadata": {},
   "source": [
    "# 6. **Comparison Between ARIMA and SARIMA**  \n",
    "\n",
    "| Feature  | ARIMA  | SARIMA  |\n",
    "|----------|--------|---------|\n",
    "| Seasonality Handling | ❌ No | ✅ Yes |\n",
    "| Parameters | \\( p, d, q \\) | \\( p, d, q, P, D, Q, m \\) |\n",
    "| When to Use | Non-seasonal time series | Seasonal time series |\n",
    "| Example | Stock price prediction | Monthly sales forecasting |\n",
    "\n",
    "## **Example Use Cases**  \n",
    "✅ **ARIMA:** Predicting monthly inflation, which does not follow a strong seasonal pattern.  \n",
    "✅ **SARIMA:** Predicting electricity demand, which has daily and yearly seasonal patterns.  "
   ]
  },
  {
   "cell_type": "markdown",
   "metadata": {},
   "source": [
    "7. **Autocorrelation**  \n",
    "   What is the difference between autocorrelation and autocovariance? What does a high value in the ACF at early lags indicate?\n",
    "\n"
   ]
  },
  {
   "cell_type": "markdown",
   "metadata": {},
   "source": [
    "# 7. **Autocorrelation**  \n",
    "\n",
    "## **Autocorrelation vs. Autocovariance**  \n",
    "- **Autocovariance** measures the linear relationship between a time series and its lagged values in terms of variance:  \n",
    "  \\[\n",
    "  \\gamma(h) = E[(X_t - \\mu)(X_{t-h} - \\mu)]\n",
    "  \\]\n",
    "  where \\( h \\) is the lag, \\( \\mu \\) is the mean, and \\( X_t \\) is the time series.  \n",
    "\n",
    "- **Autocorrelation** is the normalized version of autocovariance, measuring the strength of the relationship on a scale of \\([-1,1]\\):  \n",
    "  \\[\n",
    "  \\rho(h) = \\frac{\\gamma(h)}{\\gamma(0)}\n",
    "  \\]\n",
    "  where \\( \\gamma(0) \\) is the variance of the series.  \n",
    "\n",
    "## **What Does a High ACF Value at Early Lags Indicate?**  \n",
    "- A high ACF value at early lags suggests **strong short-term correlation**, meaning past values significantly influence future values.  \n",
    "- If the ACF slowly decays, the series is likely **non-stationary** and may require **differencing**.  \n",
    "- If ACF exhibits periodic spikes, the series has **seasonality**. "
   ]
  },
  {
   "cell_type": "markdown",
   "metadata": {},
   "source": [
    "8. **Panel Data vs. Time Series**  \n",
    "   Compare panel data with time series data. Explain how time behaves in each type and give an example of use for each.\n",
    "\n"
   ]
  },
  {
   "cell_type": "markdown",
   "metadata": {},
   "source": [
    "# 8. **Panel Data vs. Time Series**  \n",
    "\n",
    "| Feature  | Time Series  | Panel Data  |\n",
    "|----------|-------------|-------------|\n",
    "| Structure | Observations of a single entity over time | Observations of multiple entities over time |\n",
    "| Time Behavior | Observed for one variable at successive time points | Observed across multiple entities and over time |\n",
    "| Example | Monthly sales of a company over 10 years | Monthly sales of 100 companies over 10 years |\n",
    "\n",
    "## **Example Use Cases**  \n",
    "✅ **Time Series:** Forecasting GDP growth of the U.S. over the next decade.  \n",
    "✅ **Panel Data:** Analyzing the impact of education policies on student performance across different states over time.  \n"
   ]
  },
  {
   "cell_type": "markdown",
   "metadata": {},
   "source": [
    "9. **Decomposition and full modeling**  \n",
    "   Given a series with trend, seasonality, and heteroskedasticity (e.g., monthly U.S. air passenger numbers from 1949–1960), explain how you would decompose it and what kind of model you would use to forecast it. Justify each step.\n",
    "\n"
   ]
  },
  {
   "cell_type": "markdown",
   "metadata": {},
   "source": [
    "# 9. **Decomposition and Full Modeling**  \n",
    "\n",
    "### **Given a Time Series with Trend, Seasonality, and Heteroskedasticity (e.g., U.S. Air Passenger Data 1949–1960), How to Model It?**  \n",
    "\n",
    "### **Step 1: Decomposition**  \n",
    "1. **Trend Extraction**  \n",
    "   - Use a moving average or **low-pass filter** to remove short-term fluctuations and extract the trend.  \n",
    "   - **Alternative:** Apply a **polynomial regression** to model the trend.  \n",
    "\n",
    "2. **Seasonality Identification**  \n",
    "   - Apply a **Seasonal Decomposition of Time Series (STL decomposition)** to separate the seasonal component.  \n",
    "   - Examine **Autocorrelation Function (ACF)** to detect seasonal patterns.  \n",
    "\n",
    "3. **Heteroskedasticity Treatment**  \n",
    "   - Apply a **Box-Cox transformation** to stabilize variance.  \n",
    "\n",
    "---\n",
    "\n",
    "### **Step 2: Model Selection**  \n",
    "✅ **SARIMA** (\\(p, d, q \\times P, D, Q, m\\)) for trend + seasonality.  \n",
    "✅ **GARCH (Generalized Autoregressive Conditional Heteroskedasticity)** to model changing variance over time.  \n",
    "\n",
    "---\n",
    "\n",
    "### **Step 3: Forecasting**  \n",
    "- **If the seasonality is deterministic:** Use **SARIMA** to predict future values.  \n",
    "- **If the variance changes over time:** Combine SARIMA + GARCH.  \n",
    "\n",
    "**Justification:**  \n",
    "- SARIMA handles trend and seasonality.  \n",
    "- GARCH captures dynamic variance changes.  "
   ]
  },
  {
   "cell_type": "markdown",
   "metadata": {},
   "source": [
    "10. **Model selection and validation**  \n",
    "   You are given a non-stationary time series with a strong seasonal component. Explain how you would identify and validate a suitable SARIMA model. Include parameter selection criteria and model validation methods."
   ]
  },
  {
   "cell_type": "markdown",
   "metadata": {},
   "source": [
    "# 10. **Model Selection and Validation for a Non-Stationary Seasonal Time Series**  \n",
    "\n",
    "## **Step 1: Identify the Need for a SARIMA Model**  \n",
    "- **Check for Seasonality:**  \n",
    "  - Use **ACF** to detect repeating seasonal patterns.  \n",
    "  - Use **seasonal decomposition** (STL) to visualize trends and seasonality.  \n",
    "\n",
    "- **Check for Stationarity:**  \n",
    "  - Apply the **Augmented Dickey-Fuller (ADF) test**:  \n",
    "    - If non-stationary, apply differencing (both regular and seasonal).  \n",
    "  - Check **KPSS test** to confirm stationarity after differencing.  \n",
    "\n",
    "---\n",
    "\n",
    "## **Step 2: Selecting SARIMA Parameters**  \n",
    "\n",
    "A SARIMA model is defined as **SARIMA(p, d, q) × (P, D, Q, m)**, where:  \n",
    "- **(p, d, q):** ARIMA parameters (trend-based).  \n",
    "- **(P, D, Q, m):** Seasonal components.  \n",
    "\n",
    "- **Use ACF and PACF plots to determine:**  \n",
    "  - \\( d \\) and \\( D \\) (based on ADF/KPSS test).  \n",
    "  - \\( p \\) (from PACF) and \\( q \\) (from ACF).  \n",
    "  - \\( P \\) and \\( Q \\) (from seasonal ACF/PACF).  \n",
    "\n",
    "---\n",
    "\n",
    "## **Step 3: Model Validation**  \n",
    "\n",
    "### **1. Goodness of Fit**  \n",
    "✅ Use **Akaike Information Criterion (AIC)** and **Bayesian Information Criterion (BIC)** to select the best model.  \n",
    "✅ Check **residuals** using a **Ljung-Box test** (residuals should be white noise).  \n",
    "\n",
    "### **2. Forecast Evaluation**  \n",
    "✅ Compare actual vs. predicted values using **Mean Absolute Error (MAE)**, **Mean Squared Error (MSE)**, and **Root Mean Squared Error (RMSE)**.  \n",
    "✅ Perform **cross-validation** using rolling-window forecasting.  \n",
    "\n",
    "---\n",
    "\n",
    "## **Step 4: Final Model Deployment**  \n",
    "Once validated, the SARIMA model can be used for future forecasting.  "
   ]
  },
  {
   "cell_type": "markdown",
   "metadata": {},
   "source": [
    "### **Note for Students:**\n",
    "\n",
    "You must work **inside the `week10_s3` folder of your personal GitHub repository** for this activity.\n",
    "\n",
    "At the end of the session, you are required to **commit and push your work** to your personal GitHub repository. Your submission must include the PG10_s3.ipynb with answers.\n",
    "\n",
    "Use a clear and descriptive commit message (e.g., `\"PPG10_s3 submission\"`)."
   ]
  }
 ],
 "metadata": {
  "language_info": {
   "name": "python"
  }
 },
 "nbformat": 4,
 "nbformat_minor": 2
}
