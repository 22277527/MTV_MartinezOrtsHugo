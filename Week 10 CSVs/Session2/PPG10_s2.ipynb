{
 "cells": [
  {
   "cell_type": "markdown",
   "metadata": {},
   "source": [
    "## **PPG10_s2 - TIME SERIES**  \n",
    "\n"
   ]
  },
  {
   "cell_type": "markdown",
   "metadata": {},
   "source": [
    "### **Note for Students:**\n",
    "\n",
    "You must work **inside the `week10_s2` folder of your personal GitHub repository** for this activity.\n",
    "\n",
    "The CSV file used in **PPG10_s2** will be generated from **Slide 45 of the Time Series presentation**, which shows the **monthly number of air passengers in the USA from January 1949 to December 1960**. The data will be extracted using the **Automeris.io WebPlotDigitizer** tool.\n",
    "\n",
    "You must **carefully reproduce each data point exactly as shown** to preserve the accuracy and integrity of the original time series.\n",
    "\n",
    "The resulting file should be saved as **`pas_year.csv`** and used throughout the activity for all relevant questions.\n",
    "\n",
    "At the end of the session, you are required to **commit and push your work** to your personal GitHub repository. Your submission must include:\n",
    "\n",
    "- The `pas_year.csv` file  \n",
    "- All Python scripts or notebooks  \n",
    "- Any plots or result files generated during the activity  \n",
    "\n",
    "Use a clear and descriptive commit message (e.g., `\"PPG10_s2 submission\"`)."
   ]
  },
  {
   "cell_type": "markdown",
   "metadata": {},
   "source": [
    "---\n",
    "---"
   ]
  },
  {
   "cell_type": "markdown",
   "metadata": {},
   "source": [
    "1. **Define a time series.**  \n",
    "   Explain its main components and how it differs from panel data or cross-sectional data.\n",
    "\n"
   ]
  },
  {
   "cell_type": "markdown",
   "metadata": {},
   "source": [
    "2. **Based on the provided CSV file, what is the frequency of the series?**  \n",
    "   Justify whether it is monthly, quarterly, daily, etc., based on the time values.\n",
    "\n"
   ]
  },
  {
   "cell_type": "markdown",
   "metadata": {},
   "source": [
    "3. **What does it mean for a time series to be stationary?**  \n",
    "   Name one method to test for stationarity and explain what it implies if the series is non-stationary.\n",
    "\n"
   ]
  },
  {
   "cell_type": "markdown",
   "metadata": {},
   "source": [
    "4. **Give two real-world examples where time series are used.**  \n",
    "   Briefly explain their practical applications.\n",
    "\n"
   ]
  },
  {
   "cell_type": "markdown",
   "metadata": {},
   "source": [
    "5. **Transform the provided CSV so that each observation includes the year, month, and day.**  \n",
    "   Use Python. Include the code and briefly explain what it does.\n",
    "\n"
   ]
  },
  {
   "cell_type": "markdown",
   "metadata": {},
   "source": [
    "6. **Plot the evolution of the measured variable over time.**  \n",
    "   Use Plotly. Add title, labels, and explain whether a trend can be visually detected.\n",
    "\n"
   ]
  },
  {
   "cell_type": "markdown",
   "metadata": {},
   "source": [
    "7. **Apply the ADF (Augmented Dickey-Fuller) test to the time series from the CSV.**  \n",
    "   - What is the null hypothesis?  \n",
    "   - What result do you obtain, and what does it imply about the stationarity of the data?\n",
    "\n"
   ]
  },
  {
   "cell_type": "markdown",
   "metadata": {},
   "source": [
    "8. **Apply a 12-month simple moving average (SMA) to the data and plot it along with the original series.**  \n",
    "   Explain what additional insights the moving average provides.\n",
    "\n"
   ]
  },
  {
   "cell_type": "markdown",
   "metadata": {},
   "source": [
    "9. **Model the time series using a suitable ARIMA model.**  \n",
    "   - Briefly describe how you determined the parameters p, d, q.  \n",
    "   - Include your code and justify the model selection."
   ]
  },
  {
   "cell_type": "markdown",
   "metadata": {},
   "source": [
    "10. **Decompose the series into its components: trend, seasonality, and residuals.**  \n",
    "   - Use `seasonal_decompose` from `statsmodels`.  \n",
    "   - Comment on whether the components show clear patterns.  \n",
    "   - What are the implications for future forecasting?"
   ]
  },
  {
   "cell_type": "markdown",
   "metadata": {},
   "source": [
    "---\n",
    "---"
   ]
  }
 ],
 "metadata": {
  "language_info": {
   "name": "python"
  }
 },
 "nbformat": 4,
 "nbformat_minor": 2
}
