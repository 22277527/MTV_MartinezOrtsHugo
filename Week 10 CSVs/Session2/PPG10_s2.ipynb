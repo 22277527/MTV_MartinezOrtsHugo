{
 "cells": [
  {
   "cell_type": "markdown",
   "metadata": {},
   "source": [
    "## **PPG10_s2 - TIME SERIES**  \n",
    "\n"
   ]
  },
  {
   "cell_type": "markdown",
   "metadata": {},
   "source": [
    "### **Note for Students:**\n",
    "\n",
    "You must work **inside the `week10_s2` folder of your personal GitHub repository** for this activity.\n",
    "\n",
    "The CSV file used in **PPG10_s2** will be generated from **Slide 45 of the Time Series presentation**, which shows the **monthly number of air passengers in the USA from January 1949 to December 1960**. The data will be extracted using the **Automeris.io WebPlotDigitizer** tool.\n",
    "\n",
    "You must **carefully reproduce each data point exactly as shown** to preserve the accuracy and integrity of the original time series.\n",
    "\n",
    "The resulting file should be saved as **`pas_year.csv`** and used throughout the activity for all relevant questions.\n",
    "\n",
    "At the end of the session, you are required to **commit and push your work** to your personal GitHub repository. Your submission must include:\n",
    "\n",
    "- The `pas_year.csv` file  \n",
    "- All Python scripts or notebooks  \n",
    "- Any plots or result files generated during the activity  \n",
    "\n",
    "Use a clear and descriptive commit message (e.g., `\"PPG10_s2 submission\"`)."
   ]
  },
  {
   "cell_type": "markdown",
   "metadata": {},
   "source": [
    "---\n",
    "---"
   ]
  },
  {
   "cell_type": "markdown",
   "metadata": {},
   "source": [
    "1. **Define a time series.**  \n",
    "   Explain its main components and how it differs from panel data or cross-sectional data.\n",
    "\n"
   ]
  },
  {
   "cell_type": "code",
   "execution_count": 7,
   "metadata": {},
   "outputs": [],
   "source": [
    "import pandas as pd \n",
    "import matplotlib.pyplot as plt\n",
    "import seaborn as sns\n",
    "from statsmodels.tsa.seasonal import seasonal_decompose"
   ]
  },
  {
   "cell_type": "markdown",
   "metadata": {},
   "source": [
    "* A time series is a sequence of data points collected or recorded at successive time intervals. It is used to analyze trends, patterns, and variations over time.\n",
    "\n",
    "* Main Components of a Time Series:\n",
    "\n",
    "Trend (\n",
    "𝑇\n",
    "𝑡\n",
    "T \n",
    "t\n",
    "​\n",
    " )\n",
    "\n",
    "The long-term movement of the data, showing an increasing, decreasing, or stable pattern.\n",
    "\n",
    "Seasonality (\n",
    "𝑆\n",
    "𝑡\n",
    "S \n",
    "t\n",
    "​\n",
    " )\n",
    "\n",
    "Regular and predictable fluctuations that occur at fixed intervals, such as daily, monthly, or yearly cycles (e.g., higher air travel in summer).\n",
    "\n",
    "Cyclical Component (\n",
    "𝐶\n",
    "𝑡\n",
    "C \n",
    "t\n",
    "​\n",
    " )\n",
    "\n",
    "Long-term oscillations influenced by economic or business cycles, lasting more than a year. Unlike seasonality, these fluctuations are not strictly periodic.\n",
    "\n",
    "Random Component (\n",
    "𝑅\n",
    "𝑡\n",
    "R \n",
    "t\n",
    "​\n",
    " )\n",
    "\n",
    "Unpredictable variations caused by unforeseen factors, representing noise in the data."
   ]
  },
  {
   "cell_type": "markdown",
   "metadata": {},
   "source": [
    "2. **Based on the provided CSV file, what is the frequency of the series?**  \n",
    "   Justify whether it is monthly, quarterly, daily, etc., based on the time values.\n",
    "\n"
   ]
  },
  {
   "cell_type": "markdown",
   "metadata": {},
   "source": [
    "* The frequency of a time series refers to how often data points are recorded. Based on the CSV file, which contains data from January 1949 to December 1960, \n",
    "the time values represent months over multiple years.\n",
    "\n",
    "    So the frequency of the series is monthly."
   ]
  },
  {
   "cell_type": "markdown",
   "metadata": {},
   "source": [
    "3. **What does it mean for a time series to be stationary?**  \n",
    "   Name one method to test for stationarity and explain what it implies if the series is non-stationary.\n",
    "\n"
   ]
  },
  {
   "cell_type": "markdown",
   "metadata": {},
   "source": [
    "* A time series is stationary if its statistical properties (mean, variance, and autocorrelation) remain constant over time.\n",
    "\n",
    "* Augmented Dickey-Fuller (ADF) Test or Unit Root Test: It is the most popular statistical test to know if the dataset is stationary or not\n",
    "and with the following assumptions:\n",
    "\n",
    "    • Null Hypothesis (H0 ): Series is non-stationary\n",
    "\n",
    "    • Alternate Hypothesis (HA ): Series is stationary\n",
    "\n",
    "    • p-value >0.05 Fail to reject (H0 )\n",
    "\n",
    "    • p-value <= 0.05 Accept (HA )\n",
    "\n",
    "* If is non-stationary, it means:\n",
    "\n",
    "    The mean or variance changes over time, making predictions unreliable.\n",
    "\n",
    "    The series may exhibit a trend or seasonal pattern that needs to be removed before modeling.\n",
    "\n",
    "    Transformations like differencing or log transformations are required to make the data stationary before applying time series models."
   ]
  },
  {
   "cell_type": "markdown",
   "metadata": {},
   "source": [
    "4. **Give two real-world examples where time series are used.**  \n",
    "   Briefly explain their practical applications.\n",
    "\n"
   ]
  },
  {
   "cell_type": "markdown",
   "metadata": {},
   "source": [
    "* Example 1: Predicting daily temperatures, rainfall, or wind speed.\n",
    "\n",
    "    Application: Meteorologists use historical weather data to model and forecast future conditions. Time series models help in climate change analysis, disaster preparedness, and agriculture planning.\n",
    "\n",
    "* Example 2:  Analyzing daily closing prices of stocks (e.g., Apple, Tesla).\n",
    "\n",
    "    Application: Investors and analysts use time series models to detect trends, forecast future stock prices, and develop trading strategies. Techniques like ARIMA or LSTM neural networks help predict price movements."
   ]
  },
  {
   "cell_type": "markdown",
   "metadata": {},
   "source": [
    "5. **Transform the provided CSV so that each observation includes the year, month, and day.**  \n",
    "   Use Python. Include the code and briefly explain what it does.\n",
    "\n"
   ]
  },
  {
   "cell_type": "code",
   "execution_count": 32,
   "metadata": {},
   "outputs": [],
   "source": [
    "import plotly.express as px"
   ]
  },
  {
   "cell_type": "code",
   "execution_count": 28,
   "metadata": {},
   "outputs": [],
   "source": [
    "file_path = \"pas_year.csv\"  # Asegúrate de que este archivo está en el mismo directorio\n",
    "df = pd.read_csv(file_path, header=None, names=[\"Time\", \"Passengers\"], sep=';', parse_dates=[\"Time\"])"
   ]
  },
  {
   "cell_type": "code",
   "execution_count": 30,
   "metadata": {},
   "outputs": [
    {
     "data": {
      "text/html": [
       "<div>\n",
       "<style scoped>\n",
       "    .dataframe tbody tr th:only-of-type {\n",
       "        vertical-align: middle;\n",
       "    }\n",
       "\n",
       "    .dataframe tbody tr th {\n",
       "        vertical-align: top;\n",
       "    }\n",
       "\n",
       "    .dataframe thead th {\n",
       "        text-align: right;\n",
       "    }\n",
       "</style>\n",
       "<table border=\"1\" class=\"dataframe\">\n",
       "  <thead>\n",
       "    <tr style=\"text-align: right;\">\n",
       "      <th></th>\n",
       "      <th>Time</th>\n",
       "      <th>Passengers</th>\n",
       "      <th>Year</th>\n",
       "      <th>Month</th>\n",
       "      <th>Day</th>\n",
       "    </tr>\n",
       "  </thead>\n",
       "  <tbody>\n",
       "    <tr>\n",
       "      <th>0</th>\n",
       "      <td>1949-05-09</td>\n",
       "      <td>125,77639751552795</td>\n",
       "      <td>1949</td>\n",
       "      <td>5</td>\n",
       "      <td>9</td>\n",
       "    </tr>\n",
       "    <tr>\n",
       "      <th>1</th>\n",
       "      <td>1949-06-13</td>\n",
       "      <td>132,76397515527958</td>\n",
       "      <td>1949</td>\n",
       "      <td>6</td>\n",
       "      <td>13</td>\n",
       "    </tr>\n",
       "    <tr>\n",
       "      <th>2</th>\n",
       "      <td>1949-07-18</td>\n",
       "      <td>144,4099378881989</td>\n",
       "      <td>1949</td>\n",
       "      <td>7</td>\n",
       "      <td>18</td>\n",
       "    </tr>\n",
       "    <tr>\n",
       "      <th>3</th>\n",
       "      <td>1949-08-04</td>\n",
       "      <td>142,08074534161494</td>\n",
       "      <td>1949</td>\n",
       "      <td>8</td>\n",
       "      <td>4</td>\n",
       "    </tr>\n",
       "    <tr>\n",
       "      <th>4</th>\n",
       "      <td>1949-09-02</td>\n",
       "      <td>132,76397515527958</td>\n",
       "      <td>1949</td>\n",
       "      <td>9</td>\n",
       "      <td>2</td>\n",
       "    </tr>\n",
       "    <tr>\n",
       "      <th>5</th>\n",
       "      <td>1949-10-01</td>\n",
       "      <td>144,4099378881989</td>\n",
       "      <td>1949</td>\n",
       "      <td>10</td>\n",
       "      <td>1</td>\n",
       "    </tr>\n",
       "    <tr>\n",
       "      <th>6</th>\n",
       "      <td>1949-10-30</td>\n",
       "      <td>160,71428571428578</td>\n",
       "      <td>1949</td>\n",
       "      <td>10</td>\n",
       "      <td>30</td>\n",
       "    </tr>\n",
       "    <tr>\n",
       "      <th>7</th>\n",
       "      <td>1949-12-04</td>\n",
       "      <td>160,71428571428578</td>\n",
       "      <td>1949</td>\n",
       "      <td>12</td>\n",
       "      <td>4</td>\n",
       "    </tr>\n",
       "    <tr>\n",
       "      <th>8</th>\n",
       "      <td>1949-12-27</td>\n",
       "      <td>146,73913043478262</td>\n",
       "      <td>1949</td>\n",
       "      <td>12</td>\n",
       "      <td>27</td>\n",
       "    </tr>\n",
       "    <tr>\n",
       "      <th>9</th>\n",
       "      <td>1950-02-06</td>\n",
       "      <td>132,76397515527958</td>\n",
       "      <td>1950</td>\n",
       "      <td>2</td>\n",
       "      <td>6</td>\n",
       "    </tr>\n",
       "  </tbody>\n",
       "</table>\n",
       "</div>"
      ],
      "text/plain": [
       "        Time           Passengers  Year  Month  Day\n",
       "0 1949-05-09   125,77639751552795  1949      5    9\n",
       "1 1949-06-13   132,76397515527958  1949      6   13\n",
       "2 1949-07-18    144,4099378881989  1949      7   18\n",
       "3 1949-08-04   142,08074534161494  1949      8    4\n",
       "4 1949-09-02   132,76397515527958  1949      9    2\n",
       "5 1949-10-01    144,4099378881989  1949     10    1\n",
       "6 1949-10-30   160,71428571428578  1949     10   30\n",
       "7 1949-12-04   160,71428571428578  1949     12    4\n",
       "8 1949-12-27   146,73913043478262  1949     12   27\n",
       "9 1950-02-06   132,76397515527958  1950      2    6"
      ]
     },
     "metadata": {},
     "output_type": "display_data"
    }
   ],
   "source": [
    "# Crear nuevas columnas para el año, mes y día\n",
    "df[\"Year\"] = df[\"Time\"].dt.year\n",
    "df[\"Month\"] = df[\"Time\"].dt.month\n",
    "df[\"Day\"] = df[\"Time\"].dt.day\n",
    "\n",
    "display(df.head(10))"
   ]
  },
  {
   "cell_type": "markdown",
   "metadata": {},
   "source": [
    "6. **Plot the evolution of the measured variable over time.**  \n",
    "   Use Plotly. Add title, labels, and explain whether a trend can be visually detected.\n",
    "\n"
   ]
  },
  {
   "cell_type": "code",
   "execution_count": 33,
   "metadata": {},
   "outputs": [
    {
     "data": {
      "application/vnd.plotly.v1+json": {
       "config": {
        "plotlyServerURL": "https://plot.ly"
       },
       "data": [
        {
         "hovertemplate": "Fecha=%{x}<br>Número de pasajeros=%{y}<extra></extra>",
         "legendgroup": "",
         "line": {
          "color": "#636efa",
          "dash": "solid"
         },
         "marker": {
          "symbol": "circle"
         },
         "mode": "lines",
         "name": "",
         "orientation": "v",
         "showlegend": false,
         "type": "scatter",
         "x": [
          "1949-05-09T00:00:00",
          "1949-06-13T00:00:00",
          "1949-07-18T00:00:00",
          "1949-08-04T00:00:00",
          "1949-09-02T00:00:00",
          "1949-10-01T00:00:00",
          "1949-10-30T00:00:00",
          "1949-12-04T00:00:00",
          "1949-12-27T00:00:00",
          "1950-02-06T00:00:00",
          "1950-03-01T00:00:00",
          "1950-03-19T00:00:00",
          "1950-04-23T00:00:00",
          "1950-05-16T00:00:00",
          "1950-06-08T00:00:00",
          "1950-07-13T00:00:00",
          "1950-08-17T00:00:00",
          "1950-09-09T00:00:00",
          "1950-10-14T00:00:00",
          "1950-11-06T00:00:00",
          "1950-11-30T00:00:00",
          "1950-12-29T00:00:00",
          "1951-02-02T00:00:00",
          "1951-03-03T00:00:00",
          "1951-04-06T00:00:00",
          "1951-04-30T00:00:00",
          "1951-06-04T00:00:00",
          "1951-06-15T00:00:00",
          "1951-07-20T00:00:00",
          "1951-08-18T00:00:00",
          "1951-09-10T00:00:00",
          "1951-10-09T00:00:00",
          "1951-11-13T00:00:00",
          "1951-12-07T00:00:00",
          "1952-01-16T00:00:00",
          "1952-02-03T00:00:00",
          "1952-02-26T00:00:00",
          "1952-04-01T00:00:00",
          "1952-05-12T00:00:00",
          "1952-06-04T00:00:00",
          "1952-07-09T00:00:00",
          "1952-07-26T00:00:00",
          "1952-08-30T00:00:00",
          "1952-10-10T00:00:00",
          "1952-10-15T00:00:00",
          "1952-11-14T00:00:00",
          "1952-12-24T00:00:00",
          "1953-01-11T00:00:00",
          "1953-02-09T00:00:00",
          "1953-03-16T00:00:00",
          "1953-04-08T00:00:00",
          "1953-05-13T00:00:00",
          "1953-05-30T00:00:00",
          "1953-07-10T00:00:00",
          "1953-07-27T00:00:00",
          "1953-08-31T00:00:00",
          "1953-10-05T00:00:00",
          "1953-11-03T00:00:00",
          "1953-12-02T00:00:00",
          "1953-12-31T00:00:00",
          "1954-01-24T00:00:00",
          "1954-02-16T00:00:00",
          "1954-03-17T00:00:00",
          "1954-04-21T00:00:00",
          "1954-05-08T00:00:00",
          "1954-06-06T00:00:00",
          "1954-07-17T00:00:00",
          "1954-08-09T00:00:00",
          "1954-09-07T00:00:00",
          "1954-09-25T00:00:00",
          "1954-11-04T00:00:00",
          "1954-12-03T00:00:00",
          "1955-01-02T00:00:00",
          "1955-02-05T00:00:00",
          "1955-03-01T00:00:00",
          "1955-03-30T00:00:00",
          "1955-04-28T00:00:00",
          "1955-05-27T00:00:00",
          "1955-06-19T00:00:00",
          "1955-07-24T00:00:00",
          "1955-08-28T00:00:00",
          "1955-09-14T00:00:00",
          "1955-10-08T00:00:00",
          "1955-11-06T00:00:00",
          "1955-12-10T00:00:00",
          "1956-01-03T00:00:00",
          "1956-02-01T00:00:00",
          "1956-03-01T00:00:00",
          "1956-04-05T00:00:00",
          "1956-04-28T00:00:00",
          "1956-06-08T00:00:00",
          "1956-07-07T00:00:00",
          "1956-08-05T00:00:00",
          "1956-08-16T00:00:00",
          "1956-09-26T00:00:00",
          "1956-10-19T00:00:00",
          "1956-11-17T00:00:00",
          "1956-12-16T00:00:00",
          "1957-01-15T00:00:00",
          "1957-02-13T00:00:00",
          "1957-03-08T00:00:00",
          "1957-03-31T00:00:00",
          "1957-04-23T00:00:00",
          "1957-06-03T00:00:00",
          "1957-07-02T00:00:00",
          "1957-07-31T00:00:00",
          "1957-08-29T00:00:00",
          "1957-10-03T00:00:00",
          "1957-10-26T00:00:00",
          "1957-11-19T00:00:00",
          "1957-12-24T00:00:00",
          "1958-01-22T00:00:00",
          "1958-02-20T00:00:00",
          "1958-03-15T00:00:00",
          "1958-04-19T00:00:00",
          "1958-05-12T00:00:00",
          "1958-06-04T00:00:00",
          "1958-07-09T00:00:00",
          "1958-08-01T00:00:00",
          "1958-08-30T00:00:00",
          "1958-09-29T00:00:00",
          "1958-11-02T00:00:00",
          "1958-12-01T00:00:00",
          "1958-12-25T00:00:00",
          "1959-02-03T00:00:00",
          "1959-03-05T00:00:00",
          "1959-03-22T00:00:00",
          "1959-05-02T00:00:00",
          "1959-05-25T00:00:00",
          "1959-06-23T00:00:00",
          "1959-07-16T00:00:00",
          "1959-08-20T00:00:00",
          "1959-09-24T00:00:00",
          "1959-10-06T00:00:00",
          "1959-11-04T00:00:00",
          "1959-12-03T00:00:00",
          "1960-01-01T00:00:00",
          "1960-01-30T00:00:00",
          "1960-03-05T00:00:00",
          "1960-03-28T00:00:00",
          "1960-04-26T00:00:00",
          "1960-05-31T00:00:00",
          "1960-06-17T00:00:00",
          "1960-07-28T00:00:00"
         ],
         "xaxis": "x",
         "y": [
          " 125,77639751552795",
          " 132,76397515527958",
          " 144,4099378881989",
          " 142,08074534161494",
          " 132,76397515527958",
          " 144,4099378881989",
          " 160,71428571428578",
          " 160,71428571428578",
          " 146,73913043478262",
          " 132,76397515527958",
          " 118,78881987577643",
          " 132,76397515527958",
          " 128,1055900621119",
          " 139,7515527950311",
          " 151,39751552795042",
          " 146,73913043478262",
          " 135,09316770186342",
          " 160,71428571428578",
          " 179,34782608695662",
          " 179,34782608695662",
          " 170,03105590062114",
          " 146,73913043478262",
          " 130,43478260869574",
          " 151,39751552795042",
          " 156,0559006211181",
          " 160,71428571428578",
          " 188,66459627329198",
          " 172,3602484472051",
          " 181,67701863354046",
          " 186,33540372670814",
          " 209,62732919254665",
          " 207,2981366459628",
          " 193,32298136645966",
          " 174,68944099378893",
          " 158,38509316770194",
          " 177,01863354037266",
          " 179,34782608695662",
          " 188,66459627329198",
          " 200,31055900621118",
          " 190,99378881987582",
          " 193,32298136645966",
          " 223,6024844720498",
          " 235,248447204969",
          " 244,56521739130437",
          " 218,94409937888202",
          " 202,63975155279513",
          " 184,0062111801243",
          " 202,63975155279513",
          " 202,63975155279513",
          " 202,63975155279513",
          " 244,56521739130437",
          " 242,23602484472053",
          " 235,248447204969",
          " 246,89440993788833",
          " 267,85714285714295",
          " 277,17391304347836",
          " 244,56521739130437",
          " 221,27329192546586",
          " 188,66459627329198",
          " 207,2981366459628",
          " 211,9565217391305",
          " 193,32298136645966",
          " 242,23602484472053",
          " 232,91925465838517",
          " 239,9068322981367",
          " 265,52795031055905",
          " 300,4658385093169",
          " 295,80745341614914",
          " 263,1987577639752",
          " 235,248447204969",
          " 209,62732919254665",
          " 235,248447204969",
          " 246,89440993788833",
          " 242,23602484472053",
          " 270,1863354037268",
          " 277,17391304347836",
          " 279,5031055900622",
          " 316,77018633540376",
          " 365,68322981366464",
          " 349,3788819875777",
          " 314,4409937888199",
          " 281,832298136646",
          " 244,56521739130437",
          " 281,832298136646",
          " 291,14906832298146",
          " 281,832298136646",
          " 316,77018633540376",
          " 314,4409937888199",
          " 319,09937888198766",
          " 372,6708074534162",
          " 412,2670807453417",
          " 402,9503105590063",
          " 356,3664596273292",
          " 314,4409937888199",
          " 277,17391304347836",
          " 309,78260869565224",
          " 319,09937888198766",
          " 305,1242236024845",
          " 356,3664596273292",
          " 347,04968944099386",
          " 356,3664596273292",
          " 416,92546583850935",
          " 463,5093167701864",
          " 463,5093167701864",
          " 402,9503105590063",
          " 347,04968944099386",
          " 309,78260869565224",
          " 335,40372670807454",
          " 342,3913043478262",
          " 323,7577639751553",
          " 361,02484472049696",
          " 344,72049689440996",
          " 363,35403726708086",
          " 435,5590062111802",
          " 482,14285714285717",
          " 496,1180124223603",
          " 400,6211180124224",
          " 358,6956521739131",
          " 314,4409937888199",
          " 337,73291925465844",
          " 358,6956521739131",
          " 342,3913043478262",
          " 402,9503105590063",
          " 391,304347826087",
          " 416,92546583850935",
          " 463,5093167701864",
          " 535,7142857142858",
          " 547,360248447205",
          " 458,8509316770187",
          " 405,2795031055901",
          " 363,35403726708086",
          " 400,6211180124224",
          " 414,5962732919255",
          " 391,304347826087",
          " 416,92546583850935",
          " 454,19254658385097",
          " 468,16770186335407",
          " 524,0683229813665",
          " 605,5900621118013",
          " 589,2857142857143",
          " 498,44720496894416",
          " 458,8509316770187",
          " 388,97515527950316",
          " 433,22981366459635"
         ],
         "yaxis": "y"
        }
       ],
       "layout": {
        "legend": {
         "tracegroupgap": 0
        },
        "template": {
         "data": {
          "bar": [
           {
            "error_x": {
             "color": "#2a3f5f"
            },
            "error_y": {
             "color": "#2a3f5f"
            },
            "marker": {
             "line": {
              "color": "#E5ECF6",
              "width": 0.5
             },
             "pattern": {
              "fillmode": "overlay",
              "size": 10,
              "solidity": 0.2
             }
            },
            "type": "bar"
           }
          ],
          "barpolar": [
           {
            "marker": {
             "line": {
              "color": "#E5ECF6",
              "width": 0.5
             },
             "pattern": {
              "fillmode": "overlay",
              "size": 10,
              "solidity": 0.2
             }
            },
            "type": "barpolar"
           }
          ],
          "carpet": [
           {
            "aaxis": {
             "endlinecolor": "#2a3f5f",
             "gridcolor": "white",
             "linecolor": "white",
             "minorgridcolor": "white",
             "startlinecolor": "#2a3f5f"
            },
            "baxis": {
             "endlinecolor": "#2a3f5f",
             "gridcolor": "white",
             "linecolor": "white",
             "minorgridcolor": "white",
             "startlinecolor": "#2a3f5f"
            },
            "type": "carpet"
           }
          ],
          "choropleth": [
           {
            "colorbar": {
             "outlinewidth": 0,
             "ticks": ""
            },
            "type": "choropleth"
           }
          ],
          "contour": [
           {
            "colorbar": {
             "outlinewidth": 0,
             "ticks": ""
            },
            "colorscale": [
             [
              0,
              "#0d0887"
             ],
             [
              0.1111111111111111,
              "#46039f"
             ],
             [
              0.2222222222222222,
              "#7201a8"
             ],
             [
              0.3333333333333333,
              "#9c179e"
             ],
             [
              0.4444444444444444,
              "#bd3786"
             ],
             [
              0.5555555555555556,
              "#d8576b"
             ],
             [
              0.6666666666666666,
              "#ed7953"
             ],
             [
              0.7777777777777778,
              "#fb9f3a"
             ],
             [
              0.8888888888888888,
              "#fdca26"
             ],
             [
              1,
              "#f0f921"
             ]
            ],
            "type": "contour"
           }
          ],
          "contourcarpet": [
           {
            "colorbar": {
             "outlinewidth": 0,
             "ticks": ""
            },
            "type": "contourcarpet"
           }
          ],
          "heatmap": [
           {
            "colorbar": {
             "outlinewidth": 0,
             "ticks": ""
            },
            "colorscale": [
             [
              0,
              "#0d0887"
             ],
             [
              0.1111111111111111,
              "#46039f"
             ],
             [
              0.2222222222222222,
              "#7201a8"
             ],
             [
              0.3333333333333333,
              "#9c179e"
             ],
             [
              0.4444444444444444,
              "#bd3786"
             ],
             [
              0.5555555555555556,
              "#d8576b"
             ],
             [
              0.6666666666666666,
              "#ed7953"
             ],
             [
              0.7777777777777778,
              "#fb9f3a"
             ],
             [
              0.8888888888888888,
              "#fdca26"
             ],
             [
              1,
              "#f0f921"
             ]
            ],
            "type": "heatmap"
           }
          ],
          "heatmapgl": [
           {
            "colorbar": {
             "outlinewidth": 0,
             "ticks": ""
            },
            "colorscale": [
             [
              0,
              "#0d0887"
             ],
             [
              0.1111111111111111,
              "#46039f"
             ],
             [
              0.2222222222222222,
              "#7201a8"
             ],
             [
              0.3333333333333333,
              "#9c179e"
             ],
             [
              0.4444444444444444,
              "#bd3786"
             ],
             [
              0.5555555555555556,
              "#d8576b"
             ],
             [
              0.6666666666666666,
              "#ed7953"
             ],
             [
              0.7777777777777778,
              "#fb9f3a"
             ],
             [
              0.8888888888888888,
              "#fdca26"
             ],
             [
              1,
              "#f0f921"
             ]
            ],
            "type": "heatmapgl"
           }
          ],
          "histogram": [
           {
            "marker": {
             "pattern": {
              "fillmode": "overlay",
              "size": 10,
              "solidity": 0.2
             }
            },
            "type": "histogram"
           }
          ],
          "histogram2d": [
           {
            "colorbar": {
             "outlinewidth": 0,
             "ticks": ""
            },
            "colorscale": [
             [
              0,
              "#0d0887"
             ],
             [
              0.1111111111111111,
              "#46039f"
             ],
             [
              0.2222222222222222,
              "#7201a8"
             ],
             [
              0.3333333333333333,
              "#9c179e"
             ],
             [
              0.4444444444444444,
              "#bd3786"
             ],
             [
              0.5555555555555556,
              "#d8576b"
             ],
             [
              0.6666666666666666,
              "#ed7953"
             ],
             [
              0.7777777777777778,
              "#fb9f3a"
             ],
             [
              0.8888888888888888,
              "#fdca26"
             ],
             [
              1,
              "#f0f921"
             ]
            ],
            "type": "histogram2d"
           }
          ],
          "histogram2dcontour": [
           {
            "colorbar": {
             "outlinewidth": 0,
             "ticks": ""
            },
            "colorscale": [
             [
              0,
              "#0d0887"
             ],
             [
              0.1111111111111111,
              "#46039f"
             ],
             [
              0.2222222222222222,
              "#7201a8"
             ],
             [
              0.3333333333333333,
              "#9c179e"
             ],
             [
              0.4444444444444444,
              "#bd3786"
             ],
             [
              0.5555555555555556,
              "#d8576b"
             ],
             [
              0.6666666666666666,
              "#ed7953"
             ],
             [
              0.7777777777777778,
              "#fb9f3a"
             ],
             [
              0.8888888888888888,
              "#fdca26"
             ],
             [
              1,
              "#f0f921"
             ]
            ],
            "type": "histogram2dcontour"
           }
          ],
          "mesh3d": [
           {
            "colorbar": {
             "outlinewidth": 0,
             "ticks": ""
            },
            "type": "mesh3d"
           }
          ],
          "parcoords": [
           {
            "line": {
             "colorbar": {
              "outlinewidth": 0,
              "ticks": ""
             }
            },
            "type": "parcoords"
           }
          ],
          "pie": [
           {
            "automargin": true,
            "type": "pie"
           }
          ],
          "scatter": [
           {
            "fillpattern": {
             "fillmode": "overlay",
             "size": 10,
             "solidity": 0.2
            },
            "type": "scatter"
           }
          ],
          "scatter3d": [
           {
            "line": {
             "colorbar": {
              "outlinewidth": 0,
              "ticks": ""
             }
            },
            "marker": {
             "colorbar": {
              "outlinewidth": 0,
              "ticks": ""
             }
            },
            "type": "scatter3d"
           }
          ],
          "scattercarpet": [
           {
            "marker": {
             "colorbar": {
              "outlinewidth": 0,
              "ticks": ""
             }
            },
            "type": "scattercarpet"
           }
          ],
          "scattergeo": [
           {
            "marker": {
             "colorbar": {
              "outlinewidth": 0,
              "ticks": ""
             }
            },
            "type": "scattergeo"
           }
          ],
          "scattergl": [
           {
            "marker": {
             "colorbar": {
              "outlinewidth": 0,
              "ticks": ""
             }
            },
            "type": "scattergl"
           }
          ],
          "scattermapbox": [
           {
            "marker": {
             "colorbar": {
              "outlinewidth": 0,
              "ticks": ""
             }
            },
            "type": "scattermapbox"
           }
          ],
          "scatterpolar": [
           {
            "marker": {
             "colorbar": {
              "outlinewidth": 0,
              "ticks": ""
             }
            },
            "type": "scatterpolar"
           }
          ],
          "scatterpolargl": [
           {
            "marker": {
             "colorbar": {
              "outlinewidth": 0,
              "ticks": ""
             }
            },
            "type": "scatterpolargl"
           }
          ],
          "scatterternary": [
           {
            "marker": {
             "colorbar": {
              "outlinewidth": 0,
              "ticks": ""
             }
            },
            "type": "scatterternary"
           }
          ],
          "surface": [
           {
            "colorbar": {
             "outlinewidth": 0,
             "ticks": ""
            },
            "colorscale": [
             [
              0,
              "#0d0887"
             ],
             [
              0.1111111111111111,
              "#46039f"
             ],
             [
              0.2222222222222222,
              "#7201a8"
             ],
             [
              0.3333333333333333,
              "#9c179e"
             ],
             [
              0.4444444444444444,
              "#bd3786"
             ],
             [
              0.5555555555555556,
              "#d8576b"
             ],
             [
              0.6666666666666666,
              "#ed7953"
             ],
             [
              0.7777777777777778,
              "#fb9f3a"
             ],
             [
              0.8888888888888888,
              "#fdca26"
             ],
             [
              1,
              "#f0f921"
             ]
            ],
            "type": "surface"
           }
          ],
          "table": [
           {
            "cells": {
             "fill": {
              "color": "#EBF0F8"
             },
             "line": {
              "color": "white"
             }
            },
            "header": {
             "fill": {
              "color": "#C8D4E3"
             },
             "line": {
              "color": "white"
             }
            },
            "type": "table"
           }
          ]
         },
         "layout": {
          "annotationdefaults": {
           "arrowcolor": "#2a3f5f",
           "arrowhead": 0,
           "arrowwidth": 1
          },
          "autotypenumbers": "strict",
          "coloraxis": {
           "colorbar": {
            "outlinewidth": 0,
            "ticks": ""
           }
          },
          "colorscale": {
           "diverging": [
            [
             0,
             "#8e0152"
            ],
            [
             0.1,
             "#c51b7d"
            ],
            [
             0.2,
             "#de77ae"
            ],
            [
             0.3,
             "#f1b6da"
            ],
            [
             0.4,
             "#fde0ef"
            ],
            [
             0.5,
             "#f7f7f7"
            ],
            [
             0.6,
             "#e6f5d0"
            ],
            [
             0.7,
             "#b8e186"
            ],
            [
             0.8,
             "#7fbc41"
            ],
            [
             0.9,
             "#4d9221"
            ],
            [
             1,
             "#276419"
            ]
           ],
           "sequential": [
            [
             0,
             "#0d0887"
            ],
            [
             0.1111111111111111,
             "#46039f"
            ],
            [
             0.2222222222222222,
             "#7201a8"
            ],
            [
             0.3333333333333333,
             "#9c179e"
            ],
            [
             0.4444444444444444,
             "#bd3786"
            ],
            [
             0.5555555555555556,
             "#d8576b"
            ],
            [
             0.6666666666666666,
             "#ed7953"
            ],
            [
             0.7777777777777778,
             "#fb9f3a"
            ],
            [
             0.8888888888888888,
             "#fdca26"
            ],
            [
             1,
             "#f0f921"
            ]
           ],
           "sequentialminus": [
            [
             0,
             "#0d0887"
            ],
            [
             0.1111111111111111,
             "#46039f"
            ],
            [
             0.2222222222222222,
             "#7201a8"
            ],
            [
             0.3333333333333333,
             "#9c179e"
            ],
            [
             0.4444444444444444,
             "#bd3786"
            ],
            [
             0.5555555555555556,
             "#d8576b"
            ],
            [
             0.6666666666666666,
             "#ed7953"
            ],
            [
             0.7777777777777778,
             "#fb9f3a"
            ],
            [
             0.8888888888888888,
             "#fdca26"
            ],
            [
             1,
             "#f0f921"
            ]
           ]
          },
          "colorway": [
           "#636efa",
           "#EF553B",
           "#00cc96",
           "#ab63fa",
           "#FFA15A",
           "#19d3f3",
           "#FF6692",
           "#B6E880",
           "#FF97FF",
           "#FECB52"
          ],
          "font": {
           "color": "#2a3f5f"
          },
          "geo": {
           "bgcolor": "white",
           "lakecolor": "white",
           "landcolor": "#E5ECF6",
           "showlakes": true,
           "showland": true,
           "subunitcolor": "white"
          },
          "hoverlabel": {
           "align": "left"
          },
          "hovermode": "closest",
          "mapbox": {
           "style": "light"
          },
          "paper_bgcolor": "white",
          "plot_bgcolor": "#E5ECF6",
          "polar": {
           "angularaxis": {
            "gridcolor": "white",
            "linecolor": "white",
            "ticks": ""
           },
           "bgcolor": "#E5ECF6",
           "radialaxis": {
            "gridcolor": "white",
            "linecolor": "white",
            "ticks": ""
           }
          },
          "scene": {
           "xaxis": {
            "backgroundcolor": "#E5ECF6",
            "gridcolor": "white",
            "gridwidth": 2,
            "linecolor": "white",
            "showbackground": true,
            "ticks": "",
            "zerolinecolor": "white"
           },
           "yaxis": {
            "backgroundcolor": "#E5ECF6",
            "gridcolor": "white",
            "gridwidth": 2,
            "linecolor": "white",
            "showbackground": true,
            "ticks": "",
            "zerolinecolor": "white"
           },
           "zaxis": {
            "backgroundcolor": "#E5ECF6",
            "gridcolor": "white",
            "gridwidth": 2,
            "linecolor": "white",
            "showbackground": true,
            "ticks": "",
            "zerolinecolor": "white"
           }
          },
          "shapedefaults": {
           "line": {
            "color": "#2a3f5f"
           }
          },
          "ternary": {
           "aaxis": {
            "gridcolor": "white",
            "linecolor": "white",
            "ticks": ""
           },
           "baxis": {
            "gridcolor": "white",
            "linecolor": "white",
            "ticks": ""
           },
           "bgcolor": "#E5ECF6",
           "caxis": {
            "gridcolor": "white",
            "linecolor": "white",
            "ticks": ""
           }
          },
          "title": {
           "x": 0.05
          },
          "xaxis": {
           "automargin": true,
           "gridcolor": "white",
           "linecolor": "white",
           "ticks": "",
           "title": {
            "standoff": 15
           },
           "zerolinecolor": "white",
           "zerolinewidth": 2
          },
          "yaxis": {
           "automargin": true,
           "gridcolor": "white",
           "linecolor": "white",
           "ticks": "",
           "title": {
            "standoff": 15
           },
           "zerolinecolor": "white",
           "zerolinewidth": 2
          }
         }
        },
        "title": {
         "text": "Evolución del número de pasajeros a lo largo del tiempo"
        },
        "xaxis": {
         "anchor": "y",
         "domain": [
          0,
          1
         ],
         "title": {
          "text": "Fecha"
         }
        },
        "yaxis": {
         "anchor": "x",
         "domain": [
          0,
          1
         ],
         "title": {
          "text": "Número de pasajeros"
         }
        }
       }
      }
     },
     "metadata": {},
     "output_type": "display_data"
    }
   ],
   "source": [
    "# Crear el gráfico de la evolución de los pasajeros a lo largo del tiempo\n",
    "fig = px.line(df, x=\"Time\", y=\"Passengers\", title=\"Evolución del número de pasajeros a lo largo del tiempo\",\n",
    "              labels={\"Time\": \"Fecha\", \"Passengers\": \"Número de pasajeros\"})\n",
    "\n",
    "# Mostrar el gráfico\n",
    "fig.show()"
   ]
  },
  {
   "cell_type": "markdown",
   "metadata": {},
   "source": [
    "7. **Apply the ADF (Augmented Dickey-Fuller) test to the time series from the CSV.**  \n",
    "   - What is the null hypothesis?  \n",
    "   - What result do you obtain, and what does it imply about the stationarity of the data?\n",
    "\n"
   ]
  },
  {
   "cell_type": "code",
   "execution_count": 34,
   "metadata": {},
   "outputs": [],
   "source": [
    "from statsmodels.tsa.stattools import adfuller"
   ]
  },
  {
   "cell_type": "code",
   "execution_count": 36,
   "metadata": {},
   "outputs": [],
   "source": [
    "\n",
    "# Convertir la columna 'Passengers' a formato numérico, reemplazando las comas por puntos\n",
    "df[\"Passengers\"] = df[\"Passengers\"].str.replace(\",\", \".\").astype(float)\n"
   ]
  },
  {
   "cell_type": "code",
   "execution_count": 37,
   "metadata": {},
   "outputs": [],
   "source": [
    "result = adfuller(df[\"Passengers\"])"
   ]
  },
  {
   "cell_type": "code",
   "execution_count": 38,
   "metadata": {},
   "outputs": [
    {
     "name": "stdout",
     "output_type": "stream",
     "text": [
      "Resultado del Test ADF:\n",
      "Estadístico de la prueba ADF: 0.7956945025266231\n",
      "Valor p: 0.9915663503975671\n",
      "Valor crítico (1%): -3.4816817173418295\n",
      "Valor crítico (5%): -2.8840418343195267\n",
      "Valor crítico (10%): -2.578770059171598\n"
     ]
    }
   ],
   "source": [
    "# Mostrar los resultados del test ADF\n",
    "print(\"Resultado del Test ADF:\")\n",
    "print(f\"Estadístico de la prueba ADF: {result[0]}\")\n",
    "print(f\"Valor p: {result[1]}\")\n",
    "print(f\"Valor crítico (1%): {result[4]['1%']}\")\n",
    "print(f\"Valor crítico (5%): {result[4]['5%']}\")\n",
    "print(f\"Valor crítico (10%): {result[4]['10%']}\")"
   ]
  },
  {
   "cell_type": "code",
   "execution_count": 39,
   "metadata": {},
   "outputs": [
    {
     "name": "stdout",
     "output_type": "stream",
     "text": [
      "\n",
      "Conclusión: No rechazamos la hipótesis nula. La serie temporal no es estacionaria.\n"
     ]
    }
   ],
   "source": [
    "# Interpretar el resultado\n",
    "if result[1] < 0.05:\n",
    "    print(\"\\nConclusión: Rechazamos la hipótesis nula. La serie temporal es estacionaria.\")\n",
    "else:\n",
    "    print(\"\\nConclusión: No rechazamos la hipótesis nula. La serie temporal no es estacionaria.\")"
   ]
  },
  {
   "cell_type": "markdown",
   "metadata": {},
   "source": [
    "8. **Apply a 12-month simple moving average (SMA) to the data and plot it along with the original series.**  \n",
    "   Explain what additional insights the moving average provides.\n",
    "\n"
   ]
  },
  {
   "cell_type": "code",
   "execution_count": 40,
   "metadata": {},
   "outputs": [
    {
     "data": {
      "application/vnd.plotly.v1+json": {
       "config": {
        "plotlyServerURL": "https://plot.ly"
       },
       "data": [
        {
         "hovertemplate": "variable=Passengers<br>Fecha=%{x}<br>value=%{y}<extra></extra>",
         "legendgroup": "Passengers",
         "line": {
          "color": "#636efa",
          "dash": "solid"
         },
         "marker": {
          "symbol": "circle"
         },
         "mode": "lines",
         "name": "Passengers",
         "orientation": "v",
         "showlegend": true,
         "type": "scatter",
         "x": [
          "1949-05-09T00:00:00",
          "1949-06-13T00:00:00",
          "1949-07-18T00:00:00",
          "1949-08-04T00:00:00",
          "1949-09-02T00:00:00",
          "1949-10-01T00:00:00",
          "1949-10-30T00:00:00",
          "1949-12-04T00:00:00",
          "1949-12-27T00:00:00",
          "1950-02-06T00:00:00",
          "1950-03-01T00:00:00",
          "1950-03-19T00:00:00",
          "1950-04-23T00:00:00",
          "1950-05-16T00:00:00",
          "1950-06-08T00:00:00",
          "1950-07-13T00:00:00",
          "1950-08-17T00:00:00",
          "1950-09-09T00:00:00",
          "1950-10-14T00:00:00",
          "1950-11-06T00:00:00",
          "1950-11-30T00:00:00",
          "1950-12-29T00:00:00",
          "1951-02-02T00:00:00",
          "1951-03-03T00:00:00",
          "1951-04-06T00:00:00",
          "1951-04-30T00:00:00",
          "1951-06-04T00:00:00",
          "1951-06-15T00:00:00",
          "1951-07-20T00:00:00",
          "1951-08-18T00:00:00",
          "1951-09-10T00:00:00",
          "1951-10-09T00:00:00",
          "1951-11-13T00:00:00",
          "1951-12-07T00:00:00",
          "1952-01-16T00:00:00",
          "1952-02-03T00:00:00",
          "1952-02-26T00:00:00",
          "1952-04-01T00:00:00",
          "1952-05-12T00:00:00",
          "1952-06-04T00:00:00",
          "1952-07-09T00:00:00",
          "1952-07-26T00:00:00",
          "1952-08-30T00:00:00",
          "1952-10-10T00:00:00",
          "1952-10-15T00:00:00",
          "1952-11-14T00:00:00",
          "1952-12-24T00:00:00",
          "1953-01-11T00:00:00",
          "1953-02-09T00:00:00",
          "1953-03-16T00:00:00",
          "1953-04-08T00:00:00",
          "1953-05-13T00:00:00",
          "1953-05-30T00:00:00",
          "1953-07-10T00:00:00",
          "1953-07-27T00:00:00",
          "1953-08-31T00:00:00",
          "1953-10-05T00:00:00",
          "1953-11-03T00:00:00",
          "1953-12-02T00:00:00",
          "1953-12-31T00:00:00",
          "1954-01-24T00:00:00",
          "1954-02-16T00:00:00",
          "1954-03-17T00:00:00",
          "1954-04-21T00:00:00",
          "1954-05-08T00:00:00",
          "1954-06-06T00:00:00",
          "1954-07-17T00:00:00",
          "1954-08-09T00:00:00",
          "1954-09-07T00:00:00",
          "1954-09-25T00:00:00",
          "1954-11-04T00:00:00",
          "1954-12-03T00:00:00",
          "1955-01-02T00:00:00",
          "1955-02-05T00:00:00",
          "1955-03-01T00:00:00",
          "1955-03-30T00:00:00",
          "1955-04-28T00:00:00",
          "1955-05-27T00:00:00",
          "1955-06-19T00:00:00",
          "1955-07-24T00:00:00",
          "1955-08-28T00:00:00",
          "1955-09-14T00:00:00",
          "1955-10-08T00:00:00",
          "1955-11-06T00:00:00",
          "1955-12-10T00:00:00",
          "1956-01-03T00:00:00",
          "1956-02-01T00:00:00",
          "1956-03-01T00:00:00",
          "1956-04-05T00:00:00",
          "1956-04-28T00:00:00",
          "1956-06-08T00:00:00",
          "1956-07-07T00:00:00",
          "1956-08-05T00:00:00",
          "1956-08-16T00:00:00",
          "1956-09-26T00:00:00",
          "1956-10-19T00:00:00",
          "1956-11-17T00:00:00",
          "1956-12-16T00:00:00",
          "1957-01-15T00:00:00",
          "1957-02-13T00:00:00",
          "1957-03-08T00:00:00",
          "1957-03-31T00:00:00",
          "1957-04-23T00:00:00",
          "1957-06-03T00:00:00",
          "1957-07-02T00:00:00",
          "1957-07-31T00:00:00",
          "1957-08-29T00:00:00",
          "1957-10-03T00:00:00",
          "1957-10-26T00:00:00",
          "1957-11-19T00:00:00",
          "1957-12-24T00:00:00",
          "1958-01-22T00:00:00",
          "1958-02-20T00:00:00",
          "1958-03-15T00:00:00",
          "1958-04-19T00:00:00",
          "1958-05-12T00:00:00",
          "1958-06-04T00:00:00",
          "1958-07-09T00:00:00",
          "1958-08-01T00:00:00",
          "1958-08-30T00:00:00",
          "1958-09-29T00:00:00",
          "1958-11-02T00:00:00",
          "1958-12-01T00:00:00",
          "1958-12-25T00:00:00",
          "1959-02-03T00:00:00",
          "1959-03-05T00:00:00",
          "1959-03-22T00:00:00",
          "1959-05-02T00:00:00",
          "1959-05-25T00:00:00",
          "1959-06-23T00:00:00",
          "1959-07-16T00:00:00",
          "1959-08-20T00:00:00",
          "1959-09-24T00:00:00",
          "1959-10-06T00:00:00",
          "1959-11-04T00:00:00",
          "1959-12-03T00:00:00",
          "1960-01-01T00:00:00",
          "1960-01-30T00:00:00",
          "1960-03-05T00:00:00",
          "1960-03-28T00:00:00",
          "1960-04-26T00:00:00",
          "1960-05-31T00:00:00",
          "1960-06-17T00:00:00",
          "1960-07-28T00:00:00"
         ],
         "xaxis": "x",
         "y": [
          125.77639751552795,
          132.76397515527958,
          144.4099378881989,
          142.08074534161494,
          132.76397515527958,
          144.4099378881989,
          160.71428571428578,
          160.71428571428578,
          146.73913043478262,
          132.76397515527958,
          118.78881987577643,
          132.76397515527958,
          128.1055900621119,
          139.7515527950311,
          151.39751552795042,
          146.73913043478262,
          135.09316770186342,
          160.71428571428578,
          179.34782608695662,
          179.34782608695662,
          170.03105590062114,
          146.73913043478262,
          130.43478260869574,
          151.39751552795042,
          156.0559006211181,
          160.71428571428578,
          188.66459627329198,
          172.3602484472051,
          181.67701863354046,
          186.33540372670814,
          209.62732919254665,
          207.2981366459628,
          193.32298136645966,
          174.68944099378893,
          158.38509316770194,
          177.01863354037266,
          179.34782608695662,
          188.66459627329198,
          200.31055900621118,
          190.99378881987582,
          193.32298136645966,
          223.6024844720498,
          235.248447204969,
          244.56521739130437,
          218.94409937888202,
          202.63975155279513,
          184.0062111801243,
          202.63975155279513,
          202.63975155279513,
          202.63975155279513,
          244.56521739130437,
          242.23602484472053,
          235.248447204969,
          246.89440993788833,
          267.85714285714295,
          277.17391304347836,
          244.56521739130437,
          221.27329192546586,
          188.66459627329198,
          207.2981366459628,
          211.9565217391305,
          193.32298136645966,
          242.23602484472053,
          232.91925465838517,
          239.9068322981367,
          265.52795031055905,
          300.4658385093169,
          295.80745341614914,
          263.1987577639752,
          235.248447204969,
          209.62732919254665,
          235.248447204969,
          246.89440993788833,
          242.23602484472053,
          270.1863354037268,
          277.17391304347836,
          279.5031055900622,
          316.77018633540376,
          365.68322981366464,
          349.3788819875777,
          314.4409937888199,
          281.832298136646,
          244.56521739130437,
          281.832298136646,
          291.14906832298146,
          281.832298136646,
          316.77018633540376,
          314.4409937888199,
          319.09937888198766,
          372.6708074534162,
          412.2670807453417,
          402.9503105590063,
          356.3664596273292,
          314.4409937888199,
          277.17391304347836,
          309.78260869565224,
          319.09937888198766,
          305.1242236024845,
          356.3664596273292,
          347.04968944099386,
          356.3664596273292,
          416.92546583850935,
          463.5093167701864,
          463.5093167701864,
          402.9503105590063,
          347.04968944099386,
          309.78260869565224,
          335.40372670807454,
          342.3913043478262,
          323.7577639751553,
          361.02484472049696,
          344.72049689440996,
          363.35403726708086,
          435.5590062111802,
          482.14285714285717,
          496.1180124223603,
          400.6211180124224,
          358.6956521739131,
          314.4409937888199,
          337.73291925465844,
          358.6956521739131,
          342.3913043478262,
          402.9503105590063,
          391.304347826087,
          416.92546583850935,
          463.5093167701864,
          535.7142857142858,
          547.360248447205,
          458.8509316770187,
          405.2795031055901,
          363.35403726708086,
          400.6211180124224,
          414.5962732919255,
          391.304347826087,
          416.92546583850935,
          454.19254658385097,
          468.16770186335407,
          524.0683229813665,
          605.5900621118013,
          589.2857142857143,
          498.44720496894416,
          458.8509316770187,
          388.97515527950316,
          433.22981366459635
         ],
         "yaxis": "y"
        },
        {
         "hovertemplate": "variable=SMA_12<br>Fecha=%{x}<br>value=%{y}<extra></extra>",
         "legendgroup": "SMA_12",
         "line": {
          "color": "#EF553B",
          "dash": "solid"
         },
         "marker": {
          "symbol": "circle"
         },
         "mode": "lines",
         "name": "SMA_12",
         "orientation": "v",
         "showlegend": true,
         "type": "scatter",
         "x": [
          "1949-05-09T00:00:00",
          "1949-06-13T00:00:00",
          "1949-07-18T00:00:00",
          "1949-08-04T00:00:00",
          "1949-09-02T00:00:00",
          "1949-10-01T00:00:00",
          "1949-10-30T00:00:00",
          "1949-12-04T00:00:00",
          "1949-12-27T00:00:00",
          "1950-02-06T00:00:00",
          "1950-03-01T00:00:00",
          "1950-03-19T00:00:00",
          "1950-04-23T00:00:00",
          "1950-05-16T00:00:00",
          "1950-06-08T00:00:00",
          "1950-07-13T00:00:00",
          "1950-08-17T00:00:00",
          "1950-09-09T00:00:00",
          "1950-10-14T00:00:00",
          "1950-11-06T00:00:00",
          "1950-11-30T00:00:00",
          "1950-12-29T00:00:00",
          "1951-02-02T00:00:00",
          "1951-03-03T00:00:00",
          "1951-04-06T00:00:00",
          "1951-04-30T00:00:00",
          "1951-06-04T00:00:00",
          "1951-06-15T00:00:00",
          "1951-07-20T00:00:00",
          "1951-08-18T00:00:00",
          "1951-09-10T00:00:00",
          "1951-10-09T00:00:00",
          "1951-11-13T00:00:00",
          "1951-12-07T00:00:00",
          "1952-01-16T00:00:00",
          "1952-02-03T00:00:00",
          "1952-02-26T00:00:00",
          "1952-04-01T00:00:00",
          "1952-05-12T00:00:00",
          "1952-06-04T00:00:00",
          "1952-07-09T00:00:00",
          "1952-07-26T00:00:00",
          "1952-08-30T00:00:00",
          "1952-10-10T00:00:00",
          "1952-10-15T00:00:00",
          "1952-11-14T00:00:00",
          "1952-12-24T00:00:00",
          "1953-01-11T00:00:00",
          "1953-02-09T00:00:00",
          "1953-03-16T00:00:00",
          "1953-04-08T00:00:00",
          "1953-05-13T00:00:00",
          "1953-05-30T00:00:00",
          "1953-07-10T00:00:00",
          "1953-07-27T00:00:00",
          "1953-08-31T00:00:00",
          "1953-10-05T00:00:00",
          "1953-11-03T00:00:00",
          "1953-12-02T00:00:00",
          "1953-12-31T00:00:00",
          "1954-01-24T00:00:00",
          "1954-02-16T00:00:00",
          "1954-03-17T00:00:00",
          "1954-04-21T00:00:00",
          "1954-05-08T00:00:00",
          "1954-06-06T00:00:00",
          "1954-07-17T00:00:00",
          "1954-08-09T00:00:00",
          "1954-09-07T00:00:00",
          "1954-09-25T00:00:00",
          "1954-11-04T00:00:00",
          "1954-12-03T00:00:00",
          "1955-01-02T00:00:00",
          "1955-02-05T00:00:00",
          "1955-03-01T00:00:00",
          "1955-03-30T00:00:00",
          "1955-04-28T00:00:00",
          "1955-05-27T00:00:00",
          "1955-06-19T00:00:00",
          "1955-07-24T00:00:00",
          "1955-08-28T00:00:00",
          "1955-09-14T00:00:00",
          "1955-10-08T00:00:00",
          "1955-11-06T00:00:00",
          "1955-12-10T00:00:00",
          "1956-01-03T00:00:00",
          "1956-02-01T00:00:00",
          "1956-03-01T00:00:00",
          "1956-04-05T00:00:00",
          "1956-04-28T00:00:00",
          "1956-06-08T00:00:00",
          "1956-07-07T00:00:00",
          "1956-08-05T00:00:00",
          "1956-08-16T00:00:00",
          "1956-09-26T00:00:00",
          "1956-10-19T00:00:00",
          "1956-11-17T00:00:00",
          "1956-12-16T00:00:00",
          "1957-01-15T00:00:00",
          "1957-02-13T00:00:00",
          "1957-03-08T00:00:00",
          "1957-03-31T00:00:00",
          "1957-04-23T00:00:00",
          "1957-06-03T00:00:00",
          "1957-07-02T00:00:00",
          "1957-07-31T00:00:00",
          "1957-08-29T00:00:00",
          "1957-10-03T00:00:00",
          "1957-10-26T00:00:00",
          "1957-11-19T00:00:00",
          "1957-12-24T00:00:00",
          "1958-01-22T00:00:00",
          "1958-02-20T00:00:00",
          "1958-03-15T00:00:00",
          "1958-04-19T00:00:00",
          "1958-05-12T00:00:00",
          "1958-06-04T00:00:00",
          "1958-07-09T00:00:00",
          "1958-08-01T00:00:00",
          "1958-08-30T00:00:00",
          "1958-09-29T00:00:00",
          "1958-11-02T00:00:00",
          "1958-12-01T00:00:00",
          "1958-12-25T00:00:00",
          "1959-02-03T00:00:00",
          "1959-03-05T00:00:00",
          "1959-03-22T00:00:00",
          "1959-05-02T00:00:00",
          "1959-05-25T00:00:00",
          "1959-06-23T00:00:00",
          "1959-07-16T00:00:00",
          "1959-08-20T00:00:00",
          "1959-09-24T00:00:00",
          "1959-10-06T00:00:00",
          "1959-11-04T00:00:00",
          "1959-12-03T00:00:00",
          "1960-01-01T00:00:00",
          "1960-01-30T00:00:00",
          "1960-03-05T00:00:00",
          "1960-03-28T00:00:00",
          "1960-04-26T00:00:00",
          "1960-05-31T00:00:00",
          "1960-06-17T00:00:00",
          "1960-07-28T00:00:00"
         ],
         "xaxis": "x",
         "y": [
          null,
          null,
          null,
          null,
          null,
          null,
          null,
          null,
          null,
          null,
          null,
          139.55745341614912,
          139.75155279503113,
          140.3338509316771,
          140.91614906832305,
          141.30434782608702,
          141.498447204969,
          142.85714285714292,
          144.4099378881988,
          145.9627329192547,
          147.9037267080746,
          149.06832298136652,
          150.03881987577645,
          151.59161490683235,
          153.92080745341622,
          155.6677018633541,
          158.77329192546588,
          160.9083850931678,
          164.79037267080753,
          166.92546583850938,
          169.44875776397524,
          171.77795031055908,
          173.71894409937894,
          176.0481366459628,
          178.37732919254665,
          180.5124223602485,
          182.4534161490684,
          184.78260869565224,
          185.7531055900622,
          187.30590062111807,
          188.27639751552803,
          191.38198757763982,
          193.51708074534167,
          196.6226708074535,
          198.75776397515537,
          201.08695652173915,
          203.22204968944104,
          205.3571428571429,
          207.29813664596278,
          208.4627329192547,
          212.1506211180125,
          216.4208074534162,
          219.91459627329198,
          221.85559006211187,
          224.5729813664597,
          227.29037267080753,
          229.42546583850938,
          230.97826086956533,
          231.36645962732928,
          231.75465838509322,
          232.53105590062117,
          231.75465838509322,
          231.56055900621126,
          230.78416149068332,
          231.17236024844726,
          232.72515527950318,
          235.442546583851,
          236.9953416149069,
          238.54813664596278,
          239.7127329192547,
          241.4596273291926,
          243.78881987577645,
          246.7003105590063,
          250.77639751552803,
          253.10559006211187,
          256.7934782608697,
          260.0931677018635,
          264.36335403726713,
          269.7981366459628,
          274.26242236024854,
          278.53260869565224,
          282.414596273292,
          285.3260869565218,
          289.20807453416154,
          292.8959627329193,
          296.19565217391306,
          300.07763975155285,
          303.18322981366464,
          306.4829192546584,
          311.1413043478261,
          315.0232919254659,
          319.4875776397516,
          322.9813664596274,
          325.6987577639752,
          328.416149068323,
          330.74534161490686,
          333.07453416149076,
          335.0155279503106,
          338.31521739130443,
          341.03260869565224,
          344.13819875776403,
          347.8260869565218,
          352.09627329192546,
          357.14285714285717,
          361.02484472049696,
          363.7422360248448,
          366.45962732919264,
          368.59472049689447,
          370.5357142857144,
          372.0885093167703,
          372.4767080745342,
          372.28260869565224,
          372.86490683229823,
          374.41770186335407,
          375.97049689440996,
          378.6878881987579,
          378.4937888198758,
          379.4642857142858,
          379.85248447204975,
          380.04658385093177,
          381.40527950310565,
          382.95807453416154,
          386.45186335403736,
          390.3338509316771,
          394.79813664596276,
          397.1273291925466,
          401.5916149068324,
          405.861801242236,
          410.7142857142858,
          414.59627329192557,
          418.6723602484472,
          423.91304347826093,
          428.5714285714286,
          432.64751552795036,
          433.8121118012423,
          439.05279503105595,
          443.3229813664597,
          448.3695652173914,
          454.19254658385097,
          457.6863354037268,
          460.98602484472053,
          465.45031055900625,
          467.58540372670814,
          470.30279503105595
         ],
         "yaxis": "y"
        }
       ],
       "layout": {
        "legend": {
         "title": {
          "text": "variable"
         },
         "tracegroupgap": 0
        },
        "template": {
         "data": {
          "bar": [
           {
            "error_x": {
             "color": "#2a3f5f"
            },
            "error_y": {
             "color": "#2a3f5f"
            },
            "marker": {
             "line": {
              "color": "#E5ECF6",
              "width": 0.5
             },
             "pattern": {
              "fillmode": "overlay",
              "size": 10,
              "solidity": 0.2
             }
            },
            "type": "bar"
           }
          ],
          "barpolar": [
           {
            "marker": {
             "line": {
              "color": "#E5ECF6",
              "width": 0.5
             },
             "pattern": {
              "fillmode": "overlay",
              "size": 10,
              "solidity": 0.2
             }
            },
            "type": "barpolar"
           }
          ],
          "carpet": [
           {
            "aaxis": {
             "endlinecolor": "#2a3f5f",
             "gridcolor": "white",
             "linecolor": "white",
             "minorgridcolor": "white",
             "startlinecolor": "#2a3f5f"
            },
            "baxis": {
             "endlinecolor": "#2a3f5f",
             "gridcolor": "white",
             "linecolor": "white",
             "minorgridcolor": "white",
             "startlinecolor": "#2a3f5f"
            },
            "type": "carpet"
           }
          ],
          "choropleth": [
           {
            "colorbar": {
             "outlinewidth": 0,
             "ticks": ""
            },
            "type": "choropleth"
           }
          ],
          "contour": [
           {
            "colorbar": {
             "outlinewidth": 0,
             "ticks": ""
            },
            "colorscale": [
             [
              0,
              "#0d0887"
             ],
             [
              0.1111111111111111,
              "#46039f"
             ],
             [
              0.2222222222222222,
              "#7201a8"
             ],
             [
              0.3333333333333333,
              "#9c179e"
             ],
             [
              0.4444444444444444,
              "#bd3786"
             ],
             [
              0.5555555555555556,
              "#d8576b"
             ],
             [
              0.6666666666666666,
              "#ed7953"
             ],
             [
              0.7777777777777778,
              "#fb9f3a"
             ],
             [
              0.8888888888888888,
              "#fdca26"
             ],
             [
              1,
              "#f0f921"
             ]
            ],
            "type": "contour"
           }
          ],
          "contourcarpet": [
           {
            "colorbar": {
             "outlinewidth": 0,
             "ticks": ""
            },
            "type": "contourcarpet"
           }
          ],
          "heatmap": [
           {
            "colorbar": {
             "outlinewidth": 0,
             "ticks": ""
            },
            "colorscale": [
             [
              0,
              "#0d0887"
             ],
             [
              0.1111111111111111,
              "#46039f"
             ],
             [
              0.2222222222222222,
              "#7201a8"
             ],
             [
              0.3333333333333333,
              "#9c179e"
             ],
             [
              0.4444444444444444,
              "#bd3786"
             ],
             [
              0.5555555555555556,
              "#d8576b"
             ],
             [
              0.6666666666666666,
              "#ed7953"
             ],
             [
              0.7777777777777778,
              "#fb9f3a"
             ],
             [
              0.8888888888888888,
              "#fdca26"
             ],
             [
              1,
              "#f0f921"
             ]
            ],
            "type": "heatmap"
           }
          ],
          "heatmapgl": [
           {
            "colorbar": {
             "outlinewidth": 0,
             "ticks": ""
            },
            "colorscale": [
             [
              0,
              "#0d0887"
             ],
             [
              0.1111111111111111,
              "#46039f"
             ],
             [
              0.2222222222222222,
              "#7201a8"
             ],
             [
              0.3333333333333333,
              "#9c179e"
             ],
             [
              0.4444444444444444,
              "#bd3786"
             ],
             [
              0.5555555555555556,
              "#d8576b"
             ],
             [
              0.6666666666666666,
              "#ed7953"
             ],
             [
              0.7777777777777778,
              "#fb9f3a"
             ],
             [
              0.8888888888888888,
              "#fdca26"
             ],
             [
              1,
              "#f0f921"
             ]
            ],
            "type": "heatmapgl"
           }
          ],
          "histogram": [
           {
            "marker": {
             "pattern": {
              "fillmode": "overlay",
              "size": 10,
              "solidity": 0.2
             }
            },
            "type": "histogram"
           }
          ],
          "histogram2d": [
           {
            "colorbar": {
             "outlinewidth": 0,
             "ticks": ""
            },
            "colorscale": [
             [
              0,
              "#0d0887"
             ],
             [
              0.1111111111111111,
              "#46039f"
             ],
             [
              0.2222222222222222,
              "#7201a8"
             ],
             [
              0.3333333333333333,
              "#9c179e"
             ],
             [
              0.4444444444444444,
              "#bd3786"
             ],
             [
              0.5555555555555556,
              "#d8576b"
             ],
             [
              0.6666666666666666,
              "#ed7953"
             ],
             [
              0.7777777777777778,
              "#fb9f3a"
             ],
             [
              0.8888888888888888,
              "#fdca26"
             ],
             [
              1,
              "#f0f921"
             ]
            ],
            "type": "histogram2d"
           }
          ],
          "histogram2dcontour": [
           {
            "colorbar": {
             "outlinewidth": 0,
             "ticks": ""
            },
            "colorscale": [
             [
              0,
              "#0d0887"
             ],
             [
              0.1111111111111111,
              "#46039f"
             ],
             [
              0.2222222222222222,
              "#7201a8"
             ],
             [
              0.3333333333333333,
              "#9c179e"
             ],
             [
              0.4444444444444444,
              "#bd3786"
             ],
             [
              0.5555555555555556,
              "#d8576b"
             ],
             [
              0.6666666666666666,
              "#ed7953"
             ],
             [
              0.7777777777777778,
              "#fb9f3a"
             ],
             [
              0.8888888888888888,
              "#fdca26"
             ],
             [
              1,
              "#f0f921"
             ]
            ],
            "type": "histogram2dcontour"
           }
          ],
          "mesh3d": [
           {
            "colorbar": {
             "outlinewidth": 0,
             "ticks": ""
            },
            "type": "mesh3d"
           }
          ],
          "parcoords": [
           {
            "line": {
             "colorbar": {
              "outlinewidth": 0,
              "ticks": ""
             }
            },
            "type": "parcoords"
           }
          ],
          "pie": [
           {
            "automargin": true,
            "type": "pie"
           }
          ],
          "scatter": [
           {
            "fillpattern": {
             "fillmode": "overlay",
             "size": 10,
             "solidity": 0.2
            },
            "type": "scatter"
           }
          ],
          "scatter3d": [
           {
            "line": {
             "colorbar": {
              "outlinewidth": 0,
              "ticks": ""
             }
            },
            "marker": {
             "colorbar": {
              "outlinewidth": 0,
              "ticks": ""
             }
            },
            "type": "scatter3d"
           }
          ],
          "scattercarpet": [
           {
            "marker": {
             "colorbar": {
              "outlinewidth": 0,
              "ticks": ""
             }
            },
            "type": "scattercarpet"
           }
          ],
          "scattergeo": [
           {
            "marker": {
             "colorbar": {
              "outlinewidth": 0,
              "ticks": ""
             }
            },
            "type": "scattergeo"
           }
          ],
          "scattergl": [
           {
            "marker": {
             "colorbar": {
              "outlinewidth": 0,
              "ticks": ""
             }
            },
            "type": "scattergl"
           }
          ],
          "scattermapbox": [
           {
            "marker": {
             "colorbar": {
              "outlinewidth": 0,
              "ticks": ""
             }
            },
            "type": "scattermapbox"
           }
          ],
          "scatterpolar": [
           {
            "marker": {
             "colorbar": {
              "outlinewidth": 0,
              "ticks": ""
             }
            },
            "type": "scatterpolar"
           }
          ],
          "scatterpolargl": [
           {
            "marker": {
             "colorbar": {
              "outlinewidth": 0,
              "ticks": ""
             }
            },
            "type": "scatterpolargl"
           }
          ],
          "scatterternary": [
           {
            "marker": {
             "colorbar": {
              "outlinewidth": 0,
              "ticks": ""
             }
            },
            "type": "scatterternary"
           }
          ],
          "surface": [
           {
            "colorbar": {
             "outlinewidth": 0,
             "ticks": ""
            },
            "colorscale": [
             [
              0,
              "#0d0887"
             ],
             [
              0.1111111111111111,
              "#46039f"
             ],
             [
              0.2222222222222222,
              "#7201a8"
             ],
             [
              0.3333333333333333,
              "#9c179e"
             ],
             [
              0.4444444444444444,
              "#bd3786"
             ],
             [
              0.5555555555555556,
              "#d8576b"
             ],
             [
              0.6666666666666666,
              "#ed7953"
             ],
             [
              0.7777777777777778,
              "#fb9f3a"
             ],
             [
              0.8888888888888888,
              "#fdca26"
             ],
             [
              1,
              "#f0f921"
             ]
            ],
            "type": "surface"
           }
          ],
          "table": [
           {
            "cells": {
             "fill": {
              "color": "#EBF0F8"
             },
             "line": {
              "color": "white"
             }
            },
            "header": {
             "fill": {
              "color": "#C8D4E3"
             },
             "line": {
              "color": "white"
             }
            },
            "type": "table"
           }
          ]
         },
         "layout": {
          "annotationdefaults": {
           "arrowcolor": "#2a3f5f",
           "arrowhead": 0,
           "arrowwidth": 1
          },
          "autotypenumbers": "strict",
          "coloraxis": {
           "colorbar": {
            "outlinewidth": 0,
            "ticks": ""
           }
          },
          "colorscale": {
           "diverging": [
            [
             0,
             "#8e0152"
            ],
            [
             0.1,
             "#c51b7d"
            ],
            [
             0.2,
             "#de77ae"
            ],
            [
             0.3,
             "#f1b6da"
            ],
            [
             0.4,
             "#fde0ef"
            ],
            [
             0.5,
             "#f7f7f7"
            ],
            [
             0.6,
             "#e6f5d0"
            ],
            [
             0.7,
             "#b8e186"
            ],
            [
             0.8,
             "#7fbc41"
            ],
            [
             0.9,
             "#4d9221"
            ],
            [
             1,
             "#276419"
            ]
           ],
           "sequential": [
            [
             0,
             "#0d0887"
            ],
            [
             0.1111111111111111,
             "#46039f"
            ],
            [
             0.2222222222222222,
             "#7201a8"
            ],
            [
             0.3333333333333333,
             "#9c179e"
            ],
            [
             0.4444444444444444,
             "#bd3786"
            ],
            [
             0.5555555555555556,
             "#d8576b"
            ],
            [
             0.6666666666666666,
             "#ed7953"
            ],
            [
             0.7777777777777778,
             "#fb9f3a"
            ],
            [
             0.8888888888888888,
             "#fdca26"
            ],
            [
             1,
             "#f0f921"
            ]
           ],
           "sequentialminus": [
            [
             0,
             "#0d0887"
            ],
            [
             0.1111111111111111,
             "#46039f"
            ],
            [
             0.2222222222222222,
             "#7201a8"
            ],
            [
             0.3333333333333333,
             "#9c179e"
            ],
            [
             0.4444444444444444,
             "#bd3786"
            ],
            [
             0.5555555555555556,
             "#d8576b"
            ],
            [
             0.6666666666666666,
             "#ed7953"
            ],
            [
             0.7777777777777778,
             "#fb9f3a"
            ],
            [
             0.8888888888888888,
             "#fdca26"
            ],
            [
             1,
             "#f0f921"
            ]
           ]
          },
          "colorway": [
           "#636efa",
           "#EF553B",
           "#00cc96",
           "#ab63fa",
           "#FFA15A",
           "#19d3f3",
           "#FF6692",
           "#B6E880",
           "#FF97FF",
           "#FECB52"
          ],
          "font": {
           "color": "#2a3f5f"
          },
          "geo": {
           "bgcolor": "white",
           "lakecolor": "white",
           "landcolor": "#E5ECF6",
           "showlakes": true,
           "showland": true,
           "subunitcolor": "white"
          },
          "hoverlabel": {
           "align": "left"
          },
          "hovermode": "closest",
          "mapbox": {
           "style": "light"
          },
          "paper_bgcolor": "white",
          "plot_bgcolor": "#E5ECF6",
          "polar": {
           "angularaxis": {
            "gridcolor": "white",
            "linecolor": "white",
            "ticks": ""
           },
           "bgcolor": "#E5ECF6",
           "radialaxis": {
            "gridcolor": "white",
            "linecolor": "white",
            "ticks": ""
           }
          },
          "scene": {
           "xaxis": {
            "backgroundcolor": "#E5ECF6",
            "gridcolor": "white",
            "gridwidth": 2,
            "linecolor": "white",
            "showbackground": true,
            "ticks": "",
            "zerolinecolor": "white"
           },
           "yaxis": {
            "backgroundcolor": "#E5ECF6",
            "gridcolor": "white",
            "gridwidth": 2,
            "linecolor": "white",
            "showbackground": true,
            "ticks": "",
            "zerolinecolor": "white"
           },
           "zaxis": {
            "backgroundcolor": "#E5ECF6",
            "gridcolor": "white",
            "gridwidth": 2,
            "linecolor": "white",
            "showbackground": true,
            "ticks": "",
            "zerolinecolor": "white"
           }
          },
          "shapedefaults": {
           "line": {
            "color": "#2a3f5f"
           }
          },
          "ternary": {
           "aaxis": {
            "gridcolor": "white",
            "linecolor": "white",
            "ticks": ""
           },
           "baxis": {
            "gridcolor": "white",
            "linecolor": "white",
            "ticks": ""
           },
           "bgcolor": "#E5ECF6",
           "caxis": {
            "gridcolor": "white",
            "linecolor": "white",
            "ticks": ""
           }
          },
          "title": {
           "x": 0.05
          },
          "xaxis": {
           "automargin": true,
           "gridcolor": "white",
           "linecolor": "white",
           "ticks": "",
           "title": {
            "standoff": 15
           },
           "zerolinecolor": "white",
           "zerolinewidth": 2
          },
          "yaxis": {
           "automargin": true,
           "gridcolor": "white",
           "linecolor": "white",
           "ticks": "",
           "title": {
            "standoff": 15
           },
           "zerolinecolor": "white",
           "zerolinewidth": 2
          }
         }
        },
        "title": {
         "text": "Evolución de pasajeros con Promedio Móvil de 12 meses"
        },
        "xaxis": {
         "anchor": "y",
         "domain": [
          0,
          1
         ],
         "title": {
          "text": "Fecha"
         }
        },
        "yaxis": {
         "anchor": "x",
         "domain": [
          0,
          1
         ],
         "title": {
          "text": "value"
         }
        }
       }
      }
     },
     "metadata": {},
     "output_type": "display_data"
    }
   ],
   "source": [
    "# Aplicar un promedio móvil simple de 12 meses\n",
    "df[\"SMA_12\"] = df[\"Passengers\"].rolling(window=12).mean()\n",
    "\n",
    "# Crear el gráfico con la serie original y el promedio móvil\n",
    "fig = px.line(df, x=\"Time\", y=[\"Passengers\", \"SMA_12\"],\n",
    "              title=\"Evolución de pasajeros con Promedio Móvil de 12 meses\",\n",
    "              labels={\"Time\": \"Fecha\", \"Passengers\": \"Número de pasajeros\", \"SMA_12\": \"Promedio Móvil de 12 meses\"})\n",
    "\n",
    "# Mostrar el gráfico\n",
    "fig.show()"
   ]
  },
  {
   "cell_type": "markdown",
   "metadata": {},
   "source": [
    "9. **Model the time series using a suitable ARIMA model.**  \n",
    "   - Briefly describe how you determined the parameters p, d, q.  \n",
    "   - Include your code and justify the model selection."
   ]
  },
  {
   "cell_type": "code",
   "execution_count": 41,
   "metadata": {},
   "outputs": [],
   "source": [
    "import numpy as np\n",
    "import matplotlib.pyplot as plt\n",
    "from statsmodels.tsa.stattools import adfuller, acf, pacf\n",
    "from statsmodels.tsa.arima.model import ARIMA"
   ]
  },
  {
   "cell_type": "code",
   "execution_count": 42,
   "metadata": {},
   "outputs": [
    {
     "name": "stdout",
     "output_type": "stream",
     "text": [
      "ADF Test Result:\n",
      "Estadístico ADF: 0.7956945025266231\n",
      "Valor p: 0.9915663503975671\n",
      "Valor crítico (5%): -2.8840418343195267\n"
     ]
    }
   ],
   "source": [
    "# Verificar estacionariedad usando ADF\n",
    "result = adfuller(df[\"Passengers\"])\n",
    "print(\"ADF Test Result:\")\n",
    "print(f\"Estadístico ADF: {result[0]}\")\n",
    "print(f\"Valor p: {result[1]}\")\n",
    "print(f\"Valor crítico (5%): {result[4]['5%']}\")\n",
    "\n",
    "# Si la serie no es estacionaria, aplicamos la diferenciación (d=1)\n",
    "df[\"Passengers_diff\"] = df[\"Passengers\"].diff().dropna()\n",
    "\n",
    "# ACF y PACF para determinar p y q\n",
    "lag_acf = acf(df[\"Passengers_diff\"].dropna(), nlags=20)\n",
    "lag_pacf = pacf(df[\"Passengers_diff\"].dropna(), nlags=20)\n"
   ]
  },
  {
   "cell_type": "code",
   "execution_count": 43,
   "metadata": {},
   "outputs": [
    {
     "data": {
      "image/png": "[encoded data removed]",
      "text/plain": [
       "<Figure size 1200x600 with 2 Axes>"
      ]
     },
     "metadata": {},
     "output_type": "display_data"
    }
   ],
   "source": [
    "# Graficar ACF y PACF\n",
    "plt.figure(figsize=(12, 6))\n",
    "plt.subplot(121)\n",
    "plt.plot(lag_acf)\n",
    "plt.title('ACF (Autocorrelación)')\n",
    "\n",
    "plt.subplot(122)\n",
    "plt.plot(lag_pacf)\n",
    "plt.title('PACF (Autocorrelación Parcial)')\n",
    "\n",
    "plt.show()"
   ]
  },
  {
   "cell_type": "code",
   "execution_count": 44,
   "metadata": {},
   "outputs": [
    {
     "name": "stdout",
     "output_type": "stream",
     "text": [
      "                               SARIMAX Results                                \n",
      "==============================================================================\n",
      "Dep. Variable:             Passengers   No. Observations:                  144\n",
      "Model:                 ARIMA(1, 1, 1)   Log Likelihood                -685.406\n",
      "Date:                Tue, 01 Apr 2025   AIC                           1376.813\n",
      "Time:                        12:03:58   BIC                           1385.701\n",
      "Sample:                             0   HQIC                          1380.424\n",
      "                                - 144                                         \n",
      "Covariance Type:                  opg                                         \n",
      "==============================================================================\n",
      "                 coef    std err          z      P>|z|      [0.025      0.975]\n",
      "------------------------------------------------------------------------------\n",
      "ar.L1         -0.5611      0.099     -5.660      0.000      -0.755      -0.367\n",
      "ma.L1          0.9378      0.055     16.956      0.000       0.829       1.046\n",
      "sigma2       846.6089     93.089      9.095      0.000     664.157    1029.060\n",
      "===================================================================================\n",
      "Ljung-Box (L1) (Q):                   0.44   Jarque-Bera (JB):                 2.40\n",
      "Prob(Q):                              0.51   Prob(JB):                         0.30\n",
      "Heteroskedasticity (H):               6.69   Skew:                            -0.22\n",
      "Prob(H) (two-sided):                  0.00   Kurtosis:                         3.46\n",
      "===================================================================================\n",
      "\n",
      "Warnings:\n",
      "[1] Covariance matrix calculated using the outer product of gradients (complex-step).\n"
     ]
    }
   ],
   "source": [
    "# Determinamos p y q basados en los gráficos ACF y PACF\n",
    "# A partir de los gráficos, podemos seleccionar los valores de p y q.\n",
    "# Por ejemplo, si ACF corta después de lag 1, entonces q=1.\n",
    "# Y si PACF corta después de lag 1, entonces p=1.\n",
    "\n",
    "# Ajustamos un modelo ARIMA con p=1, d=1, q=1 (por ejemplo)\n",
    "model = ARIMA(df[\"Passengers\"], order=(1, 1, 1))\n",
    "model_fit = model.fit()\n",
    "\n",
    "# Mostrar resumen del modelo\n",
    "print(model_fit.summary())"
   ]
  },
  {
   "cell_type": "code",
   "execution_count": 46,
   "metadata": {},
   "outputs": [
    {
     "ename": "ValueError",
     "evalue": "x and y must have same first dimension, but have shapes (143,) and (144,)",
     "output_type": "error",
     "traceback": [
      "\u001b[1;31m---------------------------------------------------------------------------\u001b[0m",
      "\u001b[1;31mValueError\u001b[0m                                Traceback (most recent call last)",
      "Cell \u001b[1;32mIn[46], line 6\u001b[0m\n\u001b[0;32m      3\u001b[0m plt\u001b[38;5;241m.\u001b[39mplot(df[\u001b[38;5;124m\"\u001b[39m\u001b[38;5;124mTime\u001b[39m\u001b[38;5;124m\"\u001b[39m], df[\u001b[38;5;124m\"\u001b[39m\u001b[38;5;124mPassengers\u001b[39m\u001b[38;5;124m\"\u001b[39m], label\u001b[38;5;241m=\u001b[39m\u001b[38;5;124m\"\u001b[39m\u001b[38;5;124mSerie Original\u001b[39m\u001b[38;5;124m\"\u001b[39m)\n\u001b[0;32m      5\u001b[0m \u001b[38;5;66;03m# Ajustar la longitud de 'fittedvalues' para que coincida con la de la serie original\u001b[39;00m\n\u001b[1;32m----> 6\u001b[0m plt\u001b[38;5;241m.\u001b[39mplot(df[\u001b[38;5;124m\"\u001b[39m\u001b[38;5;124mTime\u001b[39m\u001b[38;5;124m\"\u001b[39m][\u001b[38;5;241m1\u001b[39m:], model_fit\u001b[38;5;241m.\u001b[39mfittedvalues, label\u001b[38;5;241m=\u001b[39m\u001b[38;5;124m\"\u001b[39m\u001b[38;5;124mAjuste ARIMA (1,1,1)\u001b[39m\u001b[38;5;124m\"\u001b[39m, color\u001b[38;5;241m=\u001b[39m\u001b[38;5;124m'\u001b[39m\u001b[38;5;124mred\u001b[39m\u001b[38;5;124m'\u001b[39m)\n\u001b[0;32m      8\u001b[0m plt\u001b[38;5;241m.\u001b[39mtitle(\u001b[38;5;124m\"\u001b[39m\u001b[38;5;124mAjuste del modelo ARIMA a la serie temporal\u001b[39m\u001b[38;5;124m\"\u001b[39m)\n\u001b[0;32m      9\u001b[0m plt\u001b[38;5;241m.\u001b[39mxlabel(\u001b[38;5;124m\"\u001b[39m\u001b[38;5;124mFecha\u001b[39m\u001b[38;5;124m\"\u001b[39m)\n",
      "File \u001b[1;32mc:\\Users\\Hugo\\anaconda3\\Lib\\site-packages\\matplotlib\\pyplot.py:2812\u001b[0m, in \u001b[0;36mplot\u001b[1;34m(scalex, scaley, data, *args, **kwargs)\u001b[0m\n\u001b[0;32m   2810\u001b[0m \u001b[38;5;129m@_copy_docstring_and_deprecators\u001b[39m(Axes\u001b[38;5;241m.\u001b[39mplot)\n\u001b[0;32m   2811\u001b[0m \u001b[38;5;28;01mdef\u001b[39;00m \u001b[38;5;21mplot\u001b[39m(\u001b[38;5;241m*\u001b[39margs, scalex\u001b[38;5;241m=\u001b[39m\u001b[38;5;28;01mTrue\u001b[39;00m, scaley\u001b[38;5;241m=\u001b[39m\u001b[38;5;28;01mTrue\u001b[39;00m, data\u001b[38;5;241m=\u001b[39m\u001b[38;5;28;01mNone\u001b[39;00m, \u001b[38;5;241m*\u001b[39m\u001b[38;5;241m*\u001b[39mkwargs):\n\u001b[1;32m-> 2812\u001b[0m     \u001b[38;5;28;01mreturn\u001b[39;00m gca()\u001b[38;5;241m.\u001b[39mplot(\n\u001b[0;32m   2813\u001b[0m         \u001b[38;5;241m*\u001b[39margs, scalex\u001b[38;5;241m=\u001b[39mscalex, scaley\u001b[38;5;241m=\u001b[39mscaley,\n\u001b[0;32m   2814\u001b[0m         \u001b[38;5;241m*\u001b[39m\u001b[38;5;241m*\u001b[39m({\u001b[38;5;124m\"\u001b[39m\u001b[38;5;124mdata\u001b[39m\u001b[38;5;124m\"\u001b[39m: data} \u001b[38;5;28;01mif\u001b[39;00m data \u001b[38;5;129;01mis\u001b[39;00m \u001b[38;5;129;01mnot\u001b[39;00m \u001b[38;5;28;01mNone\u001b[39;00m \u001b[38;5;28;01melse\u001b[39;00m {}), \u001b[38;5;241m*\u001b[39m\u001b[38;5;241m*\u001b[39mkwargs)\n",
      "File \u001b[1;32mc:\\Users\\Hugo\\anaconda3\\Lib\\site-packages\\matplotlib\\axes\\_axes.py:1688\u001b[0m, in \u001b[0;36mAxes.plot\u001b[1;34m(self, scalex, scaley, data, *args, **kwargs)\u001b[0m\n\u001b[0;32m   1445\u001b[0m \u001b[38;5;250m\u001b[39m\u001b[38;5;124;03m\"\"\"\u001b[39;00m\n\u001b[0;32m   1446\u001b[0m \u001b[38;5;124;03mPlot y versus x as lines and/or markers.\u001b[39;00m\n\u001b[0;32m   1447\u001b[0m \n\u001b[1;32m   (...)\u001b[0m\n\u001b[0;32m   1685\u001b[0m \u001b[38;5;124;03m(``'green'``) or hex strings (``'#008000'``).\u001b[39;00m\n\u001b[0;32m   1686\u001b[0m \u001b[38;5;124;03m\"\"\"\u001b[39;00m\n\u001b[0;32m   1687\u001b[0m kwargs \u001b[38;5;241m=\u001b[39m cbook\u001b[38;5;241m.\u001b[39mnormalize_kwargs(kwargs, mlines\u001b[38;5;241m.\u001b[39mLine2D)\n\u001b[1;32m-> 1688\u001b[0m lines \u001b[38;5;241m=\u001b[39m [\u001b[38;5;241m*\u001b[39m\u001b[38;5;28mself\u001b[39m\u001b[38;5;241m.\u001b[39m_get_lines(\u001b[38;5;241m*\u001b[39margs, data\u001b[38;5;241m=\u001b[39mdata, \u001b[38;5;241m*\u001b[39m\u001b[38;5;241m*\u001b[39mkwargs)]\n\u001b[0;32m   1689\u001b[0m \u001b[38;5;28;01mfor\u001b[39;00m line \u001b[38;5;129;01min\u001b[39;00m lines:\n\u001b[0;32m   1690\u001b[0m     \u001b[38;5;28mself\u001b[39m\u001b[38;5;241m.\u001b[39madd_line(line)\n",
      "File \u001b[1;32mc:\\Users\\Hugo\\anaconda3\\Lib\\site-packages\\matplotlib\\axes\\_base.py:311\u001b[0m, in \u001b[0;36m_process_plot_var_args.__call__\u001b[1;34m(self, data, *args, **kwargs)\u001b[0m\n\u001b[0;32m    309\u001b[0m     this \u001b[38;5;241m+\u001b[39m\u001b[38;5;241m=\u001b[39m args[\u001b[38;5;241m0\u001b[39m],\n\u001b[0;32m    310\u001b[0m     args \u001b[38;5;241m=\u001b[39m args[\u001b[38;5;241m1\u001b[39m:]\n\u001b[1;32m--> 311\u001b[0m \u001b[38;5;28;01myield from\u001b[39;00m \u001b[38;5;28mself\u001b[39m\u001b[38;5;241m.\u001b[39m_plot_args(\n\u001b[0;32m    312\u001b[0m     this, kwargs, ambiguous_fmt_datakey\u001b[38;5;241m=\u001b[39mambiguous_fmt_datakey)\n",
      "File \u001b[1;32mc:\\Users\\Hugo\\anaconda3\\Lib\\site-packages\\matplotlib\\axes\\_base.py:504\u001b[0m, in \u001b[0;36m_process_plot_var_args._plot_args\u001b[1;34m(self, tup, kwargs, return_kwargs, ambiguous_fmt_datakey)\u001b[0m\n\u001b[0;32m    501\u001b[0m     \u001b[38;5;28mself\u001b[39m\u001b[38;5;241m.\u001b[39maxes\u001b[38;5;241m.\u001b[39myaxis\u001b[38;5;241m.\u001b[39mupdate_units(y)\n\u001b[0;32m    503\u001b[0m \u001b[38;5;28;01mif\u001b[39;00m x\u001b[38;5;241m.\u001b[39mshape[\u001b[38;5;241m0\u001b[39m] \u001b[38;5;241m!=\u001b[39m y\u001b[38;5;241m.\u001b[39mshape[\u001b[38;5;241m0\u001b[39m]:\n\u001b[1;32m--> 504\u001b[0m     \u001b[38;5;28;01mraise\u001b[39;00m \u001b[38;5;167;01mValueError\u001b[39;00m(\u001b[38;5;124mf\u001b[39m\u001b[38;5;124m\"\u001b[39m\u001b[38;5;124mx and y must have same first dimension, but \u001b[39m\u001b[38;5;124m\"\u001b[39m\n\u001b[0;32m    505\u001b[0m                      \u001b[38;5;124mf\u001b[39m\u001b[38;5;124m\"\u001b[39m\u001b[38;5;124mhave shapes \u001b[39m\u001b[38;5;132;01m{\u001b[39;00mx\u001b[38;5;241m.\u001b[39mshape\u001b[38;5;132;01m}\u001b[39;00m\u001b[38;5;124m and \u001b[39m\u001b[38;5;132;01m{\u001b[39;00my\u001b[38;5;241m.\u001b[39mshape\u001b[38;5;132;01m}\u001b[39;00m\u001b[38;5;124m\"\u001b[39m)\n\u001b[0;32m    506\u001b[0m \u001b[38;5;28;01mif\u001b[39;00m x\u001b[38;5;241m.\u001b[39mndim \u001b[38;5;241m>\u001b[39m \u001b[38;5;241m2\u001b[39m \u001b[38;5;129;01mor\u001b[39;00m y\u001b[38;5;241m.\u001b[39mndim \u001b[38;5;241m>\u001b[39m \u001b[38;5;241m2\u001b[39m:\n\u001b[0;32m    507\u001b[0m     \u001b[38;5;28;01mraise\u001b[39;00m \u001b[38;5;167;01mValueError\u001b[39;00m(\u001b[38;5;124mf\u001b[39m\u001b[38;5;124m\"\u001b[39m\u001b[38;5;124mx and y can be no greater than 2D, but have \u001b[39m\u001b[38;5;124m\"\u001b[39m\n\u001b[0;32m    508\u001b[0m                      \u001b[38;5;124mf\u001b[39m\u001b[38;5;124m\"\u001b[39m\u001b[38;5;124mshapes \u001b[39m\u001b[38;5;132;01m{\u001b[39;00mx\u001b[38;5;241m.\u001b[39mshape\u001b[38;5;132;01m}\u001b[39;00m\u001b[38;5;124m and \u001b[39m\u001b[38;5;132;01m{\u001b[39;00my\u001b[38;5;241m.\u001b[39mshape\u001b[38;5;132;01m}\u001b[39;00m\u001b[38;5;124m\"\u001b[39m)\n",
      "\u001b[1;31mValueError\u001b[0m: x and y must have same first dimension, but have shapes (143,) and (144,)"
     ]
    },
    {
     "data": {
      "image/png": "[encoded data removed]",
      "text/plain": [
       "<Figure size 1000x600 with 1 Axes>"
      ]
     },
     "metadata": {},
     "output_type": "display_data"
    }
   ],
   "source": [
    "# Graficar los resultados\n",
    "plt.figure(figsize=(10, 6))\n",
    "plt.plot(df[\"Time\"], df[\"Passengers\"], label=\"Serie Original\")\n",
    "\n",
    "# Ajustar la longitud de 'fittedvalues' para que coincida con la de la serie original\n",
    "plt.plot(df[\"Time\"][1:], model_fit.fittedvalues, label=\"Ajuste ARIMA (1,1,1)\", color='red')\n",
    "\n",
    "plt.title(\"Ajuste del modelo ARIMA a la serie temporal\")\n",
    "plt.xlabel(\"Fecha\")\n",
    "plt.ylabel(\"Número de pasajeros\")\n",
    "plt.legend()\n",
    "plt.show()"
   ]
  },
  {
   "cell_type": "markdown",
   "metadata": {},
   "source": [
    "10. **Decompose the series into its components: trend, seasonality, and residuals.**  \n",
    "   - Use `seasonal_decompose` from `statsmodels`.  \n",
    "   - Comment on whether the components show clear patterns.  \n",
    "   - What are the implications for future forecasting?"
   ]
  },
  {
   "cell_type": "markdown",
   "metadata": {},
   "source": [
    "---\n",
    "---"
   ]
  }
 ],
 "metadata": {
  "kernelspec": {
   "display_name": "base",
   "language": "python",
   "name": "python3"
  },
  "language_info": {
   "codemirror_mode": {
    "name": "ipython",
    "version": 3
   },
   "file_extension": ".py",
   "mimetype": "text/x-python",
   "name": "python",
   "nbconvert_exporter": "python",
   "pygments_lexer": "ipython3",
   "version": "3.11.4"
  }
 },
 "nbformat": 4,
 "nbformat_minor": 2
}
