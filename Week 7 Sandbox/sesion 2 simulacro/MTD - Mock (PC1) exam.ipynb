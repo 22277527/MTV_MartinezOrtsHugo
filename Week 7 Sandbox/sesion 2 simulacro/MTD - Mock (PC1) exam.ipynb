{
 "cells": [
  {
   "cell_type": "markdown",
   "metadata": {},
   "source": [
    "**MTD - Mock (PC1) Exam: Multiple regression and factorial ANOVA in salary analysis**  \n",
    "**Duration:** 2 hours  \n",
    "\n",
    "**Allowed tools:** Python, Pandas, Statsmodels, Scikit-Learn, Plotly, Seaborn, Your own notes.  \n",
    "**Strictly allowed only when necessary:** Google Translate, Stack Overflow.  \n",
    "**Prohibited tools:** Any AI-based tools (ChatGPT, Copilot, Bard, Claude, etc.) \n",
    "\n",
    "**Instructions:** Download and load the provided dataset into Python. Answer each question using code and provide a brief interpretation of the results.  \n",
    "\n"
   ]
  },
  {
   "cell_type": "markdown",
   "metadata": {},
   "source": [
    "**Part 1: Exploratory Analysis**  \n",
    "\n"
   ]
  },
  {
   "cell_type": "markdown",
   "metadata": {},
   "source": [
    "1. **Data Loading and Exploration:**  \n",
    "   - Load the dataset into a Pandas DataFrame.  \n",
    "   - Display the first 5 rows and a statistical summary of the numerical variables.  \n",
    "\n"
   ]
  },
  {
   "cell_type": "code",
   "execution_count": 1,
   "metadata": {},
   "outputs": [],
   "source": [
    "import pandas as pd"
   ]
  },
  {
   "cell_type": "code",
   "execution_count": 3,
   "metadata": {},
   "outputs": [
    {
     "data": {
      "text/html": [
       "<div>\n",
       "<style scoped>\n",
       "    .dataframe tbody tr th:only-of-type {\n",
       "        vertical-align: middle;\n",
       "    }\n",
       "\n",
       "    .dataframe tbody tr th {\n",
       "        vertical-align: top;\n",
       "    }\n",
       "\n",
       "    .dataframe thead th {\n",
       "        text-align: right;\n",
       "    }\n",
       "</style>\n",
       "<table border=\"1\" class=\"dataframe\">\n",
       "  <thead>\n",
       "    <tr style=\"text-align: right;\">\n",
       "      <th></th>\n",
       "      <th>Salario</th>\n",
       "      <th>Experiencia</th>\n",
       "      <th>Horas_Trabajadas</th>\n",
       "      <th>Edad</th>\n",
       "      <th>Educacion</th>\n",
       "      <th>Genero</th>\n",
       "      <th>Departamento</th>\n",
       "    </tr>\n",
       "  </thead>\n",
       "  <tbody>\n",
       "    <tr>\n",
       "      <th>0</th>\n",
       "      <td>106428.688101</td>\n",
       "      <td>38</td>\n",
       "      <td>57</td>\n",
       "      <td>57</td>\n",
       "      <td>Maestría</td>\n",
       "      <td>Mujer</td>\n",
       "      <td>RRHH</td>\n",
       "    </tr>\n",
       "    <tr>\n",
       "      <th>1</th>\n",
       "      <td>122647.975547</td>\n",
       "      <td>28</td>\n",
       "      <td>56</td>\n",
       "      <td>41</td>\n",
       "      <td>Licenciatura</td>\n",
       "      <td>Mujer</td>\n",
       "      <td>TI</td>\n",
       "    </tr>\n",
       "    <tr>\n",
       "      <th>2</th>\n",
       "      <td>67236.095324</td>\n",
       "      <td>14</td>\n",
       "      <td>35</td>\n",
       "      <td>22</td>\n",
       "      <td>Secundaria</td>\n",
       "      <td>Mujer</td>\n",
       "      <td>TI</td>\n",
       "    </tr>\n",
       "    <tr>\n",
       "      <th>3</th>\n",
       "      <td>50647.412537</td>\n",
       "      <td>7</td>\n",
       "      <td>45</td>\n",
       "      <td>29</td>\n",
       "      <td>Secundaria</td>\n",
       "      <td>Hombre</td>\n",
       "      <td>Ventas</td>\n",
       "    </tr>\n",
       "    <tr>\n",
       "      <th>4</th>\n",
       "      <td>82785.665356</td>\n",
       "      <td>20</td>\n",
       "      <td>58</td>\n",
       "      <td>37</td>\n",
       "      <td>Maestría</td>\n",
       "      <td>Hombre</td>\n",
       "      <td>RRHH</td>\n",
       "    </tr>\n",
       "  </tbody>\n",
       "</table>\n",
       "</div>"
      ],
      "text/plain": [
       "         Salario  Experiencia  Horas_Trabajadas  Edad     Educacion  Genero  \\\n",
       "0  106428.688101           38                57    57      Maestría   Mujer   \n",
       "1  122647.975547           28                56    41  Licenciatura   Mujer   \n",
       "2   67236.095324           14                35    22    Secundaria   Mujer   \n",
       "3   50647.412537            7                45    29    Secundaria  Hombre   \n",
       "4   82785.665356           20                58    37      Maestría  Hombre   \n",
       "\n",
       "  Departamento  \n",
       "0         RRHH  \n",
       "1           TI  \n",
       "2           TI  \n",
       "3       Ventas  \n",
       "4         RRHH  "
      ]
     },
     "metadata": {},
     "output_type": "display_data"
    }
   ],
   "source": [
    "df = pd.read_csv('Dataset_de_Salarios.csv')\n",
    "display(df.head(5))"
   ]
  },
  {
   "cell_type": "markdown",
   "metadata": {},
   "source": [
    "2. **Salary Distribution:**  \n",
    "   - Generate a histogram of the salary variable.  \n",
    "   - Does the distribution appear normal? What observations can you make?  \n",
    "\n"
   ]
  },
  {
   "cell_type": "code",
   "execution_count": 10,
   "metadata": {},
   "outputs": [],
   "source": [
    "import matplotlib.pyplot as plt"
   ]
  },
  {
   "cell_type": "code",
   "execution_count": 11,
   "metadata": {},
   "outputs": [
    {
     "data": {
      "image/png": "[encoded data removed]",
      "text/plain": [
       "<Figure size 800x500 with 1 Axes>"
      ]
     },
     "metadata": {},
     "output_type": "display_data"
    }
   ],
   "source": [
    "plt.figure(figsize=(8,5))\n",
    "plt.hist(df[\"Salario\"], bins=5, edgecolor=\"black\", alpha=0.7)\n",
    "plt.xlabel(\"Salario\")\n",
    "plt.ylabel(\"Frecuencia\")\n",
    "plt.title(\"Histograma de Salarios\")\n",
    "plt.show()"
   ]
  },
  {
   "cell_type": "markdown",
   "metadata": {},
   "source": [
    "Here we can see that the most salary is 80000, is like the normal salary, then the 180000 appears less, this has sense because only a little group of people earns that money.\n"
   ]
  },
  {
   "cell_type": "markdown",
   "metadata": {},
   "source": [
    "3. **Correlation Between Variables:**  \n",
    "   - Compute and display the correlation matrix for all numerical variables.  \n",
    "   - Which variables seem most correlated with salary?  \n",
    "\n"
   ]
  },
  {
   "cell_type": "code",
   "execution_count": 12,
   "metadata": {},
   "outputs": [],
   "source": [
    "import seaborn as sns"
   ]
  },
  {
   "cell_type": "code",
   "execution_count": 14,
   "metadata": {},
   "outputs": [
    {
     "name": "stderr",
     "output_type": "stream",
     "text": [
      "C:\\Users\\Hugo\\AppData\\Local\\Temp\\ipykernel_21720\\2374810870.py:2: FutureWarning: The default value of numeric_only in DataFrame.corr is deprecated. In a future version, it will default to False. Select only valid columns or specify the value of numeric_only to silence this warning.\n",
      "  corr_matrix = df.corr()\n"
     ]
    },
    {
     "data": {
      "image/png": "[encoded data removed]",
      "text/plain": [
       "<Figure size 800x500 with 2 Axes>"
      ]
     },
     "metadata": {},
     "output_type": "display_data"
    },
    {
     "name": "stdout",
     "output_type": "stream",
     "text": [
      "                   Salario  Experiencia  Horas_Trabajadas      Edad\n",
      "Salario           1.000000     0.487730          0.058550 -0.047607\n",
      "Experiencia       0.487730     1.000000         -0.029053  0.041478\n",
      "Horas_Trabajadas  0.058550    -0.029053          1.000000  0.040515\n",
      "Edad             -0.047607     0.041478          0.040515  1.000000\n"
     ]
    }
   ],
   "source": [
    "# Compute correlation matrix\n",
    "corr_matrix = df.corr()\n",
    "\n",
    "# Display correlation matrix\n",
    "plt.figure(figsize=(8,5))\n",
    "sns.heatmap(corr_matrix, annot=True, cmap=\"coolwarm\", fmt=\".2f\")\n",
    "plt.title(\"Matriz de Correlación\")\n",
    "plt.show()\n",
    "\n",
    "# Print correlation matrix\n",
    "print(corr_matrix)"
   ]
  },
  {
   "cell_type": "markdown",
   "metadata": {},
   "source": [
    "The variable that most influences salary is experience (0.4877), although the relationship is moderate rather than strong.\n",
    "\n",
    "Hours worked and age do not appear to have a significant correlation with salary.\n",
    "\n",
    "The weak correlation between experience and age is somewhat unusual, as older individuals typically have more work experience.\n",
    "\n",
    "To better understand salary determinants, it would be useful to include additional variables such as education level, job position, or industry sector."
   ]
  },
  {
   "cell_type": "markdown",
   "metadata": {},
   "source": [
    "**Part 2: Multiple Regression**  \n",
    "\n"
   ]
  },
  {
   "cell_type": "markdown",
   "metadata": {},
   "source": [
    "4. **Fitting a Multiple Regression Model (Only Numerical Variables):**  \n",
    "   - Fit a regression model where **salary** is the dependent variable and only **experience, hours worked, and age** are predictors.  \n",
    "   - Display the model coefficients.  \n",
    "\n"
   ]
  },
  {
   "cell_type": "code",
   "execution_count": 4,
   "metadata": {},
   "outputs": [],
   "source": [
    "import statsmodels.api as sm"
   ]
  },
  {
   "cell_type": "code",
   "execution_count": 5,
   "metadata": {},
   "outputs": [],
   "source": [
    "# Definir variables independientes (experience, hours worked age) y dependiente (salary)\n",
    "X = df[['Experiencia', 'Horas_Trabajadas', 'Edad']]\n",
    "y = df['Salario']"
   ]
  },
  {
   "cell_type": "code",
   "execution_count": 6,
   "metadata": {},
   "outputs": [],
   "source": [
    "# Agregar constante para la regresión\n",
    "X = sm.add_constant(X)"
   ]
  },
  {
   "cell_type": "code",
   "execution_count": 7,
   "metadata": {},
   "outputs": [],
   "source": [
    "# Ajustar modelo de regresión lineal múltiple\n",
    "modelo = sm.OLS(y, X).fit()"
   ]
  },
  {
   "cell_type": "code",
   "execution_count": 1,
   "metadata": {},
   "outputs": [
    {
     "ename": "NameError",
     "evalue": "name 'modelo' is not defined",
     "output_type": "error",
     "traceback": [
      "\u001b[1;31m---------------------------------------------------------------------------\u001b[0m",
      "\u001b[1;31mNameError\u001b[0m                                 Traceback (most recent call last)",
      "Cell \u001b[1;32mIn[1], line 2\u001b[0m\n\u001b[0;32m      1\u001b[0m \u001b[38;5;66;03m# Mostrar resumen del modelo\u001b[39;00m\n\u001b[1;32m----> 2\u001b[0m \u001b[38;5;28mprint\u001b[39m(modelo\u001b[38;5;241m.\u001b[39msummary())\n",
      "\u001b[1;31mNameError\u001b[0m: name 'modelo' is not defined"
     ]
    }
   ],
   "source": [
    "# Mostrar resumen del modelo\n",
    "print(modelo.summary())"
   ]
  },
  {
   "cell_type": "markdown",
   "metadata": {},
   "source": [
    "5. **Interpreting Coefficients:**  \n",
    "   - What is the effect of **experience** on salary?  \n",
    "   - How does each additional year of experience impact salary?  \n",
    "\n"
   ]
  },
  {
   "cell_type": "markdown",
   "metadata": {},
   "source": [
    "Here we can see that the experience coefficient positive, so for a higher experience we hace a higher salary.\n",
    "\n",
    "Each year affects 1122 at the salary, this is the coefficient of experience."
   ]
  },
  {
   "cell_type": "markdown",
   "metadata": {},
   "source": [
    "6. **Model Evaluation:**  \n",
    "   - Report the **R²** value of the model.  \n",
    "   - Does the model explain salary variability well?  \n",
    "\n"
   ]
  },
  {
   "cell_type": "markdown",
   "metadata": {},
   "source": [
    "The R2 value is 0.248, this says to us that only the 24.8% of the salary variability is explain by the model, the other percentage of the variation in salary is due to other factors"
   ]
  },
  {
   "cell_type": "markdown",
   "metadata": {},
   "source": [
    "7. **Multicollinearity Check:**  \n",
    "   - Calculate the **VIF (Variance Inflation Factor)** for each numerical variable.  \n",
    "   - Are there any multicollinearity issues?  \n",
    "\n"
   ]
  },
  {
   "cell_type": "code",
   "execution_count": 15,
   "metadata": {},
   "outputs": [],
   "source": [
    "import numpy as np\n",
    "from statsmodels.stats.outliers_influence import variance_inflation_factor"
   ]
  },
  {
   "cell_type": "code",
   "execution_count": 17,
   "metadata": {},
   "outputs": [
    {
     "name": "stdout",
     "output_type": "stream",
     "text": [
      "           Variable        VIF\n",
      "0           Salario  11.803179\n",
      "1       Experiencia   4.851449\n",
      "2  Horas_Trabajadas  13.546152\n",
      "3              Edad  10.500652\n"
     ]
    }
   ],
   "source": [
    "# Seleccionar solo las variables numéricas\n",
    "X = df.select_dtypes(include=[np.number])  \n",
    "\n",
    "# Calcular VIF para cada variable\n",
    "vif_data = pd.DataFrame()\n",
    "vif_data[\"Variable\"] = X.columns\n",
    "vif_data[\"VIF\"] = [variance_inflation_factor(X.values, i) for i in range(X.shape[1])]\n",
    "\n",
    "# Mostrar los valores de VIF\n",
    "print(vif_data)"
   ]
  },
  {
   "cell_type": "markdown",
   "metadata": {},
   "source": [
    "Salary, age and hours worked present multicollinearity issues, because vif > 5, then experience doesnt present problems of multicollinearity"
   ]
  },
  {
   "cell_type": "markdown",
   "metadata": {},
   "source": [
    "**Part 3: ANOVA and Group Comparisons**  \n",
    "\n"
   ]
  },
  {
   "cell_type": "markdown",
   "metadata": {},
   "source": [
    "8. **ANOVA for Salary Differences by Education Level:**  \n",
    "   - Perform a one-way ANOVA to analyze if education level has a significant impact on salary.  \n",
    "   - Report the **p-value** and your conclusion.  \n",
    "\n"
   ]
  },
  {
   "cell_type": "code",
   "execution_count": 25,
   "metadata": {},
   "outputs": [],
   "source": [
    "import scipy.stats as stats"
   ]
  },
  {
   "cell_type": "code",
   "execution_count": 26,
   "metadata": {},
   "outputs": [],
   "source": [
    "# Realizar el ANOVA de un solo factor (Salario vs Nivel educativo)\n",
    "anova_result = stats.f_oneway(\n",
    "    df[df['Educacion'] == 'Maestría']['Salario'],\n",
    "    df[df['Educacion'] == 'Licenciatura']['Salario'],\n",
    "    df[df['Educacion'] == 'Secundaria']['Salario'],\n",
    "    df[df['Educacion'] == 'Doctorado']['Salario']\n",
    ")\n"
   ]
  },
  {
   "cell_type": "code",
   "execution_count": 27,
   "metadata": {},
   "outputs": [
    {
     "name": "stdout",
     "output_type": "stream",
     "text": [
      "Valor p del ANOVA: 5.7789259795993405e-21\n"
     ]
    }
   ],
   "source": [
    "# Mostrar el p-valor\n",
    "print(f\"Valor p del ANOVA: {anova_result.pvalue}\")"
   ]
  },
  {
   "cell_type": "code",
   "execution_count": 28,
   "metadata": {},
   "outputs": [
    {
     "name": "stdout",
     "output_type": "stream",
     "text": [
      "Existe una diferencia significativa en los salarios según el nivel educativo.\n"
     ]
    }
   ],
   "source": [
    "# Conclusión\n",
    "if anova_result.pvalue < 0.05:\n",
    "    print(\"Existe una diferencia significativa en los salarios según el nivel educativo.\")\n",
    "else:\n",
    "    print(\"No existe una diferencia significativa en los salarios según el nivel educativo.\")"
   ]
  },
  {
   "cell_type": "markdown",
   "metadata": {},
   "source": [
    "9. **Interaction Between Education and Experience:**  \n",
    "   - Fit a new regression model including an **interaction term between education level and experience**.  \n",
    "   - How does the impact of experience on salary change depending on education level?  \n",
    "\n"
   ]
  },
  {
   "cell_type": "code",
   "execution_count": 30,
   "metadata": {},
   "outputs": [],
   "source": [
    "import statsmodels.formula.api as smf"
   ]
  },
  {
   "cell_type": "code",
   "execution_count": 31,
   "metadata": {},
   "outputs": [
    {
     "name": "stdout",
     "output_type": "stream",
     "text": [
      "                            OLS Regression Results                            \n",
      "==============================================================================\n",
      "Dep. Variable:                Salario   R-squared:                       0.618\n",
      "Model:                            OLS   Adj. R-squared:                  0.604\n",
      "Method:                 Least Squares   F-statistic:                     44.31\n",
      "Date:                Tue, 11 Mar 2025   Prob (F-statistic):           7.15e-37\n",
      "Time:                        11:27:46   Log-Likelihood:                -2230.7\n",
      "No. Observations:                 200   AIC:                             4477.\n",
      "Df Residuals:                     192   BIC:                             4504.\n",
      "Df Model:                           7                                         \n",
      "Covariance Type:            nonrobust                                         \n",
      "=========================================================================================================\n",
      "                                            coef    std err          t      P>|t|      [0.025      0.975]\n",
      "---------------------------------------------------------------------------------------------------------\n",
      "Intercept                              9.517e+04   6813.839     13.968      0.000    8.17e+04    1.09e+05\n",
      "Educacion[T.Licenciatura]               -4.1e+04   7664.306     -5.349      0.000   -5.61e+04   -2.59e+04\n",
      "Educacion[T.Maestría]                 -1.674e+04   8705.057     -1.923      0.056   -3.39e+04     431.373\n",
      "Educacion[T.Secundaria]               -4.844e+04   8239.014     -5.879      0.000   -6.47e+04   -3.22e+04\n",
      "Experiencia                            1266.9749    291.112      4.352      0.000     692.786    1841.164\n",
      "Experiencia:Educacion[T.Licenciatura]   -23.9740    326.886     -0.073      0.942    -668.724     620.776\n",
      "Experiencia:Educacion[T.Maestría]      -725.5521    377.274     -1.923      0.056   -1469.685      18.581\n",
      "Experiencia:Educacion[T.Secundaria]    -312.0798    360.906     -0.865      0.388   -1023.929     399.769\n",
      "==============================================================================\n",
      "Omnibus:                       28.069   Durbin-Watson:                   1.943\n",
      "Prob(Omnibus):                  0.000   Jarque-Bera (JB):               35.357\n",
      "Skew:                           1.006   Prob(JB):                     2.10e-08\n",
      "Kurtosis:                       3.442   Cond. No.                         309.\n",
      "==============================================================================\n",
      "\n",
      "Notes:\n",
      "[1] Standard Errors assume that the covariance matrix of the errors is correctly specified.\n"
     ]
    }
   ],
   "source": [
    "# Convertir la variable 'Educacion' en variable categórica\n",
    "df['Educacion'] = pd.Categorical(df['Educacion'])\n",
    "\n",
    "# Ajustar el modelo de regresión con un término de interacción\n",
    "model = smf.ols('Salario ~ Experiencia * Educacion', data=df).fit()\n",
    "\n",
    "# Ver el resumen del modelo\n",
    "print(model.summary())"
   ]
  },
  {
   "cell_type": "markdown",
   "metadata": {},
   "source": [
    "Coeficientes significativos (p < 0.05):\n",
    "✅ Experiencia (coef = 1266.97, p = 0.000) → La experiencia tiene un impacto positivo en el salario.\n",
    "\n",
    "Coeficientes NO significativos (p ≥ 0.05):\n",
    "\n",
    "❌ Experiencia:Educacion Licenciatura(coef = -23.97, p = 0.942) → No afecta significativamente el impacto de la experiencia.\n",
    "\n",
    "❌ Experiencia:Educacion Maestria(coef = -725.55, p = 0.056) → Cercano al 0.05, pero no es estadísticamente significativo.\n",
    "\n",
    "❌ Experiencia:Educacion Secundaria(coef = -312.08, p = 0.388) → No afecta significativamente el impacto de la experiencia."
   ]
  },
  {
   "cell_type": "markdown",
   "metadata": {},
   "source": [
    "10. **Salary Differences by Department (Visualization):**  \n",
    "   - Generate a **boxplot** showing the salary distribution for each department.  \n",
    "   - What key differences do you observe?  \n",
    "\n"
   ]
  },
  {
   "cell_type": "code",
   "execution_count": 23,
   "metadata": {},
   "outputs": [
    {
     "data": {
      "image/png": "[encoded data removed]",
      "text/plain": [
       "<Figure size 1000x600 with 1 Axes>"
      ]
     },
     "metadata": {},
     "output_type": "display_data"
    }
   ],
   "source": [
    "# Crear un boxplot para la distribución de salarios por departamento\n",
    "plt.figure(figsize=(10, 6))\n",
    "sns.boxplot(x='Departamento', y='Salario', data=df)\n",
    "\n",
    "# Establecer título y etiquetas\n",
    "plt.title('Distribución de Salarios por Departamento', fontsize=16)\n",
    "plt.xlabel('Departamento', fontsize=12)\n",
    "plt.ylabel('Salario', fontsize=12)\n",
    "\n",
    "# Mostrar el gráfico\n",
    "plt.xticks(rotation=45)\n",
    "plt.show()"
   ]
  },
  {
   "cell_type": "markdown",
   "metadata": {},
   "source": [
    "**Grading Criteria**  \n",
    "- **Exploratory Analysis (3 points):** Appropriate use of visualizations and descriptive statistics.  \n",
    "- **Multiple Regression (4 points):** Correct application of the model using only numerical variables, clear interpretation of coefficients, and model evaluation.  \n",
    "- **ANOVA and Comparisons (3 points):** Proper use of ANOVA, interaction analysis, and effective visualization.  "
   ]
  }
 ],
 "metadata": {
  "kernelspec": {
   "display_name": "base",
   "language": "python",
   "name": "python3"
  },
  "language_info": {
   "codemirror_mode": {
    "name": "ipython",
    "version": 3
   },
   "file_extension": ".py",
   "mimetype": "text/x-python",
   "name": "python",
   "nbconvert_exporter": "python",
   "pygments_lexer": "ipython3",
   "version": "3.11.4"
  }
 },
 "nbformat": 4,
 "nbformat_minor": 2
}
