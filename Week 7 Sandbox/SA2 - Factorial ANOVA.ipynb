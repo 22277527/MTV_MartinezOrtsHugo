{
 "cells": [
  {
   "cell_type": "markdown",
   "metadata": {},
   "source": [
    "# **SA2 - Factorial ANOVA**  \n",
    "\n"
   ]
  },
  {
   "cell_type": "markdown",
   "metadata": {},
   "source": [
    "#### **Instructions**  \n",
    "This bulletin contains exercises designed to assess your understanding of Factorial ANOVA. Answer each question and, if possible, use Python to verify your answers.\n",
    "\n",
    "---\n",
    "\n"
   ]
  },
  {
   "cell_type": "markdown",
   "metadata": {},
   "source": [
    "### **Exercise 1: Basics of Factorial ANOVA**  \n",
    "A company is testing two types of advertising (Advertising A and Advertising B) in three different regions (North, Central, and South) to analyze their impact on sales.  \n",
    "\n",
    "1. **What are the factors and levels in this design?**  \n",
    "2. **How many groups are in the study?**  \n",
    "3. **What is the dependent variable in this analysis?**  \n",
    "4. **What null hypotheses can be formulated in a factorial ANOVA for this study?**  \n",
    "\n",
    "---\n",
    "\n"
   ]
  },
  {
   "cell_type": "markdown",
   "metadata": {},
   "source": [
    "### **Exercise 2: Factorial ANOVA Calculation**  \n",
    "Suppose you have the following sales data (in thousands of dollars) after applying the advertising strategies:\n",
    "\n",
    "| Region  | Advertising A | Advertising B |\n",
    "|---------|--------------|--------------|\n",
    "| North   | 50, 55, 53   | 48, 50, 51   |\n",
    "| Central | 60, 62, 61   | 58, 59, 57   |\n",
    "| South   | 45, 47, 46   | 44, 45, 46   |\n",
    "\n",
    "1. **Calculate the mean for each group.**  \n",
    "2. **Calculate the overall mean.**  \n",
    "3. **Compute the total sum of squares (SST), between-groups sum of squares (SSB), and error sum of squares (SSE).**  \n",
    "4. **Determine the corresponding degrees of freedom.**  \n",
    "5. **Construct the ANOVA table and analyze whether the factors have significant effects.**  \n",
    "6. **Interpret the results and explain whether there is an interaction between the factors.**  \n",
    "\n",
    "---\n",
    "\n"
   ]
  },
  {
   "cell_type": "markdown",
   "metadata": {},
   "source": [
    "### **Exercise 3: Interpretation of Interaction**  \n",
    "A researcher conducts a 2x2 factorial ANOVA on the effect of diet (Diet 1 vs. Diet 2) and exercise (With Exercise vs. Without Exercise) on weight loss. The following results are obtained:\n",
    "\n",
    "- **Main effect of diet:** p = 0.03  \n",
    "- **Main effect of exercise:** p = 0.10  \n",
    "- **Diet-exercise interaction:** p = 0.001  \n",
    "\n",
    "1. **What do the p-values indicate about the main effects?**  \n",
    "2. **How do you interpret the significant interaction between diet and exercise?**  \n",
    "3. **If there is a significant interaction, does it make sense to interpret the main effects separately?**  \n",
    "\n",
    "---\n",
    "\n"
   ]
  },
  {
   "cell_type": "markdown",
   "metadata": {},
   "source": [
    "### **Exercise 4: Practical Application in Python**  \n",
    "Use Python to perform a factorial ANOVA with the following fictional customer satisfaction data based on the type of service received (Standard vs. Premium) and waiting time (Short vs. Long):\n",
    "\n",
    "| Service Type | Waiting Time | Satisfaction (1-10) |\n",
    "|-------------|-------------|---------------------|\n",
    "| Standard    | Short       | 6, 7, 8, 7, 6      |\n",
    "| Standard    | Long        | 5, 6, 5, 4, 5      |\n",
    "| Premium     | Short       | 8, 9, 9, 8, 9      |\n",
    "| Premium     | Long        | 7, 7, 6, 7, 6      |\n",
    "\n",
    "1. **Perform the factorial ANOVA in Python.**  \n",
    "2. **Report the F and p values for each effect (main and interaction).**  \n",
    "3. **Interpret the results: Are there significant effects of the factors or interaction?**  \n",
    "\n",
    "---\n",
    "\n"
   ]
  },
  {
   "cell_type": "markdown",
   "metadata": {},
   "source": [
    "### **Exercise 5: Theoretical Questions**  \n",
    "1. When is it preferable to use a factorial ANOVA instead of multiple one-way ANOVAs?  \n",
    "2. What assumptions must be met to apply a factorial ANOVA?  \n",
    "3. How is an interaction effect interpreted in a mean plot?  \n",
    "4. What can be done if the data do not meet the assumption of homogeneity of variances?  \n",
    "5. What advantages does a factorial design have over a single-factor design?  \n",
    "\n",
    "---"
   ]
  }
 ],
 "metadata": {
  "language_info": {
   "name": "python"
  }
 },
 "nbformat": 4,
 "nbformat_minor": 2
}
