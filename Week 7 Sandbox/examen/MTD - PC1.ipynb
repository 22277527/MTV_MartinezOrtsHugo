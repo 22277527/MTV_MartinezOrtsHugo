{
 "cells": [
  {
   "cell_type": "markdown",
   "metadata": {},
   "source": [
    "# **PC1 (official) - Decision-Making Models**  \n",
    "**Duration:** 2 hours  \n",
    "**Total Points:** 10  \n",
    "\n",
    "**IMPORTANT: Attendance Requirements and Exam Validity**  \n",
    "- The validity of this test is **subject to meeting the minimum attendance requirement of 60%** throughout the course.  \n",
    "- Students who currently have an attendance rate **below 60%** must submit a **report** detailing:  \n",
    "  - **Their current attendance percentage**.  \n",
    "  - **The specific days they need to attend** in order to reach at least 60% by the end of the course.  \n",
    "- During the week of **May 9**, the instructor will confirm which students will continue under **continuous evaluation** and which will be transferred to the **extraordinary exam**.  \n",
    "- **Students who do not meet the attendance requirement by the final review will not be eligible for continuous evaluation.**  \n",
    "\n",
    "**Instructions:**  \n",
    "- Use the provided dataset to answer the questions.  \n",
    "- All answers must include both code and interpretation of the results.  \n",
    "- **Plotly** must be used for visualizations.  \n",
    "- A detailed analysis is expected for the advanced questions.  \n",
    "- Complete the exercises in **Jupyter Notebook**.  \n",
    "- Make sure to execute your code to verify correctness before moving on to the next exercise.  \n",
    "- **You may only refer to your notes.** \n",
    "- **The use of artificial intelligence (AI) tools is strictly prohibited.** This includes, but is not limited to, ChatGPT, Copilot, Bard, or any other code-generation or online assistance tools.  \n",
    "- Each question is worth **1 point**, for a total of **10 points**.  \n",
    "- Code clarity and readability will be considered in the evaluation. Write clean, well-structured code with comments when necessary.  \n",
    "- Communication with other students during the test is not allowed. Any attempt at plagiarism, use of unauthorized materials, or violation of these rules will result in a score of zero.  \n",
    "- **Each student may ask only one question to the instructor.** Any additional question will result in a **0.5-point deduction** from the final score.  \n",
    "\n",
    "**Commitment Declaration**  \n",
    "Before submitting the test, each student must read and confirm the following statements:  \n",
    "\n",
    "☐ **Attendance Commitment**: I acknowledge that if my attendance is currently below 60%, I must submit a report detailing my current percentage and the specific days I need to attend to reach the minimum by the end of the course. I commit to meeting this requirement.  \n",
    "\n",
    "☐ **AI Non-Usage Declaration**: I confirm that I have not used any AI tools (such as ChatGPT, Copilot, Bard, or similar) during this test. I understand that if I am found to have used AI assistance, I will be sanctioned, and my test will be invalidated.  \n",
    "\n",
    "**Note:** Be sure to save your work periodically to prevent any loss of progress.  \n",
    "\n"
   ]
  },
  {
   "cell_type": "markdown",
   "metadata": {},
   "source": [
    "---\n",
    "---"
   ]
  },
  {
   "cell_type": "markdown",
   "metadata": {},
   "source": [
    "1. **Data Exploration:**  \n",
    "   - Load the dataset and display the first 5 rows.  \n",
    "   - Compute descriptive statistics for the quantitative variables.  \n",
    "\n"
   ]
  },
  {
   "cell_type": "code",
   "execution_count": 1,
   "metadata": {},
   "outputs": [],
   "source": [
    "import pandas as pd"
   ]
  },
  {
   "cell_type": "code",
   "execution_count": 3,
   "metadata": {},
   "outputs": [
    {
     "data": {
      "text/html": [
       "<div>\n",
       "<style scoped>\n",
       "    .dataframe tbody tr th:only-of-type {\n",
       "        vertical-align: middle;\n",
       "    }\n",
       "\n",
       "    .dataframe tbody tr th {\n",
       "        vertical-align: top;\n",
       "    }\n",
       "\n",
       "    .dataframe thead th {\n",
       "        text-align: right;\n",
       "    }\n",
       "</style>\n",
       "<table border=\"1\" class=\"dataframe\">\n",
       "  <thead>\n",
       "    <tr style=\"text-align: right;\">\n",
       "      <th></th>\n",
       "      <th>Asistencia (%)</th>\n",
       "      <th>Horas de estudio (diarias)</th>\n",
       "      <th>Dificultad Materia</th>\n",
       "      <th>Interés Alumno</th>\n",
       "      <th>Nota Final</th>\n",
       "    </tr>\n",
       "  </thead>\n",
       "  <tbody>\n",
       "    <tr>\n",
       "      <th>0</th>\n",
       "      <td>68.727006</td>\n",
       "      <td>2.568127</td>\n",
       "      <td>Fácil</td>\n",
       "      <td>Bajo</td>\n",
       "      <td>7.533144</td>\n",
       "    </tr>\n",
       "    <tr>\n",
       "      <th>1</th>\n",
       "      <td>97.535715</td>\n",
       "      <td>0.336560</td>\n",
       "      <td>Moderada</td>\n",
       "      <td>Medio</td>\n",
       "      <td>7.069709</td>\n",
       "    </tr>\n",
       "    <tr>\n",
       "      <th>2</th>\n",
       "      <td>86.599697</td>\n",
       "      <td>0.646515</td>\n",
       "      <td>Moderada</td>\n",
       "      <td>Bajo</td>\n",
       "      <td>6.287245</td>\n",
       "    </tr>\n",
       "    <tr>\n",
       "      <th>3</th>\n",
       "      <td>79.932924</td>\n",
       "      <td>3.594217</td>\n",
       "      <td>Moderada</td>\n",
       "      <td>Bajo</td>\n",
       "      <td>7.494425</td>\n",
       "    </tr>\n",
       "    <tr>\n",
       "      <th>4</th>\n",
       "      <td>57.800932</td>\n",
       "      <td>2.425716</td>\n",
       "      <td>Fácil</td>\n",
       "      <td>Bajo</td>\n",
       "      <td>7.024895</td>\n",
       "    </tr>\n",
       "  </tbody>\n",
       "</table>\n",
       "</div>"
      ],
      "text/plain": [
       "   Asistencia (%)  Horas de estudio (diarias) Dificultad Materia  \\\n",
       "0       68.727006                    2.568127              Fácil   \n",
       "1       97.535715                    0.336560           Moderada   \n",
       "2       86.599697                    0.646515           Moderada   \n",
       "3       79.932924                    3.594217           Moderada   \n",
       "4       57.800932                    2.425716              Fácil   \n",
       "\n",
       "  Interés Alumno  Nota Final  \n",
       "0           Bajo    7.533144  \n",
       "1          Medio    7.069709  \n",
       "2           Bajo    6.287245  \n",
       "3           Bajo    7.494425  \n",
       "4           Bajo    7.024895  "
      ]
     },
     "metadata": {},
     "output_type": "display_data"
    }
   ],
   "source": [
    "df = pd.read_csv('Dataset_PC1.csv')\n",
    "display(df.head(5))"
   ]
  },
  {
   "cell_type": "code",
   "execution_count": 4,
   "metadata": {},
   "outputs": [
    {
     "data": {
      "text/html": [
       "<div>\n",
       "<style scoped>\n",
       "    .dataframe tbody tr th:only-of-type {\n",
       "        vertical-align: middle;\n",
       "    }\n",
       "\n",
       "    .dataframe tbody tr th {\n",
       "        vertical-align: top;\n",
       "    }\n",
       "\n",
       "    .dataframe thead th {\n",
       "        text-align: right;\n",
       "    }\n",
       "</style>\n",
       "<table border=\"1\" class=\"dataframe\">\n",
       "  <thead>\n",
       "    <tr style=\"text-align: right;\">\n",
       "      <th></th>\n",
       "      <th>Asistencia (%)</th>\n",
       "      <th>Horas de estudio (diarias)</th>\n",
       "      <th>Nota Final</th>\n",
       "    </tr>\n",
       "  </thead>\n",
       "  <tbody>\n",
       "    <tr>\n",
       "      <th>count</th>\n",
       "      <td>200.000000</td>\n",
       "      <td>200.000000</td>\n",
       "      <td>200.000000</td>\n",
       "    </tr>\n",
       "    <tr>\n",
       "      <th>mean</th>\n",
       "      <td>74.200312</td>\n",
       "      <td>2.017501</td>\n",
       "      <td>7.379263</td>\n",
       "    </tr>\n",
       "    <tr>\n",
       "      <th>std</th>\n",
       "      <td>14.744572</td>\n",
       "      <td>1.172005</td>\n",
       "      <td>1.068975</td>\n",
       "    </tr>\n",
       "    <tr>\n",
       "      <th>min</th>\n",
       "      <td>50.276106</td>\n",
       "      <td>0.020246</td>\n",
       "      <td>5.048473</td>\n",
       "    </tr>\n",
       "    <tr>\n",
       "      <th>25%</th>\n",
       "      <td>61.429121</td>\n",
       "      <td>1.045850</td>\n",
       "      <td>6.611123</td>\n",
       "    </tr>\n",
       "    <tr>\n",
       "      <th>50%</th>\n",
       "      <td>74.724313</td>\n",
       "      <td>2.166560</td>\n",
       "      <td>7.439472</td>\n",
       "    </tr>\n",
       "    <tr>\n",
       "      <th>75%</th>\n",
       "      <td>87.842981</td>\n",
       "      <td>2.968797</td>\n",
       "      <td>8.069129</td>\n",
       "    </tr>\n",
       "    <tr>\n",
       "      <th>max</th>\n",
       "      <td>99.344347</td>\n",
       "      <td>3.962021</td>\n",
       "      <td>9.634870</td>\n",
       "    </tr>\n",
       "  </tbody>\n",
       "</table>\n",
       "</div>"
      ],
      "text/plain": [
       "       Asistencia (%)  Horas de estudio (diarias)  Nota Final\n",
       "count      200.000000                  200.000000  200.000000\n",
       "mean        74.200312                    2.017501    7.379263\n",
       "std         14.744572                    1.172005    1.068975\n",
       "min         50.276106                    0.020246    5.048473\n",
       "25%         61.429121                    1.045850    6.611123\n",
       "50%         74.724313                    2.166560    7.439472\n",
       "75%         87.842981                    2.968797    8.069129\n",
       "max         99.344347                    3.962021    9.634870"
      ]
     },
     "execution_count": 4,
     "metadata": {},
     "output_type": "execute_result"
    }
   ],
   "source": [
    "df.describe()"
   ]
  },
  {
   "cell_type": "markdown",
   "metadata": {},
   "source": [
    "2. **Variable Correlation:**  \n",
    "   - Compute and visualize the correlation matrix for the quantitative variables.  \n",
    "\n"
   ]
  },
  {
   "cell_type": "code",
   "execution_count": 7,
   "metadata": {},
   "outputs": [],
   "source": [
    "import seaborn as sns\n",
    "import matplotlib.pyplot as plt"
   ]
  },
  {
   "cell_type": "code",
   "execution_count": 8,
   "metadata": {},
   "outputs": [
    {
     "name": "stderr",
     "output_type": "stream",
     "text": [
      "C:\\Users\\Hugo\\AppData\\Local\\Temp\\ipykernel_16696\\2374810870.py:2: FutureWarning: The default value of numeric_only in DataFrame.corr is deprecated. In a future version, it will default to False. Select only valid columns or specify the value of numeric_only to silence this warning.\n",
      "  corr_matrix = df.corr()\n"
     ]
    },
    {
     "data": {
      "image/png": "[encoded data removed]",
      "text/plain": [
       "<Figure size 800x500 with 2 Axes>"
      ]
     },
     "metadata": {},
     "output_type": "display_data"
    },
    {
     "name": "stdout",
     "output_type": "stream",
     "text": [
      "                            Asistencia (%)  Horas de estudio (diarias)  \\\n",
      "Asistencia (%)                    1.000000                   -0.026887   \n",
      "Horas de estudio (diarias)       -0.026887                    1.000000   \n",
      "Nota Final                        0.547855                    0.625467   \n",
      "\n",
      "                            Nota Final  \n",
      "Asistencia (%)                0.547855  \n",
      "Horas de estudio (diarias)    0.625467  \n",
      "Nota Final                    1.000000  \n"
     ]
    }
   ],
   "source": [
    "# Compute correlation matrix\n",
    "corr_matrix = df.corr()\n",
    "\n",
    "# Display correlation matrix\n",
    "plt.figure(figsize=(8,5))\n",
    "sns.heatmap(corr_matrix, annot=True, cmap=\"coolwarm\", fmt=\".2f\")\n",
    "plt.title(\"Matriz de Correlación\")\n",
    "plt.show()\n",
    "\n",
    "# Print correlation matrix\n",
    "print(corr_matrix)"
   ]
  },
  {
   "cell_type": "markdown",
   "metadata": {},
   "source": [
    "3. **Simple Linear Regression (Variable 1):**  \n",
    "   - Fit a linear regression model where **Final Grade** is the dependent variable and **Attendance (%)** is the independent variable.  \n",
    "   - Report the coefficients and R².  \n",
    "\n"
   ]
  },
  {
   "cell_type": "code",
   "execution_count": 9,
   "metadata": {},
   "outputs": [],
   "source": [
    "import statsmodels.api as sm"
   ]
  },
  {
   "cell_type": "code",
   "execution_count": 12,
   "metadata": {},
   "outputs": [],
   "source": [
    "X = df['Asistencia (%)']\n",
    "y = df['Nota Final']"
   ]
  },
  {
   "cell_type": "code",
   "execution_count": 13,
   "metadata": {},
   "outputs": [],
   "source": [
    "# Agregar constante para la regresión\n",
    "X = sm.add_constant(X)"
   ]
  },
  {
   "cell_type": "code",
   "execution_count": 14,
   "metadata": {},
   "outputs": [],
   "source": [
    "# Ajustar modelo de regresión lineal múltiple\n",
    "modelo = sm.OLS(y, X).fit()"
   ]
  },
  {
   "cell_type": "code",
   "execution_count": 16,
   "metadata": {},
   "outputs": [
    {
     "name": "stdout",
     "output_type": "stream",
     "text": [
      "                            OLS Regression Results                            \n",
      "==============================================================================\n",
      "Dep. Variable:             Nota Final   R-squared:                       0.300\n",
      "Model:                            OLS   Adj. R-squared:                  0.297\n",
      "Method:                 Least Squares   F-statistic:                     84.92\n",
      "Date:                Thu, 13 Mar 2025   Prob (F-statistic):           4.63e-17\n",
      "Time:                        08:44:07   Log-Likelihood:                -260.94\n",
      "No. Observations:                 200   AIC:                             525.9\n",
      "Df Residuals:                     198   BIC:                             532.5\n",
      "Df Model:                           1                                         \n",
      "Covariance Type:            nonrobust                                         \n",
      "==================================================================================\n",
      "                     coef    std err          t      P>|t|      [0.025      0.975]\n",
      "----------------------------------------------------------------------------------\n",
      "const              4.4321      0.326     13.593      0.000       3.789       5.075\n",
      "Asistencia (%)     0.0397      0.004      9.215      0.000       0.031       0.048\n",
      "==============================================================================\n",
      "Omnibus:                       12.077   Durbin-Watson:                   1.811\n",
      "Prob(Omnibus):                  0.002   Jarque-Bera (JB):                4.955\n",
      "Skew:                           0.001   Prob(JB):                       0.0839\n",
      "Kurtosis:                       2.229   Cond. No.                         389.\n",
      "==============================================================================\n",
      "\n",
      "Notes:\n",
      "[1] Standard Errors assume that the covariance matrix of the errors is correctly specified.\n"
     ]
    }
   ],
   "source": [
    "print(modelo.summary())"
   ]
  },
  {
   "cell_type": "markdown",
   "metadata": {},
   "source": [
    "Here we can se the coefficient of final mark(4.431) and the coefficient of attendence(0.0397). The R2 value is 0.3\n",
    "Since both coefficients are positive, the larger the independent variable, the larger the dependent variable.\n",
    "\n"
   ]
  },
  {
   "cell_type": "markdown",
   "metadata": {},
   "source": [
    "4. **Simple Linear Regression (Variable 2):**  \n",
    "   - Fit another linear regression model where **Final Grade** is the dependent variable and **Study Hours (daily)** is the independent variable.  \n",
    "   - Report the coefficients and R².  \n",
    "\n"
   ]
  },
  {
   "cell_type": "code",
   "execution_count": 17,
   "metadata": {},
   "outputs": [],
   "source": [
    "X = df['Horas de estudio (diarias)']\n",
    "y = df['Nota Final']"
   ]
  },
  {
   "cell_type": "code",
   "execution_count": 18,
   "metadata": {},
   "outputs": [],
   "source": [
    "# Agregar constante para la regresión\n",
    "X = sm.add_constant(X)"
   ]
  },
  {
   "cell_type": "code",
   "execution_count": 19,
   "metadata": {},
   "outputs": [],
   "source": [
    "# Ajustar modelo de regresión lineal múltiple\n",
    "modelo = sm.OLS(y, X).fit()"
   ]
  },
  {
   "cell_type": "code",
   "execution_count": 20,
   "metadata": {},
   "outputs": [
    {
     "name": "stdout",
     "output_type": "stream",
     "text": [
      "                            OLS Regression Results                            \n",
      "==============================================================================\n",
      "Dep. Variable:             Nota Final   R-squared:                       0.391\n",
      "Model:                            OLS   Adj. R-squared:                  0.388\n",
      "Method:                 Least Squares   F-statistic:                     127.2\n",
      "Date:                Thu, 13 Mar 2025   Prob (F-statistic):           4.13e-23\n",
      "Time:                        08:47:42   Log-Likelihood:                -247.00\n",
      "No. Observations:                 200   AIC:                             498.0\n",
      "Df Residuals:                     198   BIC:                             504.6\n",
      "Df Model:                           1                                         \n",
      "Covariance Type:            nonrobust                                         \n",
      "==============================================================================================\n",
      "                                 coef    std err          t      P>|t|      [0.025      0.975]\n",
      "----------------------------------------------------------------------------------------------\n",
      "const                          6.2283      0.118     52.814      0.000       5.996       6.461\n",
      "Horas de estudio (diarias)     0.5705      0.051     11.280      0.000       0.471       0.670\n",
      "==============================================================================\n",
      "Omnibus:                       22.363   Durbin-Watson:                   1.859\n",
      "Prob(Omnibus):                  0.000   Jarque-Bera (JB):                8.051\n",
      "Skew:                           0.206   Prob(JB):                       0.0179\n",
      "Kurtosis:                       2.108   Cond. No.                         5.32\n",
      "==============================================================================\n",
      "\n",
      "Notes:\n",
      "[1] Standard Errors assume that the covariance matrix of the errors is correctly specified.\n"
     ]
    }
   ],
   "source": [
    "print(modelo.summary())"
   ]
  },
  {
   "cell_type": "markdown",
   "metadata": {},
   "source": [
    "Here we can se the coefficient of final mark(6.228) and the coefficient of Study hours(0.5705). The R2 value is 0.381\n",
    "Since both coefficients are positive, the larger the independent variable, the larger the dependent variable."
   ]
  },
  {
   "cell_type": "markdown",
   "metadata": {},
   "source": [
    "5. **Regression Visualization:**  \n",
    "   - Use **Plotly** to generate scatter plots with the regression line for the models fitted in questions 3 and 4.  \n",
    "\n"
   ]
  },
  {
   "cell_type": "code",
   "execution_count": 45,
   "metadata": {},
   "outputs": [],
   "source": [
    "import plotly.express as px\n",
    "import plotly.graph_objects as go\n",
    "import numpy as np\n"
   ]
  },
  {
   "cell_type": "code",
   "execution_count": 50,
   "metadata": {},
   "outputs": [],
   "source": [
    "\n",
    "    # Crear gráfico de dispersión\n",
    "fig_scatter = px.scatter(df, x='Horas de estudio (diarias)', y='Nota Final', title='Relación entre Horas de estudio (diarias) y Nota Final',\n",
    "                        labels={'X': 'Horas de estudio (diarias)', 'Y': 'Nota Final'}, \n",
    "                        color_discrete_sequence=['blue'])\n",
    "\n",
    "\n",
    "\n"
   ]
  },
  {
   "cell_type": "code",
   "execution_count": 51,
   "metadata": {},
   "outputs": [
    {
     "data": {
      "application/vnd.plotly.v1+json": {
       "config": {
        "plotlyServerURL": "https://plot.ly"
       },
       "data": [
        {
         "hovertemplate": "Horas de estudio (diarias)=%{x}<br>Nota Final=%{y}<extra></extra>",
         "legendgroup": "",
         "marker": {
          "color": "blue",
          "symbol": "circle"
         },
         "mode": "markers",
         "name": "",
         "orientation": "v",
         "showlegend": false,
         "type": "scatter",
         "x": [
          2.568126584617151,
          0.3365598599801953,
          0.6465148563784551,
          3.594216754108317,
          2.42571623863836,
          0.0367882064665185,
          0.4058861714641284,
          2.6540070764322232,
          0.0202463353848747,
          0.6432322056699946,
          2.1949351574663445,
          2.767580790770773,
          2.607845038010402,
          0.8970772378422391,
          2.8487168853901434,
          0.9489963499872004,
          1.301598792637071,
          2.985965620472097,
          2.5985315961888587,
          3.396893641976712,
          2.630451569201373,
          2.2732344133418865,
          0.3746990713123699,
          1.470863212237734,
          1.0608094707269018,
          0.9759585735163344,
          3.8920422190097823,
          1.5723908986670416,
          3.568186220708453,
          2.524554503989052,
          3.1792452141665937,
          2.0105483724207684,
          2.3076155385054364,
          1.970070775275456,
          0.780971951192178,
          2.8898084610460213,
          1.1230894497634232,
          0.0972638657258153,
          2.5818891836286717,
          0.7084427176281958,
          3.761834337411657,
          3.8157143080103495,
          3.659457560881794,
          1.4806348010217776,
          0.0618264661154697,
          3.7132742503509015,
          1.712736593269257,
          3.8666192761746783,
          3.8544799083570114,
          3.4120378218694403,
          1.1777955682783428,
          1.540390914407701,
          3.404546686067428,
          1.2676880206251109,
          0.67797098674437,
          2.2272050498334006,
          3.744619096643124,
          2.784119186699892,
          2.28024468035746,
          0.3887059750830741,
          2.460028906796679,
          3.960215400417053,
          0.5603360609460961,
          2.073318609454947,
          3.5094922877118218,
          2.9630744710168178,
          2.788062963981072,
          2.809936335948437,
          1.437964604879021,
          1.1743673770579734,
          3.2374446219140545,
          3.240453578716723,
          3.468289274320415,
          3.652962210225885,
          2.045369595443751,
          2.0060651787487984,
          3.1931807158671006,
          2.5998557231110606,
          2.8078675090308134,
          3.183170677744404,
          3.560021367270265,
          1.3519806274061432,
          1.502331810559776,
          0.375927759363476,
          2.313120563984696,
          0.1437690951869683,
          1.8623920725298408,
          2.1705785388303065,
          1.1461650085131376,
          2.363333042276043,
          0.1220009997561977,
          0.1493927549968576,
          3.290402242638633,
          1.4407625656450516,
          0.5082420506075391,
          2.088973040219217,
          3.079974212394444,
          0.8632841099873727,
          2.491561903276001,
          0.341389859975072,
          0.2067268846744308,
          2.125418526272592,
          2.162540486440426,
          2.549719605992826,
          2.904365334890646,
          3.9034083178501375,
          2.065201393204781,
          1.291825891764984,
          3.1807447790748147,
          1.0833290050482969,
          1.7558856828225444,
          0.3138255253690638,
          0.10140297366183,
          3.8505936587117,
          3.3439204820488238,
          2.783896824374792,
          1.6358117776570795,
          0.6931772802833831,
          0.6257481706843442,
          1.000971592658381,
          2.196906658824482,
          2.8583836908002493,
          2.640789506870925,
          1.1197355877837714,
          3.819461122652776,
          2.951587666783074,
          2.2174162100456027,
          2.446882984937409,
          1.6784002497111596,
          0.9909239580046298,
          1.4238907146050463,
          3.0313844418574765,
          0.0575739545190234,
          0.4642905620276649,
          0.184010568087011,
          0.1629152092758805,
          3.421842336044029,
          2.8146314375200947,
          1.8966953163493008,
          0.3913366426040059,
          1.9664635004673292,
          1.8938870831222627,
          0.6928074796400607,
          1.735406596951892,
          1.5940189375894938,
          2.463400392208866,
          2.540374603470575,
          0.181216039088178,
          1.4984504585058849,
          2.503439662856945,
          2.012545034320351,
          3.425959364753289,
          2.63477452647578,
          0.6517377083257188,
          0.2822749896017194,
          2.5696771128252625,
          0.1060452421664872,
          2.343102325093853,
          3.7609209656998304,
          2.301896711503516,
          1.5526797048260876,
          2.5731528737694127,
          1.8330115619660663,
          2.18246715726374,
          3.7658592351061007,
          1.544410551203097,
          3.844762255295657,
          3.621402567824255,
          0.7831645391571858,
          0.2774452035006618,
          0.4031120055097066,
          0.0728873026061989,
          0.3777718430237136,
          2.7320270936654274,
          0.2847545938409159,
          1.2759025211750452,
          3.3795012438778183,
          0.0930877429433034,
          3.257873930355743,
          1.1274190990935995,
          0.472659310486625,
          2.7869486614566026,
          2.515771387119536,
          3.509888054108212,
          2.940284175215543,
          3.2139237215393943,
          1.128138290285226,
          0.7097581751188913,
          3.0024590065634333,
          3.227338957069056,
          3.962020568002693,
          1.650470707645706,
          1.488072343171133,
          3.105651842967988,
          1.3632141610120714,
          3.723029302414259,
          3.433651007372047,
          1.7159761095000734,
          3.003484271165989,
          3.0181714963387294
         ],
         "xaxis": "x",
         "y": [
          7.533143530003301,
          7.069708542809931,
          6.287245311812038,
          7.494425345448231,
          7.024895400204053,
          5.330383143905665,
          6.319110310068464,
          9.059355829765982,
          6.212353191178856,
          7.737761258427088,
          6.638636567324777,
          8.823610099709375,
          7.968807800606045,
          5.3732168402776725,
          7.288008377109273,
          6.341307194700468,
          6.759283882237611,
          8.542495673500524,
          7.663155835378662,
          7.780905101384439,
          7.038931574045446,
          6.415604927975027,
          6.771638832726621,
          6.468155292706251,
          7.442544703797523,
          7.058331209544194,
          7.345368673821611,
          7.314664326160744,
          8.46892224807831,
          7.3551780774345215,
          9.304712310886174,
          6.846322433584967,
          6.283910955223277,
          8.882806462144394,
          7.821750041745208,
          8.061698926755934,
          7.170772263228454,
          5.243976160875675,
          7.659410644838649,
          7.2345263462933,
          7.624993638395386,
          7.898210974227716,
          7.898505822671334,
          8.558958204668453,
          5.048473196257769,
          8.681681693883416,
          6.479790448813451,
          7.97344568044296,
          9.520660512865064,
          8.075727821985774,
          7.028067039668288,
          7.32046110392608,
          8.581271226162091,
          7.923498711167854,
          7.534785450994356,
          7.457350994962933,
          8.049294552425401,
          6.784025318188236,
          7.230576917999805,
          6.845013649068065,
          8.007369032777303,
          8.022805763756319,
          6.9376430487769065,
          6.7501659581146525,
          6.816615163230672,
          8.066929401824906,
          7.675879931940061,
          7.509362129482298,
          6.368083589799053,
          7.560957561730021,
          8.663211849550342,
          7.517658152426705,
          7.245188871407413,
          8.45740396202261,
          7.436399485417111,
          7.961046925456374,
          8.639131051305442,
          6.448017165023711,
          7.620865211603952,
          7.323323457922461,
          9.00621753538632,
          6.922586567358188,
          5.912961954985186,
          5.3150805802537855,
          7.278524925423673,
          5.722251191646978,
          8.390408392941048,
          8.36040421212558,
          7.847507989409221,
          6.626096371461919,
          5.300188991754703,
          6.501185951944418,
          9.166771218553112,
          7.842935677961519,
          6.296055385212892,
          8.03207771283839,
          7.585452764961209,
          7.286724091710785,
          5.79661920512619,
          5.3864777839741445,
          5.166221813710684,
          6.835530085663857,
          7.709982205372866,
          6.79200118532582,
          7.767315615297509,
          8.950288617222819,
          6.853366542673649,
          7.657015222968589,
          7.047968720520652,
          5.695624322181735,
          6.9574457472388085,
          5.4793553371925405,
          6.910096791516061,
          8.541537588484683,
          8.938767754045259,
          9.634869592562833,
          8.925250042626768,
          6.219728757913763,
          6.597992082322127,
          8.079170280160492,
          8.213333639740366,
          8.721374445247111,
          6.45640170337919,
          6.27997164294724,
          7.365600886410272,
          7.830009410644049,
          7.244737636867788,
          9.444902658981391,
          6.853104385917962,
          6.016956584157446,
          6.046767363600081,
          7.459907841870199,
          5.268517711926878,
          5.907375623821088,
          6.977824691868543,
          6.22786346867945,
          7.748502411508747,
          9.313353636550405,
          6.675606862933238,
          8.139232486743925,
          7.908126340117887,
          6.45050813321186,
          7.840900751604802,
          6.469459918109485,
          6.366690457549683,
          7.805474090813498,
          8.489315969695081,
          6.095966066001813,
          6.3521827317529205,
          6.809012759901695,
          7.322804289093483,
          7.692103463710589,
          6.607177007420336,
          6.304774374717986,
          6.612438403022061,
          7.268949099435631,
          7.397293715895001,
          8.694790393204363,
          7.855735570834716,
          8.107381052975477,
          6.011906117851551,
          8.551188098071865,
          8.183565202504823,
          8.662782946781387,
          7.563509157661866,
          7.442810266780025,
          9.0639412575913,
          7.683738304711836,
          5.473132552688121,
          7.820508488126815,
          6.056684726439418,
          5.569619309158812,
          6.713072038110419,
          6.819005097228589,
          6.932722877739357,
          5.4866841185975055,
          9.071626098143842,
          6.320014564072727,
          9.002396942651341,
          6.838751437838786,
          5.91846235734383,
          6.62042137320948,
          8.107272930116894,
          9.509622733816068,
          6.486025343038083,
          9.426929952838057,
          8.198513545545044,
          7.46528071075837,
          8.560530659993729,
          8.597374060335431,
          7.667215819613144,
          7.619666869729507,
          8.544872285912227,
          8.81902883603053,
          5.859666662603438,
          8.05993380043245,
          8.668736861426503,
          8.65220857465519,
          9.275914984113228,
          9.568836839884613
         ],
         "yaxis": "y"
        }
       ],
       "layout": {
        "legend": {
         "tracegroupgap": 0
        },
        "template": {
         "data": {
          "bar": [
           {
            "error_x": {
             "color": "#2a3f5f"
            },
            "error_y": {
             "color": "#2a3f5f"
            },
            "marker": {
             "line": {
              "color": "#E5ECF6",
              "width": 0.5
             },
             "pattern": {
              "fillmode": "overlay",
              "size": 10,
              "solidity": 0.2
             }
            },
            "type": "bar"
           }
          ],
          "barpolar": [
           {
            "marker": {
             "line": {
              "color": "#E5ECF6",
              "width": 0.5
             },
             "pattern": {
              "fillmode": "overlay",
              "size": 10,
              "solidity": 0.2
             }
            },
            "type": "barpolar"
           }
          ],
          "carpet": [
           {
            "aaxis": {
             "endlinecolor": "#2a3f5f",
             "gridcolor": "white",
             "linecolor": "white",
             "minorgridcolor": "white",
             "startlinecolor": "#2a3f5f"
            },
            "baxis": {
             "endlinecolor": "#2a3f5f",
             "gridcolor": "white",
             "linecolor": "white",
             "minorgridcolor": "white",
             "startlinecolor": "#2a3f5f"
            },
            "type": "carpet"
           }
          ],
          "choropleth": [
           {
            "colorbar": {
             "outlinewidth": 0,
             "ticks": ""
            },
            "type": "choropleth"
           }
          ],
          "contour": [
           {
            "colorbar": {
             "outlinewidth": 0,
             "ticks": ""
            },
            "colorscale": [
             [
              0,
              "#0d0887"
             ],
             [
              0.1111111111111111,
              "#46039f"
             ],
             [
              0.2222222222222222,
              "#7201a8"
             ],
             [
              0.3333333333333333,
              "#9c179e"
             ],
             [
              0.4444444444444444,
              "#bd3786"
             ],
             [
              0.5555555555555556,
              "#d8576b"
             ],
             [
              0.6666666666666666,
              "#ed7953"
             ],
             [
              0.7777777777777778,
              "#fb9f3a"
             ],
             [
              0.8888888888888888,
              "#fdca26"
             ],
             [
              1,
              "#f0f921"
             ]
            ],
            "type": "contour"
           }
          ],
          "contourcarpet": [
           {
            "colorbar": {
             "outlinewidth": 0,
             "ticks": ""
            },
            "type": "contourcarpet"
           }
          ],
          "heatmap": [
           {
            "colorbar": {
             "outlinewidth": 0,
             "ticks": ""
            },
            "colorscale": [
             [
              0,
              "#0d0887"
             ],
             [
              0.1111111111111111,
              "#46039f"
             ],
             [
              0.2222222222222222,
              "#7201a8"
             ],
             [
              0.3333333333333333,
              "#9c179e"
             ],
             [
              0.4444444444444444,
              "#bd3786"
             ],
             [
              0.5555555555555556,
              "#d8576b"
             ],
             [
              0.6666666666666666,
              "#ed7953"
             ],
             [
              0.7777777777777778,
              "#fb9f3a"
             ],
             [
              0.8888888888888888,
              "#fdca26"
             ],
             [
              1,
              "#f0f921"
             ]
            ],
            "type": "heatmap"
           }
          ],
          "heatmapgl": [
           {
            "colorbar": {
             "outlinewidth": 0,
             "ticks": ""
            },
            "colorscale": [
             [
              0,
              "#0d0887"
             ],
             [
              0.1111111111111111,
              "#46039f"
             ],
             [
              0.2222222222222222,
              "#7201a8"
             ],
             [
              0.3333333333333333,
              "#9c179e"
             ],
             [
              0.4444444444444444,
              "#bd3786"
             ],
             [
              0.5555555555555556,
              "#d8576b"
             ],
             [
              0.6666666666666666,
              "#ed7953"
             ],
             [
              0.7777777777777778,
              "#fb9f3a"
             ],
             [
              0.8888888888888888,
              "#fdca26"
             ],
             [
              1,
              "#f0f921"
             ]
            ],
            "type": "heatmapgl"
           }
          ],
          "histogram": [
           {
            "marker": {
             "pattern": {
              "fillmode": "overlay",
              "size": 10,
              "solidity": 0.2
             }
            },
            "type": "histogram"
           }
          ],
          "histogram2d": [
           {
            "colorbar": {
             "outlinewidth": 0,
             "ticks": ""
            },
            "colorscale": [
             [
              0,
              "#0d0887"
             ],
             [
              0.1111111111111111,
              "#46039f"
             ],
             [
              0.2222222222222222,
              "#7201a8"
             ],
             [
              0.3333333333333333,
              "#9c179e"
             ],
             [
              0.4444444444444444,
              "#bd3786"
             ],
             [
              0.5555555555555556,
              "#d8576b"
             ],
             [
              0.6666666666666666,
              "#ed7953"
             ],
             [
              0.7777777777777778,
              "#fb9f3a"
             ],
             [
              0.8888888888888888,
              "#fdca26"
             ],
             [
              1,
              "#f0f921"
             ]
            ],
            "type": "histogram2d"
           }
          ],
          "histogram2dcontour": [
           {
            "colorbar": {
             "outlinewidth": 0,
             "ticks": ""
            },
            "colorscale": [
             [
              0,
              "#0d0887"
             ],
             [
              0.1111111111111111,
              "#46039f"
             ],
             [
              0.2222222222222222,
              "#7201a8"
             ],
             [
              0.3333333333333333,
              "#9c179e"
             ],
             [
              0.4444444444444444,
              "#bd3786"
             ],
             [
              0.5555555555555556,
              "#d8576b"
             ],
             [
              0.6666666666666666,
              "#ed7953"
             ],
             [
              0.7777777777777778,
              "#fb9f3a"
             ],
             [
              0.8888888888888888,
              "#fdca26"
             ],
             [
              1,
              "#f0f921"
             ]
            ],
            "type": "histogram2dcontour"
           }
          ],
          "mesh3d": [
           {
            "colorbar": {
             "outlinewidth": 0,
             "ticks": ""
            },
            "type": "mesh3d"
           }
          ],
          "parcoords": [
           {
            "line": {
             "colorbar": {
              "outlinewidth": 0,
              "ticks": ""
             }
            },
            "type": "parcoords"
           }
          ],
          "pie": [
           {
            "automargin": true,
            "type": "pie"
           }
          ],
          "scatter": [
           {
            "fillpattern": {
             "fillmode": "overlay",
             "size": 10,
             "solidity": 0.2
            },
            "type": "scatter"
           }
          ],
          "scatter3d": [
           {
            "line": {
             "colorbar": {
              "outlinewidth": 0,
              "ticks": ""
             }
            },
            "marker": {
             "colorbar": {
              "outlinewidth": 0,
              "ticks": ""
             }
            },
            "type": "scatter3d"
           }
          ],
          "scattercarpet": [
           {
            "marker": {
             "colorbar": {
              "outlinewidth": 0,
              "ticks": ""
             }
            },
            "type": "scattercarpet"
           }
          ],
          "scattergeo": [
           {
            "marker": {
             "colorbar": {
              "outlinewidth": 0,
              "ticks": ""
             }
            },
            "type": "scattergeo"
           }
          ],
          "scattergl": [
           {
            "marker": {
             "colorbar": {
              "outlinewidth": 0,
              "ticks": ""
             }
            },
            "type": "scattergl"
           }
          ],
          "scattermapbox": [
           {
            "marker": {
             "colorbar": {
              "outlinewidth": 0,
              "ticks": ""
             }
            },
            "type": "scattermapbox"
           }
          ],
          "scatterpolar": [
           {
            "marker": {
             "colorbar": {
              "outlinewidth": 0,
              "ticks": ""
             }
            },
            "type": "scatterpolar"
           }
          ],
          "scatterpolargl": [
           {
            "marker": {
             "colorbar": {
              "outlinewidth": 0,
              "ticks": ""
             }
            },
            "type": "scatterpolargl"
           }
          ],
          "scatterternary": [
           {
            "marker": {
             "colorbar": {
              "outlinewidth": 0,
              "ticks": ""
             }
            },
            "type": "scatterternary"
           }
          ],
          "surface": [
           {
            "colorbar": {
             "outlinewidth": 0,
             "ticks": ""
            },
            "colorscale": [
             [
              0,
              "#0d0887"
             ],
             [
              0.1111111111111111,
              "#46039f"
             ],
             [
              0.2222222222222222,
              "#7201a8"
             ],
             [
              0.3333333333333333,
              "#9c179e"
             ],
             [
              0.4444444444444444,
              "#bd3786"
             ],
             [
              0.5555555555555556,
              "#d8576b"
             ],
             [
              0.6666666666666666,
              "#ed7953"
             ],
             [
              0.7777777777777778,
              "#fb9f3a"
             ],
             [
              0.8888888888888888,
              "#fdca26"
             ],
             [
              1,
              "#f0f921"
             ]
            ],
            "type": "surface"
           }
          ],
          "table": [
           {
            "cells": {
             "fill": {
              "color": "#EBF0F8"
             },
             "line": {
              "color": "white"
             }
            },
            "header": {
             "fill": {
              "color": "#C8D4E3"
             },
             "line": {
              "color": "white"
             }
            },
            "type": "table"
           }
          ]
         },
         "layout": {
          "annotationdefaults": {
           "arrowcolor": "#2a3f5f",
           "arrowhead": 0,
           "arrowwidth": 1
          },
          "autotypenumbers": "strict",
          "coloraxis": {
           "colorbar": {
            "outlinewidth": 0,
            "ticks": ""
           }
          },
          "colorscale": {
           "diverging": [
            [
             0,
             "#8e0152"
            ],
            [
             0.1,
             "#c51b7d"
            ],
            [
             0.2,
             "#de77ae"
            ],
            [
             0.3,
             "#f1b6da"
            ],
            [
             0.4,
             "#fde0ef"
            ],
            [
             0.5,
             "#f7f7f7"
            ],
            [
             0.6,
             "#e6f5d0"
            ],
            [
             0.7,
             "#b8e186"
            ],
            [
             0.8,
             "#7fbc41"
            ],
            [
             0.9,
             "#4d9221"
            ],
            [
             1,
             "#276419"
            ]
           ],
           "sequential": [
            [
             0,
             "#0d0887"
            ],
            [
             0.1111111111111111,
             "#46039f"
            ],
            [
             0.2222222222222222,
             "#7201a8"
            ],
            [
             0.3333333333333333,
             "#9c179e"
            ],
            [
             0.4444444444444444,
             "#bd3786"
            ],
            [
             0.5555555555555556,
             "#d8576b"
            ],
            [
             0.6666666666666666,
             "#ed7953"
            ],
            [
             0.7777777777777778,
             "#fb9f3a"
            ],
            [
             0.8888888888888888,
             "#fdca26"
            ],
            [
             1,
             "#f0f921"
            ]
           ],
           "sequentialminus": [
            [
             0,
             "#0d0887"
            ],
            [
             0.1111111111111111,
             "#46039f"
            ],
            [
             0.2222222222222222,
             "#7201a8"
            ],
            [
             0.3333333333333333,
             "#9c179e"
            ],
            [
             0.4444444444444444,
             "#bd3786"
            ],
            [
             0.5555555555555556,
             "#d8576b"
            ],
            [
             0.6666666666666666,
             "#ed7953"
            ],
            [
             0.7777777777777778,
             "#fb9f3a"
            ],
            [
             0.8888888888888888,
             "#fdca26"
            ],
            [
             1,
             "#f0f921"
            ]
           ]
          },
          "colorway": [
           "#636efa",
           "#EF553B",
           "#00cc96",
           "#ab63fa",
           "#FFA15A",
           "#19d3f3",
           "#FF6692",
           "#B6E880",
           "#FF97FF",
           "#FECB52"
          ],
          "font": {
           "color": "#2a3f5f"
          },
          "geo": {
           "bgcolor": "white",
           "lakecolor": "white",
           "landcolor": "#E5ECF6",
           "showlakes": true,
           "showland": true,
           "subunitcolor": "white"
          },
          "hoverlabel": {
           "align": "left"
          },
          "hovermode": "closest",
          "mapbox": {
           "style": "light"
          },
          "paper_bgcolor": "white",
          "plot_bgcolor": "#E5ECF6",
          "polar": {
           "angularaxis": {
            "gridcolor": "white",
            "linecolor": "white",
            "ticks": ""
           },
           "bgcolor": "#E5ECF6",
           "radialaxis": {
            "gridcolor": "white",
            "linecolor": "white",
            "ticks": ""
           }
          },
          "scene": {
           "xaxis": {
            "backgroundcolor": "#E5ECF6",
            "gridcolor": "white",
            "gridwidth": 2,
            "linecolor": "white",
            "showbackground": true,
            "ticks": "",
            "zerolinecolor": "white"
           },
           "yaxis": {
            "backgroundcolor": "#E5ECF6",
            "gridcolor": "white",
            "gridwidth": 2,
            "linecolor": "white",
            "showbackground": true,
            "ticks": "",
            "zerolinecolor": "white"
           },
           "zaxis": {
            "backgroundcolor": "#E5ECF6",
            "gridcolor": "white",
            "gridwidth": 2,
            "linecolor": "white",
            "showbackground": true,
            "ticks": "",
            "zerolinecolor": "white"
           }
          },
          "shapedefaults": {
           "line": {
            "color": "#2a3f5f"
           }
          },
          "ternary": {
           "aaxis": {
            "gridcolor": "white",
            "linecolor": "white",
            "ticks": ""
           },
           "baxis": {
            "gridcolor": "white",
            "linecolor": "white",
            "ticks": ""
           },
           "bgcolor": "#E5ECF6",
           "caxis": {
            "gridcolor": "white",
            "linecolor": "white",
            "ticks": ""
           }
          },
          "title": {
           "x": 0.05
          },
          "xaxis": {
           "automargin": true,
           "gridcolor": "white",
           "linecolor": "white",
           "ticks": "",
           "title": {
            "standoff": 15
           },
           "zerolinecolor": "white",
           "zerolinewidth": 2
          },
          "yaxis": {
           "automargin": true,
           "gridcolor": "white",
           "linecolor": "white",
           "ticks": "",
           "title": {
            "standoff": 15
           },
           "zerolinecolor": "white",
           "zerolinewidth": 2
          }
         }
        },
        "title": {
         "text": "Relación entre Horas de estudio (diarias) y Nota Final"
        },
        "xaxis": {
         "anchor": "y",
         "domain": [
          0,
          1
         ],
         "title": {
          "text": "Horas de estudio (diarias)"
         }
        },
        "yaxis": {
         "anchor": "x",
         "domain": [
          0,
          1
         ],
         "title": {
          "text": "Nota Final"
         }
        }
       }
      }
     },
     "metadata": {},
     "output_type": "display_data"
    }
   ],
   "source": [
    "import IPython.display as ipd\n",
    "ipd.display(fig_scatter)"
   ]
  },
  {
   "cell_type": "code",
   "execution_count": 52,
   "metadata": {},
   "outputs": [],
   "source": [
    "    # Crear gráfico de dispersión\n",
    "fig_scatter = px.scatter(df, x='Asistencia (%)', y='Nota Final', title='Relación entre Asistencia y Nota Final',\n",
    "                        labels={'X': 'Asistencia(%)', 'Y': 'Nota Final'}, \n",
    "                        color_discrete_sequence=['blue'])\n"
   ]
  },
  {
   "cell_type": "code",
   "execution_count": 53,
   "metadata": {},
   "outputs": [
    {
     "data": {
      "application/vnd.plotly.v1+json": {
       "config": {
        "plotlyServerURL": "https://plot.ly"
       },
       "data": [
        {
         "hovertemplate": "Asistencia (%)=%{x}<br>Nota Final=%{y}<extra></extra>",
         "legendgroup": "",
         "marker": {
          "color": "blue",
          "symbol": "circle"
         },
         "mode": "markers",
         "name": "",
         "orientation": "v",
         "showlegend": false,
         "type": "scatter",
         "x": [
          68.72700594236812,
          97.5357153204958,
          86.59969709057026,
          79.93292420985183,
          57.80093202212183,
          57.79972601681013,
          52.90418060840997,
          93.30880728874676,
          80.05575058716045,
          85.40362888980228,
          51.029224714790125,
          98.49549260809972,
          91.62213204002109,
          60.61695553391381,
          59.09124836035503,
          59.17022549267169,
          65.21211214797688,
          76.2378215816119,
          71.5972509321058,
          64.5614570099021,
          80.59264473611897,
          56.97469303260209,
          64.6072324267609,
          68.31809216468459,
          72.8034992108518,
          89.25879806965068,
          59.98368910791799,
          75.71172192068059,
          79.62072844310212,
          52.32252063599989,
          80.37724259507192,
          58.526206184364575,
          53.25257964926398,
          97.44427686266668,
          98.28160165372796,
          90.41986740582306,
          65.23068845866854,
          54.8836057003192,
          84.21165132560785,
          72.00762468698007,
          56.10191174223894,
          74.75884550556351,
          51.71942605576092,
          95.4660201039391,
          62.93899908000085,
          83.1261142176991,
          65.58555380447055,
          76.00340105889055,
          77.33551396716399,
          59.24272277627635,
          98.47923138822792,
          88.75664116805572,
          96.97494707820944,
          94.74136752138244,
          79.89499894055426,
          96.09371175115584,
          54.424625102595975,
          59.79914312095726,
          52.2613644455269,
          66.26651653816322,
          69.4338644844741,
          63.5674515886948,
          91.43687545759649,
          67.83766633467947,
          64.04672548436903,
          77.13480415791243,
          57.04621124873813,
          90.109849037702,
          53.727532183988544,
          99.34434683002588,
          88.61223846483287,
          59.93578407670862,
          50.27610585618012,
          90.77307142274172,
          85.34286719238085,
          86.45035840204937,
          88.56351733429729,
          53.70223258670452,
          67.92328642721363,
          55.79345297625649,
          93.15517129377967,
          81.1649063413779,
          66.54490124263246,
          53.17791751430119,
          65.54911608578311,
          66.25916610133736,
          86.4803089169032,
          81.87787356776066,
          94.36063712881634,
          73.61074625809746,
          55.97971229691508,
          85.66223936114974,
          88.03925243084487,
          78.06385987847482,
          88.54835899772806,
          74.68977981821953,
          76.1366414690997,
          71.37705091792748,
          51.27095633720476,
          55.39457134966522,
          51.57145928433671,
          81.82052056318902,
          65.71779905381634,
          75.42853455823514,
          95.37832369630463,
          62.46461145744375,
          70.51914615178148,
          87.77755692715243,
          61.43990827458112,
          53.84899549143965,
          64.4875726456884,
          58.06106436270022,
          96.48488261712863,
          90.40601897822086,
          81.67018782552117,
          93.57302950938588,
          90.18360384495573,
          59.32850294430179,
          94.62794992449888,
          76.96711209578254,
          90.37200775820313,
          94.80456499617466,
          65.90017374859319,
          55.50259622638384,
          61.39675812709709,
          71.35538943131282,
          90.90073829612466,
          93.03652916281716,
          50.34760652655954,
          75.53736512887829,
          70.87055015743894,
          61.105390523536514,
          55.99326836668414,
          66.8807585701814,
          97.14548519562597,
          66.16014660103777,
          75.9395310871683,
          85.15094794475888,
          68.1814801189647,
          98.58910413604804,
          98.12236474710556,
          62.58911479126821,
          74.86242529461927,
          65.04391549083849,
          64.24202471887338,
          51.84434736772664,
          80.47821669899484,
          75.13395116144308,
          52.57393756249947,
          63.93232321183057,
          95.41329429833269,
          61.978094533348624,
          57.24474360456115,
          74.47263801387815,
          99.28252270553004,
          62.10276357557502,
          83.60677737029393,
          88.08098076643589,
          61.88187719961999,
          86.41081743059297,
          68.38915663596266,
          81.61529152967897,
          81.67648553804473,
          76.78873420373793,
          54.51448850272041,
          91.7651247794619,
          66.0390032485868,
          59.32592551999271,
          52.0387570777382,
          79.5446471594121,
          83.87821809211411,
          50.829391446392805,
          75.60465291496405,
          61.3247887598969,
          82.25863952047249,
          58.718321450249576,
          84.5468869051233,
          69.33676731502686,
          96.83649943683672,
          56.87604720729966,
          67.05331755251292,
          55.67367606202946,
          96.23468091392814,
          93.86696766904905,
          62.89708138575778,
          82.99920230170895,
          90.8611100100608,
          77.76004057997312,
          76.48252891780032,
          62.092614545022585,
          54.65513839029496,
          94.86078789766634,
          95.02090285816652,
          81.65507286366339,
          66.95148955243504,
          67.46047873063304,
          86.29778394351197,
          94.85551299762886,
          94.35432121325589,
          88.99377729288119
         ],
         "xaxis": "x",
         "y": [
          7.533143530003301,
          7.069708542809931,
          6.287245311812038,
          7.494425345448231,
          7.024895400204053,
          5.330383143905665,
          6.319110310068464,
          9.059355829765982,
          6.212353191178856,
          7.737761258427088,
          6.638636567324777,
          8.823610099709375,
          7.968807800606045,
          5.3732168402776725,
          7.288008377109273,
          6.341307194700468,
          6.759283882237611,
          8.542495673500524,
          7.663155835378662,
          7.780905101384439,
          7.038931574045446,
          6.415604927975027,
          6.771638832726621,
          6.468155292706251,
          7.442544703797523,
          7.058331209544194,
          7.345368673821611,
          7.314664326160744,
          8.46892224807831,
          7.3551780774345215,
          9.304712310886174,
          6.846322433584967,
          6.283910955223277,
          8.882806462144394,
          7.821750041745208,
          8.061698926755934,
          7.170772263228454,
          5.243976160875675,
          7.659410644838649,
          7.2345263462933,
          7.624993638395386,
          7.898210974227716,
          7.898505822671334,
          8.558958204668453,
          5.048473196257769,
          8.681681693883416,
          6.479790448813451,
          7.97344568044296,
          9.520660512865064,
          8.075727821985774,
          7.028067039668288,
          7.32046110392608,
          8.581271226162091,
          7.923498711167854,
          7.534785450994356,
          7.457350994962933,
          8.049294552425401,
          6.784025318188236,
          7.230576917999805,
          6.845013649068065,
          8.007369032777303,
          8.022805763756319,
          6.9376430487769065,
          6.7501659581146525,
          6.816615163230672,
          8.066929401824906,
          7.675879931940061,
          7.509362129482298,
          6.368083589799053,
          7.560957561730021,
          8.663211849550342,
          7.517658152426705,
          7.245188871407413,
          8.45740396202261,
          7.436399485417111,
          7.961046925456374,
          8.639131051305442,
          6.448017165023711,
          7.620865211603952,
          7.323323457922461,
          9.00621753538632,
          6.922586567358188,
          5.912961954985186,
          5.3150805802537855,
          7.278524925423673,
          5.722251191646978,
          8.390408392941048,
          8.36040421212558,
          7.847507989409221,
          6.626096371461919,
          5.300188991754703,
          6.501185951944418,
          9.166771218553112,
          7.842935677961519,
          6.296055385212892,
          8.03207771283839,
          7.585452764961209,
          7.286724091710785,
          5.79661920512619,
          5.3864777839741445,
          5.166221813710684,
          6.835530085663857,
          7.709982205372866,
          6.79200118532582,
          7.767315615297509,
          8.950288617222819,
          6.853366542673649,
          7.657015222968589,
          7.047968720520652,
          5.695624322181735,
          6.9574457472388085,
          5.4793553371925405,
          6.910096791516061,
          8.541537588484683,
          8.938767754045259,
          9.634869592562833,
          8.925250042626768,
          6.219728757913763,
          6.597992082322127,
          8.079170280160492,
          8.213333639740366,
          8.721374445247111,
          6.45640170337919,
          6.27997164294724,
          7.365600886410272,
          7.830009410644049,
          7.244737636867788,
          9.444902658981391,
          6.853104385917962,
          6.016956584157446,
          6.046767363600081,
          7.459907841870199,
          5.268517711926878,
          5.907375623821088,
          6.977824691868543,
          6.22786346867945,
          7.748502411508747,
          9.313353636550405,
          6.675606862933238,
          8.139232486743925,
          7.908126340117887,
          6.45050813321186,
          7.840900751604802,
          6.469459918109485,
          6.366690457549683,
          7.805474090813498,
          8.489315969695081,
          6.095966066001813,
          6.3521827317529205,
          6.809012759901695,
          7.322804289093483,
          7.692103463710589,
          6.607177007420336,
          6.304774374717986,
          6.612438403022061,
          7.268949099435631,
          7.397293715895001,
          8.694790393204363,
          7.855735570834716,
          8.107381052975477,
          6.011906117851551,
          8.551188098071865,
          8.183565202504823,
          8.662782946781387,
          7.563509157661866,
          7.442810266780025,
          9.0639412575913,
          7.683738304711836,
          5.473132552688121,
          7.820508488126815,
          6.056684726439418,
          5.569619309158812,
          6.713072038110419,
          6.819005097228589,
          6.932722877739357,
          5.4866841185975055,
          9.071626098143842,
          6.320014564072727,
          9.002396942651341,
          6.838751437838786,
          5.91846235734383,
          6.62042137320948,
          8.107272930116894,
          9.509622733816068,
          6.486025343038083,
          9.426929952838057,
          8.198513545545044,
          7.46528071075837,
          8.560530659993729,
          8.597374060335431,
          7.667215819613144,
          7.619666869729507,
          8.544872285912227,
          8.81902883603053,
          5.859666662603438,
          8.05993380043245,
          8.668736861426503,
          8.65220857465519,
          9.275914984113228,
          9.568836839884613
         ],
         "yaxis": "y"
        }
       ],
       "layout": {
        "legend": {
         "tracegroupgap": 0
        },
        "template": {
         "data": {
          "bar": [
           {
            "error_x": {
             "color": "#2a3f5f"
            },
            "error_y": {
             "color": "#2a3f5f"
            },
            "marker": {
             "line": {
              "color": "#E5ECF6",
              "width": 0.5
             },
             "pattern": {
              "fillmode": "overlay",
              "size": 10,
              "solidity": 0.2
             }
            },
            "type": "bar"
           }
          ],
          "barpolar": [
           {
            "marker": {
             "line": {
              "color": "#E5ECF6",
              "width": 0.5
             },
             "pattern": {
              "fillmode": "overlay",
              "size": 10,
              "solidity": 0.2
             }
            },
            "type": "barpolar"
           }
          ],
          "carpet": [
           {
            "aaxis": {
             "endlinecolor": "#2a3f5f",
             "gridcolor": "white",
             "linecolor": "white",
             "minorgridcolor": "white",
             "startlinecolor": "#2a3f5f"
            },
            "baxis": {
             "endlinecolor": "#2a3f5f",
             "gridcolor": "white",
             "linecolor": "white",
             "minorgridcolor": "white",
             "startlinecolor": "#2a3f5f"
            },
            "type": "carpet"
           }
          ],
          "choropleth": [
           {
            "colorbar": {
             "outlinewidth": 0,
             "ticks": ""
            },
            "type": "choropleth"
           }
          ],
          "contour": [
           {
            "colorbar": {
             "outlinewidth": 0,
             "ticks": ""
            },
            "colorscale": [
             [
              0,
              "#0d0887"
             ],
             [
              0.1111111111111111,
              "#46039f"
             ],
             [
              0.2222222222222222,
              "#7201a8"
             ],
             [
              0.3333333333333333,
              "#9c179e"
             ],
             [
              0.4444444444444444,
              "#bd3786"
             ],
             [
              0.5555555555555556,
              "#d8576b"
             ],
             [
              0.6666666666666666,
              "#ed7953"
             ],
             [
              0.7777777777777778,
              "#fb9f3a"
             ],
             [
              0.8888888888888888,
              "#fdca26"
             ],
             [
              1,
              "#f0f921"
             ]
            ],
            "type": "contour"
           }
          ],
          "contourcarpet": [
           {
            "colorbar": {
             "outlinewidth": 0,
             "ticks": ""
            },
            "type": "contourcarpet"
           }
          ],
          "heatmap": [
           {
            "colorbar": {
             "outlinewidth": 0,
             "ticks": ""
            },
            "colorscale": [
             [
              0,
              "#0d0887"
             ],
             [
              0.1111111111111111,
              "#46039f"
             ],
             [
              0.2222222222222222,
              "#7201a8"
             ],
             [
              0.3333333333333333,
              "#9c179e"
             ],
             [
              0.4444444444444444,
              "#bd3786"
             ],
             [
              0.5555555555555556,
              "#d8576b"
             ],
             [
              0.6666666666666666,
              "#ed7953"
             ],
             [
              0.7777777777777778,
              "#fb9f3a"
             ],
             [
              0.8888888888888888,
              "#fdca26"
             ],
             [
              1,
              "#f0f921"
             ]
            ],
            "type": "heatmap"
           }
          ],
          "heatmapgl": [
           {
            "colorbar": {
             "outlinewidth": 0,
             "ticks": ""
            },
            "colorscale": [
             [
              0,
              "#0d0887"
             ],
             [
              0.1111111111111111,
              "#46039f"
             ],
             [
              0.2222222222222222,
              "#7201a8"
             ],
             [
              0.3333333333333333,
              "#9c179e"
             ],
             [
              0.4444444444444444,
              "#bd3786"
             ],
             [
              0.5555555555555556,
              "#d8576b"
             ],
             [
              0.6666666666666666,
              "#ed7953"
             ],
             [
              0.7777777777777778,
              "#fb9f3a"
             ],
             [
              0.8888888888888888,
              "#fdca26"
             ],
             [
              1,
              "#f0f921"
             ]
            ],
            "type": "heatmapgl"
           }
          ],
          "histogram": [
           {
            "marker": {
             "pattern": {
              "fillmode": "overlay",
              "size": 10,
              "solidity": 0.2
             }
            },
            "type": "histogram"
           }
          ],
          "histogram2d": [
           {
            "colorbar": {
             "outlinewidth": 0,
             "ticks": ""
            },
            "colorscale": [
             [
              0,
              "#0d0887"
             ],
             [
              0.1111111111111111,
              "#46039f"
             ],
             [
              0.2222222222222222,
              "#7201a8"
             ],
             [
              0.3333333333333333,
              "#9c179e"
             ],
             [
              0.4444444444444444,
              "#bd3786"
             ],
             [
              0.5555555555555556,
              "#d8576b"
             ],
             [
              0.6666666666666666,
              "#ed7953"
             ],
             [
              0.7777777777777778,
              "#fb9f3a"
             ],
             [
              0.8888888888888888,
              "#fdca26"
             ],
             [
              1,
              "#f0f921"
             ]
            ],
            "type": "histogram2d"
           }
          ],
          "histogram2dcontour": [
           {
            "colorbar": {
             "outlinewidth": 0,
             "ticks": ""
            },
            "colorscale": [
             [
              0,
              "#0d0887"
             ],
             [
              0.1111111111111111,
              "#46039f"
             ],
             [
              0.2222222222222222,
              "#7201a8"
             ],
             [
              0.3333333333333333,
              "#9c179e"
             ],
             [
              0.4444444444444444,
              "#bd3786"
             ],
             [
              0.5555555555555556,
              "#d8576b"
             ],
             [
              0.6666666666666666,
              "#ed7953"
             ],
             [
              0.7777777777777778,
              "#fb9f3a"
             ],
             [
              0.8888888888888888,
              "#fdca26"
             ],
             [
              1,
              "#f0f921"
             ]
            ],
            "type": "histogram2dcontour"
           }
          ],
          "mesh3d": [
           {
            "colorbar": {
             "outlinewidth": 0,
             "ticks": ""
            },
            "type": "mesh3d"
           }
          ],
          "parcoords": [
           {
            "line": {
             "colorbar": {
              "outlinewidth": 0,
              "ticks": ""
             }
            },
            "type": "parcoords"
           }
          ],
          "pie": [
           {
            "automargin": true,
            "type": "pie"
           }
          ],
          "scatter": [
           {
            "fillpattern": {
             "fillmode": "overlay",
             "size": 10,
             "solidity": 0.2
            },
            "type": "scatter"
           }
          ],
          "scatter3d": [
           {
            "line": {
             "colorbar": {
              "outlinewidth": 0,
              "ticks": ""
             }
            },
            "marker": {
             "colorbar": {
              "outlinewidth": 0,
              "ticks": ""
             }
            },
            "type": "scatter3d"
           }
          ],
          "scattercarpet": [
           {
            "marker": {
             "colorbar": {
              "outlinewidth": 0,
              "ticks": ""
             }
            },
            "type": "scattercarpet"
           }
          ],
          "scattergeo": [
           {
            "marker": {
             "colorbar": {
              "outlinewidth": 0,
              "ticks": ""
             }
            },
            "type": "scattergeo"
           }
          ],
          "scattergl": [
           {
            "marker": {
             "colorbar": {
              "outlinewidth": 0,
              "ticks": ""
             }
            },
            "type": "scattergl"
           }
          ],
          "scattermapbox": [
           {
            "marker": {
             "colorbar": {
              "outlinewidth": 0,
              "ticks": ""
             }
            },
            "type": "scattermapbox"
           }
          ],
          "scatterpolar": [
           {
            "marker": {
             "colorbar": {
              "outlinewidth": 0,
              "ticks": ""
             }
            },
            "type": "scatterpolar"
           }
          ],
          "scatterpolargl": [
           {
            "marker": {
             "colorbar": {
              "outlinewidth": 0,
              "ticks": ""
             }
            },
            "type": "scatterpolargl"
           }
          ],
          "scatterternary": [
           {
            "marker": {
             "colorbar": {
              "outlinewidth": 0,
              "ticks": ""
             }
            },
            "type": "scatterternary"
           }
          ],
          "surface": [
           {
            "colorbar": {
             "outlinewidth": 0,
             "ticks": ""
            },
            "colorscale": [
             [
              0,
              "#0d0887"
             ],
             [
              0.1111111111111111,
              "#46039f"
             ],
             [
              0.2222222222222222,
              "#7201a8"
             ],
             [
              0.3333333333333333,
              "#9c179e"
             ],
             [
              0.4444444444444444,
              "#bd3786"
             ],
             [
              0.5555555555555556,
              "#d8576b"
             ],
             [
              0.6666666666666666,
              "#ed7953"
             ],
             [
              0.7777777777777778,
              "#fb9f3a"
             ],
             [
              0.8888888888888888,
              "#fdca26"
             ],
             [
              1,
              "#f0f921"
             ]
            ],
            "type": "surface"
           }
          ],
          "table": [
           {
            "cells": {
             "fill": {
              "color": "#EBF0F8"
             },
             "line": {
              "color": "white"
             }
            },
            "header": {
             "fill": {
              "color": "#C8D4E3"
             },
             "line": {
              "color": "white"
             }
            },
            "type": "table"
           }
          ]
         },
         "layout": {
          "annotationdefaults": {
           "arrowcolor": "#2a3f5f",
           "arrowhead": 0,
           "arrowwidth": 1
          },
          "autotypenumbers": "strict",
          "coloraxis": {
           "colorbar": {
            "outlinewidth": 0,
            "ticks": ""
           }
          },
          "colorscale": {
           "diverging": [
            [
             0,
             "#8e0152"
            ],
            [
             0.1,
             "#c51b7d"
            ],
            [
             0.2,
             "#de77ae"
            ],
            [
             0.3,
             "#f1b6da"
            ],
            [
             0.4,
             "#fde0ef"
            ],
            [
             0.5,
             "#f7f7f7"
            ],
            [
             0.6,
             "#e6f5d0"
            ],
            [
             0.7,
             "#b8e186"
            ],
            [
             0.8,
             "#7fbc41"
            ],
            [
             0.9,
             "#4d9221"
            ],
            [
             1,
             "#276419"
            ]
           ],
           "sequential": [
            [
             0,
             "#0d0887"
            ],
            [
             0.1111111111111111,
             "#46039f"
            ],
            [
             0.2222222222222222,
             "#7201a8"
            ],
            [
             0.3333333333333333,
             "#9c179e"
            ],
            [
             0.4444444444444444,
             "#bd3786"
            ],
            [
             0.5555555555555556,
             "#d8576b"
            ],
            [
             0.6666666666666666,
             "#ed7953"
            ],
            [
             0.7777777777777778,
             "#fb9f3a"
            ],
            [
             0.8888888888888888,
             "#fdca26"
            ],
            [
             1,
             "#f0f921"
            ]
           ],
           "sequentialminus": [
            [
             0,
             "#0d0887"
            ],
            [
             0.1111111111111111,
             "#46039f"
            ],
            [
             0.2222222222222222,
             "#7201a8"
            ],
            [
             0.3333333333333333,
             "#9c179e"
            ],
            [
             0.4444444444444444,
             "#bd3786"
            ],
            [
             0.5555555555555556,
             "#d8576b"
            ],
            [
             0.6666666666666666,
             "#ed7953"
            ],
            [
             0.7777777777777778,
             "#fb9f3a"
            ],
            [
             0.8888888888888888,
             "#fdca26"
            ],
            [
             1,
             "#f0f921"
            ]
           ]
          },
          "colorway": [
           "#636efa",
           "#EF553B",
           "#00cc96",
           "#ab63fa",
           "#FFA15A",
           "#19d3f3",
           "#FF6692",
           "#B6E880",
           "#FF97FF",
           "#FECB52"
          ],
          "font": {
           "color": "#2a3f5f"
          },
          "geo": {
           "bgcolor": "white",
           "lakecolor": "white",
           "landcolor": "#E5ECF6",
           "showlakes": true,
           "showland": true,
           "subunitcolor": "white"
          },
          "hoverlabel": {
           "align": "left"
          },
          "hovermode": "closest",
          "mapbox": {
           "style": "light"
          },
          "paper_bgcolor": "white",
          "plot_bgcolor": "#E5ECF6",
          "polar": {
           "angularaxis": {
            "gridcolor": "white",
            "linecolor": "white",
            "ticks": ""
           },
           "bgcolor": "#E5ECF6",
           "radialaxis": {
            "gridcolor": "white",
            "linecolor": "white",
            "ticks": ""
           }
          },
          "scene": {
           "xaxis": {
            "backgroundcolor": "#E5ECF6",
            "gridcolor": "white",
            "gridwidth": 2,
            "linecolor": "white",
            "showbackground": true,
            "ticks": "",
            "zerolinecolor": "white"
           },
           "yaxis": {
            "backgroundcolor": "#E5ECF6",
            "gridcolor": "white",
            "gridwidth": 2,
            "linecolor": "white",
            "showbackground": true,
            "ticks": "",
            "zerolinecolor": "white"
           },
           "zaxis": {
            "backgroundcolor": "#E5ECF6",
            "gridcolor": "white",
            "gridwidth": 2,
            "linecolor": "white",
            "showbackground": true,
            "ticks": "",
            "zerolinecolor": "white"
           }
          },
          "shapedefaults": {
           "line": {
            "color": "#2a3f5f"
           }
          },
          "ternary": {
           "aaxis": {
            "gridcolor": "white",
            "linecolor": "white",
            "ticks": ""
           },
           "baxis": {
            "gridcolor": "white",
            "linecolor": "white",
            "ticks": ""
           },
           "bgcolor": "#E5ECF6",
           "caxis": {
            "gridcolor": "white",
            "linecolor": "white",
            "ticks": ""
           }
          },
          "title": {
           "x": 0.05
          },
          "xaxis": {
           "automargin": true,
           "gridcolor": "white",
           "linecolor": "white",
           "ticks": "",
           "title": {
            "standoff": 15
           },
           "zerolinecolor": "white",
           "zerolinewidth": 2
          },
          "yaxis": {
           "automargin": true,
           "gridcolor": "white",
           "linecolor": "white",
           "ticks": "",
           "title": {
            "standoff": 15
           },
           "zerolinecolor": "white",
           "zerolinewidth": 2
          }
         }
        },
        "title": {
         "text": "Relación entre Asistencia y Nota Final"
        },
        "xaxis": {
         "anchor": "y",
         "domain": [
          0,
          1
         ],
         "title": {
          "text": "Asistencia (%)"
         }
        },
        "yaxis": {
         "anchor": "x",
         "domain": [
          0,
          1
         ],
         "title": {
          "text": "Nota Final"
         }
        }
       }
      }
     },
     "metadata": {},
     "output_type": "display_data"
    }
   ],
   "source": [
    "import IPython.display as ipd\n",
    "ipd.display(fig_scatter)"
   ]
  },
  {
   "cell_type": "markdown",
   "metadata": {},
   "source": [
    "6. **Model Comparison:**  \n",
    "   - Which of the two simple regressions is a better predictor of **Final Grade**? Justify your answer in terms of R² and the coefficients obtained.  \n",
    "\n"
   ]
  },
  {
   "cell_type": "markdown",
   "metadata": {},
   "source": [
    "The best prediction model is the one that has study hours as an independent variable. The coefficients of both variables are positive, which means that the more study hours, the higher the final grade will be, statistically speaking. The R2 value is 0.38, which is greater than the R2 value of the other model (which is 0.3). The value of 0.38 tells us that 38% of the final grade is due to study hours, which is greater than 30%. In conclusion, although the coefficients of the other model are also positive, the R2 is lower, so the study hours model predicts better."
   ]
  },
  {
   "cell_type": "markdown",
   "metadata": {},
   "source": [
    "7. **Two-Way ANOVA (Main Effects):**  \n",
    "   - Perform a **two-way ANOVA** to analyze the impact of **Course Difficulty** and **Student Interest** on the **Final Grade**.  \n",
    "   - Report the F-values and p-values for each factor.  \n",
    "\n"
   ]
  },
  {
   "cell_type": "code",
   "execution_count": 60,
   "metadata": {},
   "outputs": [],
   "source": [
    "import statsmodels.formula.api as smf\n",
    "import statsmodels.api as sm\n",
    "import scipy.stats as stats\n",
    "import seaborn as sns\n",
    "import matplotlib.pyplot as plt"
   ]
  },
  {
   "cell_type": "code",
   "execution_count": 66,
   "metadata": {},
   "outputs": [
    {
     "ename": "SyntaxError",
     "evalue": "invalid syntax (<unknown>, line 1)",
     "output_type": "error",
     "traceback": [
      "Traceback \u001b[1;36m(most recent call last)\u001b[0m:\n",
      "\u001b[0m  File \u001b[0;32mc:\\Users\\Hugo\\anaconda3\\Lib\\site-packages\\IPython\\core\\interactiveshell.py:3505\u001b[0m in \u001b[0;35mrun_code\u001b[0m\n    exec(code_obj, self.user_global_ns, self.user_ns)\u001b[0m\n",
      "\u001b[0m  Cell \u001b[0;32mIn[66], line 2\u001b[0m\n    modelo = smf.ols('Nota Final ~ C(Dificultad Materia) * C(Interés Alumno)', data=df).fit()\u001b[0m\n",
      "\u001b[0m  File \u001b[0;32mc:\\Users\\Hugo\\anaconda3\\Lib\\site-packages\\statsmodels\\base\\model.py:203\u001b[0m in \u001b[0;35mfrom_formula\u001b[0m\n    tmp = handle_formula_data(data, None, formula, depth=eval_env,\u001b[0m\n",
      "\u001b[0m  File \u001b[0;32mc:\\Users\\Hugo\\anaconda3\\Lib\\site-packages\\statsmodels\\formula\\formulatools.py:63\u001b[0m in \u001b[0;35mhandle_formula_data\u001b[0m\n    result = dmatrices(formula, Y, depth, return_type='dataframe',\u001b[0m\n",
      "\u001b[0m  File \u001b[0;32mc:\\Users\\Hugo\\anaconda3\\Lib\\site-packages\\patsy\\highlevel.py:309\u001b[0m in \u001b[0;35mdmatrices\u001b[0m\n    (lhs, rhs) = _do_highlevel_design(formula_like, data, eval_env,\u001b[0m\n",
      "\u001b[0m  File \u001b[0;32mc:\\Users\\Hugo\\anaconda3\\Lib\\site-packages\\patsy\\highlevel.py:164\u001b[0m in \u001b[0;35m_do_highlevel_design\u001b[0m\n    design_infos = _try_incr_builders(formula_like, data_iter_maker, eval_env,\u001b[0m\n",
      "\u001b[0m  File \u001b[0;32mc:\\Users\\Hugo\\anaconda3\\Lib\\site-packages\\patsy\\highlevel.py:66\u001b[0m in \u001b[0;35m_try_incr_builders\u001b[0m\n    return design_matrix_builders([formula_like.lhs_termlist,\u001b[0m\n",
      "\u001b[0m  File \u001b[0;32mc:\\Users\\Hugo\\anaconda3\\Lib\\site-packages\\patsy\\build.py:689\u001b[0m in \u001b[0;35mdesign_matrix_builders\u001b[0m\n    factor_states = _factors_memorize(all_factors, data_iter_maker, eval_env)\u001b[0m\n",
      "\u001b[0m  File \u001b[0;32mc:\\Users\\Hugo\\anaconda3\\Lib\\site-packages\\patsy\\build.py:354\u001b[0m in \u001b[0;35m_factors_memorize\u001b[0m\n    which_pass = factor.memorize_passes_needed(state, eval_env)\u001b[0m\n",
      "\u001b[0m  File \u001b[0;32mc:\\Users\\Hugo\\anaconda3\\Lib\\site-packages\\patsy\\eval.py:478\u001b[0m in \u001b[0;35mmemorize_passes_needed\u001b[0m\n    subset_names = [name for name in ast_names(self.code)\u001b[0m\n",
      "\u001b[0m  File \u001b[0;32mc:\\Users\\Hugo\\anaconda3\\Lib\\site-packages\\patsy\\eval.py:478\u001b[0m in \u001b[0;35m<listcomp>\u001b[0m\n    subset_names = [name for name in ast_names(self.code)\u001b[0m\n",
      "\u001b[0m  File \u001b[0;32mc:\\Users\\Hugo\\anaconda3\\Lib\\site-packages\\patsy\\eval.py:109\u001b[0m in \u001b[0;35mast_names\u001b[0m\n    for node in ast.walk(ast.parse(code)):\u001b[0m\n",
      "\u001b[1;36m  File \u001b[1;32mc:\\Users\\Hugo\\anaconda3\\Lib\\ast.py:50\u001b[1;36m in \u001b[1;35mparse\u001b[1;36m\n\u001b[1;33m    return compile(source, filename, mode, flags,\u001b[1;36m\n",
      "\u001b[1;36m  File \u001b[1;32m<unknown>:1\u001b[1;36m\u001b[0m\n\u001b[1;33m    Nota Final\u001b[0m\n\u001b[1;37m         ^\u001b[0m\n\u001b[1;31mSyntaxError\u001b[0m\u001b[1;31m:\u001b[0m invalid syntax\n"
     ]
    }
   ],
   "source": [
    "# Realizar Two-Way ANOVA\n",
    "modelo = smf.ols('Nota Final ~ C(Dificultad Materia) * C(Interés Alumno)', data=df).fit()\n",
    "anova_resultados = sm.stats.anova_lm(modelo, typ=2)"
   ]
  },
  {
   "cell_type": "code",
   "execution_count": null,
   "metadata": {},
   "outputs": [],
   "source": [
    "print(anova_resultados)"
   ]
  },
  {
   "cell_type": "markdown",
   "metadata": {},
   "source": [
    "When running this, it would return a table with the sum of squares, the df, the F value and the p value (for C (Subject Difficulty), C (Student Interest) and C (Subject Difficulty): C (Student Interest)), I don't understand why it doesn't work for me, I hope you don't penalize me too much because I'm sure the error is silly and I can't find it. In the following exercise I explain how I would interpret the results so you can see that I know how to do it."
   ]
  },
  {
   "cell_type": "markdown",
   "metadata": {},
   "source": [
    "8. **Interaction in ANOVA:**  \n",
    "   - Evaluate whether there is a significant interaction between **Course Difficulty** and **Student Interest** on the **Final Grade**.  \n",
    "   - Explain the results and whether they affect the interpretation of the model.  \n",
    "\n"
   ]
  },
  {
   "cell_type": "markdown",
   "metadata": {},
   "source": [
    "I haven't been able to find the error. The code is exactly as I had it in another exercise, but it seems it doesn't recognize my Final Grade. Anyway, I'll explain how I would interpret the results.\n",
    "\n",
    "If p < 0.05 for Subject Difficulty → The difficulty significantly affects the final grade. So, we can say that the difficulty of the subject is significant for the final grade. If p > 0.05, it is not.\n",
    "\n",
    "If p < 0.05 for Student Interest → The interest significantly affects the final grade. So, we can say that the interest is significant for the grade. If p > 0.05, it is not.\n",
    "\n",
    "If p < 0.05 in Subject Difficulty: Student Interest → There is a significant interaction between Subject Difficulty and Student Interest (the effect of Subject Difficulty changes depending on the Student Interest). If p > 0.05, there is no significant interaction between Subject Difficulty and Diet. That is to say, changes in the final grade may depend on the difficulty of the subject and the student's interest, but they do not mutually influence each other."
   ]
  },
  {
   "cell_type": "markdown",
   "metadata": {},
   "source": [
    "9. **ANOVA Results Visualization:**  \n",
    "   - Use **Plotly** to create a **boxplot** comparing the distribution of **Final Grade** by **Course Difficulty** and **Student Interest**.  \n",
    "\n"
   ]
  },
  {
   "cell_type": "code",
   "execution_count": 70,
   "metadata": {},
   "outputs": [],
   "source": [
    "import statsmodels.api as sm\n",
    "from statsmodels.graphics.factorplots import interaction_plot"
   ]
  },
  {
   "cell_type": "code",
   "execution_count": 79,
   "metadata": {},
   "outputs": [
    {
     "data": {
      "image/png": "[encoded data removed]",
      "text/plain": [
       "<Figure size 1000x500 with 1 Axes>"
      ]
     },
     "metadata": {},
     "output_type": "display_data"
    }
   ],
   "source": [
    "# Configurar estilo de gráficos\n",
    "sns.set_style(\"whitegrid\")\n",
    "\n",
    "# Boxplot para Interes Alumno\n",
    "plt.figure(figsize=(10, 5))\n",
    "sns.boxplot(x='Interés Alumno', y='Nota Final', data=df, palette=\"Set2\")\n",
    "plt.title(\"Distribución de Nota Final por Interes Alumno\")\n",
    "plt.xlabel(\"Interes Alumno\")\n",
    "plt.ylabel(\"Nota Final\")\n",
    "plt.show()"
   ]
  },
  {
   "cell_type": "code",
   "execution_count": 74,
   "metadata": {},
   "outputs": [
    {
     "data": {
      "image/png": "[encoded data removed]",
      "text/plain": [
       "<Figure size 1000x500 with 1 Axes>"
      ]
     },
     "metadata": {},
     "output_type": "display_data"
    }
   ],
   "source": [
    "# Configurar estilo de gráficos\n",
    "sns.set_style(\"whitegrid\")\n",
    "\n",
    "# Boxplot para Interes Alumno\n",
    "plt.figure(figsize=(10, 5))\n",
    "sns.boxplot(x='Dificultad Materia', y='Nota Final', data=df, palette=\"Set2\")\n",
    "plt.title(\"Distribución de Nota Final por 'Dificultad Materia\")\n",
    "plt.xlabel(\"'Dificultad Materia\")\n",
    "plt.ylabel(\"Nota Final\")\n",
    "plt.show()"
   ]
  },
  {
   "cell_type": "markdown",
   "metadata": {},
   "source": [
    "10. **General Conclusions:**  \n",
    "    - What factors have the most impact on the **Final Grade**? Based on the linear regression and ANOVA, explain which variables seem to be the most influential and how these models could be used to improve student performance.  "
   ]
  },
  {
   "cell_type": "markdown",
   "metadata": {},
   "source": [
    "This would be done by looking at the p value of each one; if p < 0.05 it would have a lot of impact. Finally, in the two boxplots we can see that moderate and high interest get good grades, so it does have quite a bit of impact, and the low difficulty of the subject also gets good grades, so we can say that it is also significant. If the p value of C (Subject Difficulty): C (Student Interest) had given us < 0.05, we could say that both are significant and enhance each other.\n",
    "\n",
    "In the scatter plot I think the best prediction model is the one that has study hours as an independent variable. The coefficients of both variables are positive, which means that the more study hours, the higher the final grade will be, statistically speaking. The R2 value is 0.38, which is greater than the R2 value of the other model (which is 0.3). The value of 0.38 tells us that 38% of the final grade is due to study hours, which is greater than 30%. In conclusion, although the coefficients of the other model are also positive, the R2 is lower, so the study hours model predicts better."
   ]
  },
  {
   "cell_type": "markdown",
   "metadata": {},
   "source": [
    "---\n",
    "---"
   ]
  },
  {
   "cell_type": "markdown",
   "metadata": {},
   "source": [
    "## **Final Considerations**  \n",
    "- Each exercise must be executed in **Jupyter Notebook**.  \n",
    "- Students may refer to their **notes**.  \n",
    "- Graphs and visualizations must be generated within the **Notebook**.  \n",
    "- The evaluation criteria include **correct implementation, syntax, and functionality**.  \n",
    "- The completed exam must be uploaded to Canvas before 10:30 AM. \n",
    "- Students only have one submission attempt and must upload only the .ipynb file."
   ]
  }
 ],
 "metadata": {
  "kernelspec": {
   "display_name": "base",
   "language": "python",
   "name": "python3"
  },
  "language_info": {
   "codemirror_mode": {
    "name": "ipython",
    "version": 3
   },
   "file_extension": ".py",
   "mimetype": "text/x-python",
   "name": "python",
   "nbconvert_exporter": "python",
   "pygments_lexer": "ipython3",
   "version": "3.11.4"
  }
 },
 "nbformat": 4,
 "nbformat_minor": 2
}
