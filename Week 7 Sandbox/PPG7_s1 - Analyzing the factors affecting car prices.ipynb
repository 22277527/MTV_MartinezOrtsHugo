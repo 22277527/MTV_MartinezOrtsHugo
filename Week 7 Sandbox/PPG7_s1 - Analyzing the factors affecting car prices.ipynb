{
 "cells": [
  {
   "cell_type": "markdown",
   "metadata": {},
   "source": [
    "## **PPG7_s1 - Analyzing the factors affecting car prices**\n",
    "**Objective**\n",
    "In this activity, you will analyze a dataset containing information about different cars. Your goal is to determine which factors influence car prices using **Linear Regression** and **ANOVA**.\n",
    "\n",
    "**Dataset description**\n",
    "The dataset contains the following variables:\n",
    "\n",
    "1. **Price** (dependent variable) – The market price of the car in dollars.\n",
    "2. **Kilometraje** (continuous independent variable) – The number of kilometers the car has traveled.\n",
    "3. **Year** (continuous independent variable) – The year the car was manufactured.\n",
    "4. **Brand** (categorical independent variable) – The car brand (Toyota, Ford, BMW, etc.).\n",
    "\n"
   ]
  },
  {
   "cell_type": "markdown",
   "metadata": {},
   "source": [
    "**Tasks**\n",
    "**1. Linear regression analysis**\n",
    "- Fit a **multiple linear regression** model to predict the price of a car based on its **kilometraje** and **year**.\n",
    "- Interpret the regression coefficients:\n",
    "  - Does an increase in **kilometraje** decrease the price?\n",
    "  - How does the **year** of manufacture affect the price?\n",
    "- Analyze the **p-values** of the coefficients:\n",
    "  - Are these variables statistically significant? (p-value < 0.05)\n",
    "\n"
   ]
  },
  {
   "cell_type": "code",
   "execution_count": 8,
   "metadata": {},
   "outputs": [],
   "source": [
    "import pandas as pd\n",
    "import statsmodels.api as sm"
   ]
  },
  {
   "cell_type": "code",
   "execution_count": 5,
   "metadata": {},
   "outputs": [
    {
     "name": "stdout",
     "output_type": "stream",
     "text": [
      "         Precio    Kilometraje   Año      Marca\n",
      "0  27483.570765  176700.883666  2021  Chevrolet\n",
      "1  24308.678494  150746.037373  2005       Ford\n",
      "2  28238.442691  142432.990789  2010      Honda\n",
      "3  32615.149282  143471.975958  2010   Mercedes\n",
      "4  23829.233126   78303.318732  2016       Ford\n"
     ]
    }
   ],
   "source": [
    "df = pd.read_csv('Dataset_de_Autos.csv')\n",
    "print(df.head(5))"
   ]
  },
  {
   "cell_type": "code",
   "execution_count": 6,
   "metadata": {},
   "outputs": [],
   "source": [
    "# Definir variables independientes (Kilometraje y Año) y dependiente (Precio)\n",
    "X = df[['Kilometraje', 'Año']]\n",
    "y = df['Precio']"
   ]
  },
  {
   "cell_type": "code",
   "execution_count": 9,
   "metadata": {},
   "outputs": [],
   "source": [
    "# Agregar constante para la regresión\n",
    "X = sm.add_constant(X)"
   ]
  },
  {
   "cell_type": "code",
   "execution_count": 10,
   "metadata": {},
   "outputs": [],
   "source": [
    "# Ajustar modelo de regresión lineal múltiple\n",
    "modelo = sm.OLS(y, X).fit()"
   ]
  },
  {
   "cell_type": "code",
   "execution_count": 11,
   "metadata": {},
   "outputs": [
    {
     "name": "stdout",
     "output_type": "stream",
     "text": [
      "                            OLS Regression Results                            \n",
      "==============================================================================\n",
      "Dep. Variable:                 Precio   R-squared:                       0.004\n",
      "Model:                            OLS   Adj. R-squared:                 -0.006\n",
      "Method:                 Least Squares   F-statistic:                    0.3599\n",
      "Date:                Mon, 10 Mar 2025   Prob (F-statistic):              0.698\n",
      "Time:                        10:54:48   Log-Likelihood:                -1972.1\n",
      "No. Observations:                 200   AIC:                             3950.\n",
      "Df Residuals:                     197   BIC:                             3960.\n",
      "Df Model:                           2                                         \n",
      "Covariance Type:            nonrobust                                         \n",
      "===============================================================================\n",
      "                  coef    std err          t      P>|t|      [0.025      0.975]\n",
      "-------------------------------------------------------------------------------\n",
      "const       -5.804e+04   1.22e+05     -0.477      0.634   -2.98e+05    1.82e+05\n",
      "Kilometraje    -0.0034      0.006     -0.568      0.571      -0.015       0.008\n",
      "Año            41.3076     60.468      0.683      0.495     -77.941     160.556\n",
      "==============================================================================\n",
      "Omnibus:                        0.551   Durbin-Watson:                   2.085\n",
      "Prob(Omnibus):                  0.759   Jarque-Bera (JB):                0.508\n",
      "Skew:                           0.122   Prob(JB):                        0.776\n",
      "Kurtosis:                       2.968   Cond. No.                     4.37e+07\n",
      "==============================================================================\n",
      "\n",
      "Notes:\n",
      "[1] Standard Errors assume that the covariance matrix of the errors is correctly specified.\n",
      "[2] The condition number is large, 4.37e+07. This might indicate that there are\n",
      "strong multicollinearity or other numerical problems.\n"
     ]
    }
   ],
   "source": [
    "# Mostrar resumen del modelo\n",
    "print(modelo.summary())"
   ]
  },
  {
   "cell_type": "markdown",
   "metadata": {},
   "source": [
    "Here we can see that the kilometraje coefficient is negative, this says to us that if we have a higher kilometraje then we have a lower price. \n",
    "\n",
    "Then we can see that the year coefficient is positive, this says to us that the new cars are more expensive than the olders.\n",
    "\n",
    "Looking the p values we can see that kilometraje has a significant relation with price because p<0.05, then the year variable is not statistically significant because p>0.05"
   ]
  },
  {
   "cell_type": "markdown",
   "metadata": {},
   "source": [
    "**2. ANOVA analysis**\n",
    "- Perform an **ANOVA** test to check if the **brand** of a car has a significant impact on its price.\n",
    "- State the null and alternative hypotheses:\n",
    "  - **H₀:** All brands have the same average price.\n",
    "  - **Hₐ:** At least one brand has a significantly different price.\n",
    "- If the **p-value** is less than 0.05, conclude that brand influences car price.\n",
    "\n"
   ]
  },
  {
   "cell_type": "code",
   "execution_count": 12,
   "metadata": {},
   "outputs": [],
   "source": [
    "import statsmodels.formula.api as smf"
   ]
  },
  {
   "cell_type": "code",
   "execution_count": 13,
   "metadata": {},
   "outputs": [],
   "source": [
    "# Realizar un ANOVA para analizar el impacto de la marca en el precio\n",
    "modelo_anova = smf.ols(\"Precio ~ C(Marca)\", data=df).fit()\n",
    "anova_resultado = sm.stats.anova_lm(modelo_anova, typ=2)\n"
   ]
  },
  {
   "cell_type": "code",
   "execution_count": 14,
   "metadata": {},
   "outputs": [
    {
     "name": "stdout",
     "output_type": "stream",
     "text": [
      "\n",
      "Resultados del ANOVA:\n",
      "                sum_sq     df         F    PR(>F)\n",
      "C(Marca)  5.741567e+07    5.0  0.523585  0.758257\n",
      "Residual  4.254757e+09  194.0       NaN       NaN\n"
     ]
    }
   ],
   "source": [
    "# Mostrar resultados del ANOVA\n",
    "print(\"\\nResultados del ANOVA:\")\n",
    "print(anova_resultado)"
   ]
  },
  {
   "cell_type": "code",
   "execution_count": 17,
   "metadata": {},
   "outputs": [
    {
     "name": "stdout",
     "output_type": "stream",
     "text": [
      "0.7582566382413112\n"
     ]
    }
   ],
   "source": [
    "# Extraer el valor p\n",
    "p_value = anova_resultado[\"PR(>F)\"][0]\n",
    "\n",
    "print(p_value)"
   ]
  },
  {
   "cell_type": "code",
   "execution_count": 16,
   "metadata": {},
   "outputs": [
    {
     "name": "stdout",
     "output_type": "stream",
     "text": [
      "\n",
      "Conclusión: No hay suficiente evidencia para decir que la marca afecta el precio (p >= 0.05).\n"
     ]
    }
   ],
   "source": [
    "# Conclusión basada en el p-value\n",
    "if p_value < 0.05:\n",
    "    print(\"\\nConclusión: La marca del auto influye significativamente en el precio (p < 0.05).\")\n",
    "else:\n",
    "    print(\"\\nConclusión: No hay suficiente evidencia para decir que la marca afecta el precio (p >= 0.05).\")"
   ]
  },
  {
   "cell_type": "markdown",
   "metadata": {},
   "source": [
    "We cannot say that the brand of the car significantly influences in the price"
   ]
  },
  {
   "cell_type": "markdown",
   "metadata": {},
   "source": [
    "**Deliverables**\n",
    "- A summary of your findings, including regression coefficients, p-values, and ANOVA results.\n",
    "- A brief interpretation of the results:\n",
    "  - Which factors are most influential in determining car prices?\n",
    "  - Does brand significantly affect price?\n",
    "  - How reliable is the regression model?\n",
    "\n"
   ]
  },
  {
   "cell_type": "markdown",
   "metadata": {},
   "source": [
    "**Bonus questions**\n",
    "- What other factors might influence car prices that are not included in this dataset?\n",
    "- If you were to improve this analysis, what additional data would you collect?"
   ]
  }
 ],
 "metadata": {
  "kernelspec": {
   "display_name": "base",
   "language": "python",
   "name": "python3"
  },
  "language_info": {
   "codemirror_mode": {
    "name": "ipython",
    "version": 3
   },
   "file_extension": ".py",
   "mimetype": "text/x-python",
   "name": "python",
   "nbconvert_exporter": "python",
   "pygments_lexer": "ipython3",
   "version": "3.11.4"
  }
 },
 "nbformat": 4,
 "nbformat_minor": 2
}
