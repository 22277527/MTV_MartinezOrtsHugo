{
 "cells": [
  {
   "cell_type": "code",
   "execution_count": 75,
   "metadata": {},
   "outputs": [],
   "source": [
    "import pandas as pd\n",
    "import numpy as np\n",
    "import scipy.stats as stats\n",
    "import plotly.graph_objects as go\n",
    "import plotly.express as px\n",
    "from scipy.stats import f"
   ]
  },
  {
   "cell_type": "code",
   "execution_count": 60,
   "metadata": {},
   "outputs": [],
   "source": [
    "df = pd.read_csv('main.csv')"
   ]
  },
  {
   "cell_type": "code",
   "execution_count": 61,
   "metadata": {},
   "outputs": [
    {
     "data": {
      "text/html": [
       "<div>\n",
       "<style scoped>\n",
       "    .dataframe tbody tr th:only-of-type {\n",
       "        vertical-align: middle;\n",
       "    }\n",
       "\n",
       "    .dataframe tbody tr th {\n",
       "        vertical-align: top;\n",
       "    }\n",
       "\n",
       "    .dataframe thead th {\n",
       "        text-align: right;\n",
       "    }\n",
       "</style>\n",
       "<table border=\"1\" class=\"dataframe\">\n",
       "  <thead>\n",
       "    <tr style=\"text-align: right;\">\n",
       "      <th></th>\n",
       "      <th>Page 1</th>\n",
       "      <th>Page 2</th>\n",
       "      <th>Page 3</th>\n",
       "      <th>Page 4</th>\n",
       "    </tr>\n",
       "  </thead>\n",
       "  <tbody>\n",
       "    <tr>\n",
       "      <th>0</th>\n",
       "      <td>164</td>\n",
       "      <td>178</td>\n",
       "      <td>175</td>\n",
       "      <td>155</td>\n",
       "    </tr>\n",
       "    <tr>\n",
       "      <th>1</th>\n",
       "      <td>172</td>\n",
       "      <td>191</td>\n",
       "      <td>193</td>\n",
       "      <td>166</td>\n",
       "    </tr>\n",
       "    <tr>\n",
       "      <th>2</th>\n",
       "      <td>177</td>\n",
       "      <td>182</td>\n",
       "      <td>171</td>\n",
       "      <td>164</td>\n",
       "    </tr>\n",
       "    <tr>\n",
       "      <th>3</th>\n",
       "      <td>156</td>\n",
       "      <td>185</td>\n",
       "      <td>163</td>\n",
       "      <td>170</td>\n",
       "    </tr>\n",
       "    <tr>\n",
       "      <th>4</th>\n",
       "      <td>195</td>\n",
       "      <td>177</td>\n",
       "      <td>176</td>\n",
       "      <td>168</td>\n",
       "    </tr>\n",
       "  </tbody>\n",
       "</table>\n",
       "</div>"
      ],
      "text/plain": [
       "   Page 1  Page 2  Page 3  Page 4\n",
       "0     164     178     175     155\n",
       "1     172     191     193     166\n",
       "2     177     182     171     164\n",
       "3     156     185     163     170\n",
       "4     195     177     176     168"
      ]
     },
     "metadata": {},
     "output_type": "display_data"
    }
   ],
   "source": [
    "display(df)"
   ]
  },
  {
   "cell_type": "markdown",
   "metadata": {},
   "source": [
    "\n",
    "# 2. Descriptive Statistics\n",
    "\n",
    "Compute the mean and variance for each group (web page).\n",
    "\n",
    "Compute the overall mean for all time"
   ]
  },
  {
   "cell_type": "code",
   "execution_count": 62,
   "metadata": {},
   "outputs": [],
   "source": [
    "media = df.mean()"
   ]
  },
  {
   "cell_type": "code",
   "execution_count": 63,
   "metadata": {},
   "outputs": [],
   "source": [
    "varianza = df.var()"
   ]
  },
  {
   "cell_type": "code",
   "execution_count": 64,
   "metadata": {},
   "outputs": [
    {
     "name": "stdout",
     "output_type": "stream",
     "text": [
      "La media de cada columna es:\n",
      "Page 1    172.8\n",
      "Page 2    182.6\n",
      "Page 3    175.6\n",
      "Page 4    164.6\n",
      "dtype: float64\n"
     ]
    }
   ],
   "source": [
    "print(\"La media de cada columna es:\")\n",
    "print(media)"
   ]
  },
  {
   "cell_type": "code",
   "execution_count": 65,
   "metadata": {},
   "outputs": [
    {
     "name": "stdout",
     "output_type": "stream",
     "text": [
      "La varianza de cada columna es:\n",
      "Page 1    217.7\n",
      "Page 2     32.3\n",
      "Page 3    120.8\n",
      "Page 4     33.8\n",
      "dtype: float64\n"
     ]
    }
   ],
   "source": [
    "print(\"La varianza de cada columna es:\")\n",
    "print(varianza)"
   ]
  },
  {
   "cell_type": "code",
   "execution_count": 67,
   "metadata": {},
   "outputs": [],
   "source": [
    "# Calcular la media global (gran media)\n",
    "global_mean = stacked_data['Value'].mean()"
   ]
  },
  {
   "cell_type": "markdown",
   "metadata": {},
   "source": [
    "\n",
    "# 3. Variance Decomposition:\n",
    "\n",
    "Compute the total sum of squares (SST).\n",
    "\n",
    "Compute the sum of squares between groups (SSB).\n",
    "\n",
    "Compute the sum of squares within groups (SSW)"
   ]
  },
  {
   "cell_type": "code",
   "execution_count": 68,
   "metadata": {},
   "outputs": [],
   "source": [
    "stacked_data = df.stack().reset_index()\n",
    "stacked_data.columns = ['Index', 'Group', 'Value']"
   ]
  },
  {
   "cell_type": "code",
   "execution_count": 42,
   "metadata": {},
   "outputs": [],
   "source": [
    "# 1. Total Sum of Squares (SST)\n",
    "SST = ((stacked_data['Value'] - global_mean) ** 2).sum()"
   ]
  },
  {
   "cell_type": "code",
   "execution_count": 43,
   "metadata": {},
   "outputs": [],
   "source": [
    "# 2. Sum of Squares Between Groups (SSB)\n",
    "group_means = stacked_data.groupby('Group')['Value'].mean()\n",
    "group_sizes = stacked_data.groupby('Group')['Value'].count()\n",
    "SSB = ((group_means - global_mean) ** 2 * group_sizes).sum()"
   ]
  },
  {
   "cell_type": "code",
   "execution_count": 44,
   "metadata": {},
   "outputs": [],
   "source": [
    "# 3. Sum of Squares Within Groups (SSW)\n",
    "SSW = SST - SSB"
   ]
  },
  {
   "cell_type": "code",
   "execution_count": 49,
   "metadata": {},
   "outputs": [
    {
     "name": "stdout",
     "output_type": "stream",
     "text": [
      "Total Sum of Squares (SST): 2449.7999999999997\n",
      "Sum of Squares Between Groups (SSB): 831.3999999999999\n",
      "Sum of Squares Within Groups (SSW): 1618.3999999999999\n"
     ]
    }
   ],
   "source": [
    "# Resultados\n",
    "print(f\"Total Sum of Squares (SST): {SST}\")\n",
    "print(f\"Sum of Squares Between Groups (SSB): {SSB}\")\n",
    "print(f\"Sum of Squares Within Groups (SSW): {SSW}\")"
   ]
  },
  {
   "cell_type": "markdown",
   "metadata": {},
   "source": [
    "# 4. ANOVA Table Construction:\n",
    "\n",
    "Compute degrees of freedom.\n",
    "\n",
    "Obtain the between-group variance (MSB) and the within-group variance\n",
    "(MSW).\n",
    "\n",
    "Compute the F-statistic and compare it with the critical F-value from the F-table to\n",
    "determine statistical significance"
   ]
  },
  {
   "cell_type": "code",
   "execution_count": 51,
   "metadata": {},
   "outputs": [],
   "source": [
    "# Grados de libertad entre grupos (df_between)\n",
    "k = len(df.columns)  # Número de grupos (columnas)\n",
    "df_between = k - 1\n",
    "\n",
    "# Grados de libertad dentro de grupos (df_within)\n",
    "N = len(stacked_data)  # Número total de observaciones\n",
    "df_within = N - k\n",
    "\n",
    "# Grados de libertad totales (df_total)\n",
    "df_total = N - 1\n",
    "\n",
    "# 5. Varianzas (Mean Squares)\n",
    "# Varianza entre grupos (MSB)\n",
    "MSB = SSB / df_between\n",
    "\n",
    "# Varianza dentro de grupos (MSW)\n",
    "MSW = SSW / df_within\n",
    "\n"
   ]
  },
  {
   "cell_type": "code",
   "execution_count": 52,
   "metadata": {},
   "outputs": [
    {
     "name": "stdout",
     "output_type": "stream",
     "text": [
      "No rechazamos la hipótesis nula: No hay diferencias significativas entre los grupos.\n"
     ]
    }
   ],
   "source": [
    "\n",
    "# 6. Estadístico F\n",
    "F_statistic = MSB / MSW\n",
    "\n",
    "# 7. Valor crítico de F (usando scipy.stats)\n",
    "from scipy.stats import f\n",
    "\n",
    "# Nivel de significancia (comúnmente 0.05)\n",
    "alpha = 0.05\n",
    "\n",
    "# Valor crítico de F\n",
    "F_critical = f.ppf(1 - alpha, df_between, df_within)\n",
    "\n",
    "# 8. Comparar el estadístico F con el valor crítico\n",
    "if F_statistic > F_critical:\n",
    "    print(\"Rechazamos la hipótesis nula: Hay diferencias significativas entre los grupos.\")\n",
    "else:\n",
    "    print(\"No rechazamos la hipótesis nula: No hay diferencias significativas entre los grupos.\")"
   ]
  },
  {
   "cell_type": "code",
   "execution_count": 71,
   "metadata": {},
   "outputs": [],
   "source": [
    "anova_results = {\n",
    "    'Fuente de variación': ['Entre grupos (Between)', 'Dentro de grupos (Within)', 'Total'],\n",
    "    'Suma de cuadrados': [SSB, SSW, SST],  # Suma de cuadrados\n",
    "    'Grados de libertad': [df_between, df_within, df_total],  # Grados de libertad\n",
    "    'MS': [MSB, MSW, None],  # Varianzas (Mean Squares)\n",
    "    'F': [F_statistic, None, None]  # Estadístico F\n",
    "}"
   ]
  },
  {
   "cell_type": "code",
   "execution_count": 73,
   "metadata": {},
   "outputs": [],
   "source": [
    "anova_table = pd.DataFrame(anova_results)"
   ]
  },
  {
   "cell_type": "code",
   "execution_count": 74,
   "metadata": {},
   "outputs": [
    {
     "data": {
      "text/html": [
       "<div>\n",
       "<style scoped>\n",
       "    .dataframe tbody tr th:only-of-type {\n",
       "        vertical-align: middle;\n",
       "    }\n",
       "\n",
       "    .dataframe tbody tr th {\n",
       "        vertical-align: top;\n",
       "    }\n",
       "\n",
       "    .dataframe thead th {\n",
       "        text-align: right;\n",
       "    }\n",
       "</style>\n",
       "<table border=\"1\" class=\"dataframe\">\n",
       "  <thead>\n",
       "    <tr style=\"text-align: right;\">\n",
       "      <th></th>\n",
       "      <th>Fuente de variación</th>\n",
       "      <th>Suma de cuadrados</th>\n",
       "      <th>Grados de libertad</th>\n",
       "      <th>MS</th>\n",
       "      <th>F</th>\n",
       "    </tr>\n",
       "  </thead>\n",
       "  <tbody>\n",
       "    <tr>\n",
       "      <th>0</th>\n",
       "      <td>Entre grupos (Between)</td>\n",
       "      <td>831.4</td>\n",
       "      <td>3</td>\n",
       "      <td>277.133333</td>\n",
       "      <td>2.739825</td>\n",
       "    </tr>\n",
       "    <tr>\n",
       "      <th>1</th>\n",
       "      <td>Dentro de grupos (Within)</td>\n",
       "      <td>1618.4</td>\n",
       "      <td>16</td>\n",
       "      <td>101.150000</td>\n",
       "      <td>NaN</td>\n",
       "    </tr>\n",
       "    <tr>\n",
       "      <th>2</th>\n",
       "      <td>Total</td>\n",
       "      <td>2449.8</td>\n",
       "      <td>19</td>\n",
       "      <td>NaN</td>\n",
       "      <td>NaN</td>\n",
       "    </tr>\n",
       "  </tbody>\n",
       "</table>\n",
       "</div>"
      ],
      "text/plain": [
       "         Fuente de variación  Suma de cuadrados  Grados de libertad  \\\n",
       "0     Entre grupos (Between)              831.4                   3   \n",
       "1  Dentro de grupos (Within)             1618.4                  16   \n",
       "2                      Total             2449.8                  19   \n",
       "\n",
       "           MS         F  \n",
       "0  277.133333  2.739825  \n",
       "1  101.150000       NaN  \n",
       "2         NaN       NaN  "
      ]
     },
     "metadata": {},
     "output_type": "display_data"
    }
   ],
   "source": [
    "display(anova_table)"
   ]
  },
  {
   "cell_type": "markdown",
   "metadata": {},
   "source": [
    "\n",
    "# 5. P-value Calculation:\n",
    "\n",
    "Obtain the p-value associated with the F-statistic.\n",
    "\n",
    "Evaluate whether the p-value is smaller than the significance level ff=0.05 and decide\n",
    "whether to reject"
   ]
  },
  {
   "cell_type": "code",
   "execution_count": 76,
   "metadata": {},
   "outputs": [],
   "source": [
    "# Calcular el p-valor asociado al estadístico F\n",
    "p_value = 1 - f.cdf(F_statistic, df_between, df_within)"
   ]
  },
  {
   "cell_type": "code",
   "execution_count": 80,
   "metadata": {},
   "outputs": [
    {
     "name": "stdout",
     "output_type": "stream",
     "text": [
      "No rechazamos la hipótesis nula: No hay diferencias significativas entre los grupos (p-valor = 0.0776).\n"
     ]
    }
   ],
   "source": [
    "# Evaluar si el p-valor es menor que el nivel de significancia\n",
    "if p_value < alpha:\n",
    "    print(f\"Rechazamos la hipótesis nula: Hay diferencias significativas entre los grupos (p-valor = {p_value:.4f}).\")\n",
    "else:\n",
    "    print(f\"No rechazamos la hipótesis nula: No hay diferencias significativas entre los grupos (p-valor = {p_value:.4f}).\")"
   ]
  },
  {
   "cell_type": "code",
   "execution_count": 81,
   "metadata": {},
   "outputs": [],
   "source": [
    "# Agregar el p-valor al DataFrame de la tabla ANOVA\n",
    "anova_table['p-value'] = [p_value, None, None]\n"
   ]
  },
  {
   "cell_type": "code",
   "execution_count": 83,
   "metadata": {},
   "outputs": [
    {
     "name": "stdout",
     "output_type": "stream",
     "text": [
      "\n",
      "Tabla ANOVA con p-valor:\n"
     ]
    },
    {
     "data": {
      "text/html": [
       "<div>\n",
       "<style scoped>\n",
       "    .dataframe tbody tr th:only-of-type {\n",
       "        vertical-align: middle;\n",
       "    }\n",
       "\n",
       "    .dataframe tbody tr th {\n",
       "        vertical-align: top;\n",
       "    }\n",
       "\n",
       "    .dataframe thead th {\n",
       "        text-align: right;\n",
       "    }\n",
       "</style>\n",
       "<table border=\"1\" class=\"dataframe\">\n",
       "  <thead>\n",
       "    <tr style=\"text-align: right;\">\n",
       "      <th></th>\n",
       "      <th>Fuente de variación</th>\n",
       "      <th>Suma de cuadrados</th>\n",
       "      <th>Grados de libertad</th>\n",
       "      <th>MS</th>\n",
       "      <th>F</th>\n",
       "      <th>p-value</th>\n",
       "    </tr>\n",
       "  </thead>\n",
       "  <tbody>\n",
       "    <tr>\n",
       "      <th>0</th>\n",
       "      <td>Entre grupos (Between)</td>\n",
       "      <td>831.4</td>\n",
       "      <td>3</td>\n",
       "      <td>277.133333</td>\n",
       "      <td>2.739825</td>\n",
       "      <td>0.077586</td>\n",
       "    </tr>\n",
       "    <tr>\n",
       "      <th>1</th>\n",
       "      <td>Dentro de grupos (Within)</td>\n",
       "      <td>1618.4</td>\n",
       "      <td>16</td>\n",
       "      <td>101.150000</td>\n",
       "      <td>NaN</td>\n",
       "      <td>NaN</td>\n",
       "    </tr>\n",
       "    <tr>\n",
       "      <th>2</th>\n",
       "      <td>Total</td>\n",
       "      <td>2449.8</td>\n",
       "      <td>19</td>\n",
       "      <td>NaN</td>\n",
       "      <td>NaN</td>\n",
       "      <td>NaN</td>\n",
       "    </tr>\n",
       "  </tbody>\n",
       "</table>\n",
       "</div>"
      ],
      "text/plain": [
       "         Fuente de variación  Suma de cuadrados  Grados de libertad  \\\n",
       "0     Entre grupos (Between)              831.4                   3   \n",
       "1  Dentro de grupos (Within)             1618.4                  16   \n",
       "2                      Total             2449.8                  19   \n",
       "\n",
       "           MS         F   p-value  \n",
       "0  277.133333  2.739825  0.077586  \n",
       "1  101.150000       NaN       NaN  \n",
       "2         NaN       NaN       NaN  "
      ]
     },
     "metadata": {},
     "output_type": "display_data"
    }
   ],
   "source": [
    "print(\"\\nTabla ANOVA con p-valor:\")\n",
    "display(anova_table)"
   ]
  },
  {
   "cell_type": "markdown",
   "metadata": {},
   "source": [
    "# 6. Conclusion and Interpretation of Result\n",
    "\n",
    "Determine whether there are significant differences between the web pages in terms of\n",
    "time spent.\n",
    "\n",
    "Discuss possible implications of the results for web page optimization."
   ]
  },
  {
   "cell_type": "markdown",
   "metadata": {},
   "source": [
    "#### Based on the ANOVA table results:\n",
    "\n",
    "The p-value is 0.077586, which is greater than the significance level (0.05). This means that there is not enough evidence to claim that there are significant differences in the time spent among the analyzed web pages.\n",
    "\n",
    "Although there are some differences in the mean time spent on each page (as observed in the group means), these differences are not statistically significant at the 95% confidence level. This could be due to variability within the groups or the sample size.\n",
    "\n",
    "#### Conclusion:\n",
    "\n",
    "There are no significant differences in the time spent among the analyzed web pages.\n",
    "\n",
    "#### Implications:\n",
    "\n",
    "Although no significant differences were found, the results can help guide practical improvements in web page optimization. To achieve a more detailed analysis, increasing the sample size would be necessary to draw more solid conclusions."
   ]
  }
 ],
 "metadata": {
  "kernelspec": {
   "display_name": "base",
   "language": "python",
   "name": "python3"
  },
  "language_info": {
   "codemirror_mode": {
    "name": "ipython",
    "version": 3
   },
   "file_extension": ".py",
   "mimetype": "text/x-python",
   "name": "python",
   "nbconvert_exporter": "python",
   "pygments_lexer": "ipython3",
   "version": "3.11.4"
  }
 },
 "nbformat": 4,
 "nbformat_minor": 2
}
