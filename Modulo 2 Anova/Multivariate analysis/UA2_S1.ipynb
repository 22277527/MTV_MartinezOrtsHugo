{
 "cells": [
  {
   "cell_type": "markdown",
   "metadata": {},
   "source": [
    "# UA2_S1. Multivariate analysis - Multiple regression"
   ]
  },
  {
   "cell_type": "markdown",
   "metadata": {},
   "source": [
    "**Exercise 1: Multiple Linear Regression Analysis on Property Data**\n",
    "\n",
    "**Objective:**    \n",
    "In this exercise, you will analyze the impact of **size (m²)** and **age (years)** of a property on its price using multiple linear regression. You will manually compute the regression coefficients, interpret statistical results, and visualize the data with an interactive 3D plot.\n",
    "\n",
    "**Instructions:**    \n",
    "\n",
    "1. **Data Loading:**\n",
    "   - Download the file **\"Datos_de_Precio_de_Propiedades.csv\"** and ensure the file path is correct.\n",
    "   - Load the data into a pandas DataFrame.\n",
    "\n",
    "2. **Data Processing:**\n",
    "   - Round all numerical values to the nearest integer.\n",
    "   - Configure pandas to display numbers without decimals and without thousand separators.\n",
    "\n",
    "3. **Multiple Linear Regression Calculation:**\n",
    "   - Define the independent variables **(Tamaño_m2 and Edad_años)** and the dependent variable **(Precio)**.\n",
    "   - Add a column of ones to include the intercept term in the model.\n",
    "   - Use the **least squares equation** to calculate the regression coefficients manually.\n",
    "\n",
    "4. **Model Evaluation:**\n",
    "   - Compute **predictions** and **residuals**.\n",
    "   - Determine the **correlation coefficient R** to measure the goodness of fit.\n",
    "   - Calculate the **p-values** of the coefficients to assess their statistical significance.\n",
    "\n",
    "5. **Results Visualization:**\n",
    "   - Plot the data in an **interactive 3D graph** using Plotly.\n",
    "   - Include both **real data points** and the **fitted regression surface**.\n",
    "\n",
    "6. **Analysis and Interpretation:**\n",
    "   - Write a brief **conclusion** interpreting the relationship between price, size, and age of the properties.\n",
    "   - Reflect on the importance of each variable in predicting the price based on the obtained results."
   ]
  },
  {
   "cell_type": "markdown",
   "metadata": {},
   "source": [
    "---\n",
    "---"
   ]
  },
  {
   "cell_type": "markdown",
   "metadata": {},
   "source": [
    "**Exercise 2:**    \n",
    "\n",
    "Perform a **Multiple Linear Regression** analysis to predict property prices based on **size (m²)** and **age (years)** using only the **first 5 records** from the dataset. Implement the model manually using the **least squares** formula, calculate the regression coefficients, evaluate statistical significance, and visualize the results in an interactive 3D plot.  \n",
    "\n",
    "Then, **compare the R-value and p-values** obtained from the **subset of 5 records** with those calculated using the **full dataset** to analyze how sample size affects the regression results."
   ]
  },
  {
   "cell_type": "markdown",
   "metadata": {},
   "source": [
    "---\n",
    "---"
   ]
  },
  {
   "cell_type": "markdown",
   "metadata": {},
   "source": [
    "**Submission:**\n",
    "- Create a new folder in your GitHub repository called UA2_S1 and store the notebook there.\n",
    "- Submit this **Notebook** (UA2_S1) with the implemented and well-commented code.\n",
    "- Include a **screenshot** of the generated plots.\n",
    "- Attach a **short report** with your conclusions on the obtained results.\n",
    "- Don't forget to commit and push at the end of the session."
   ]
  }
 ],
 "metadata": {
  "kernelspec": {
   "display_name": "Python 3",
   "language": "python",
   "name": "python3"
  },
  "language_info": {
   "codemirror_mode": {
    "name": "ipython",
    "version": 3
   },
   "file_extension": ".py",
   "mimetype": "text/x-python",
   "name": "python",
   "nbconvert_exporter": "python",
   "pygments_lexer": "ipython3",
   "version": "3.9.6"
  }
 },
 "nbformat": 4,
 "nbformat_minor": 2
}
