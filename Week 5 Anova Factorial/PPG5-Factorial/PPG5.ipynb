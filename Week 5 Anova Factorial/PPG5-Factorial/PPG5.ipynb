{
 "cells": [
  {
   "cell_type": "markdown",
   "metadata": {},
   "source": [
    "# PPG5 - Factorial ANOVA"
   ]
  },
  {
   "cell_type": "markdown",
   "metadata": {},
   "source": [
    "**Objective**  \n",
    "Students must analyze the impact of **Exercise Type** and **Diet Type** on **Weight** using **Python** and appropriate statistical methods. The goal is to determine if these factors, individually or in combination, significantly influence weight.  \n",
    "\n"
   ]
  },
  {
   "cell_type": "markdown",
   "metadata": {},
   "source": [
    "**Dataset**  \n",
    "A CSV file is provided with the following columns:  \n",
    "- **SubjectID**: Identification of the subjects.  \n",
    "- **Exercise**: Type of exercise performed (*categorical*).  \n",
    "- **Diet**: Type of diet followed (*categorical*).  \n",
    "- **Weight**: Body weight of the subjects (*quantitative, dependent*).  \n",
    "\n"
   ]
  },
  {
   "cell_type": "markdown",
   "metadata": {},
   "source": [
    "**Steps to Follow**  \n",
    "\n"
   ]
  },
  {
   "cell_type": "markdown",
   "metadata": {},
   "source": [
    "1. **Data Loading and Exploration:**  \n",
    "   - Import the CSV file and display its contents.  \n",
    "   - Identify the factors and the dependent variable.  \n",
    "\n"
   ]
  },
  {
   "cell_type": "code",
   "execution_count": 1,
   "metadata": {},
   "outputs": [],
   "source": [
    "import pandas as pd"
   ]
  },
  {
   "cell_type": "code",
   "execution_count": 2,
   "metadata": {},
   "outputs": [
    {
     "data": {
      "text/html": [
       "<div>\n",
       "<style scoped>\n",
       "    .dataframe tbody tr th:only-of-type {\n",
       "        vertical-align: middle;\n",
       "    }\n",
       "\n",
       "    .dataframe tbody tr th {\n",
       "        vertical-align: top;\n",
       "    }\n",
       "\n",
       "    .dataframe thead th {\n",
       "        text-align: right;\n",
       "    }\n",
       "</style>\n",
       "<table border=\"1\" class=\"dataframe\">\n",
       "  <thead>\n",
       "    <tr style=\"text-align: right;\">\n",
       "      <th></th>\n",
       "      <th>SubjectID</th>\n",
       "      <th>Ejercicio</th>\n",
       "      <th>Dieta</th>\n",
       "      <th>Peso</th>\n",
       "    </tr>\n",
       "  </thead>\n",
       "  <tbody>\n",
       "    <tr>\n",
       "      <th>0</th>\n",
       "      <td>S1</td>\n",
       "      <td>Aeróbico</td>\n",
       "      <td>Alta en proteínas</td>\n",
       "      <td>67.5</td>\n",
       "    </tr>\n",
       "    <tr>\n",
       "      <th>1</th>\n",
       "      <td>S2</td>\n",
       "      <td>Aeróbico</td>\n",
       "      <td>Alta en proteínas</td>\n",
       "      <td>68.2</td>\n",
       "    </tr>\n",
       "    <tr>\n",
       "      <th>2</th>\n",
       "      <td>S3</td>\n",
       "      <td>Aeróbico</td>\n",
       "      <td>Alta en proteínas</td>\n",
       "      <td>66.8</td>\n",
       "    </tr>\n",
       "    <tr>\n",
       "      <th>3</th>\n",
       "      <td>S4</td>\n",
       "      <td>Aeróbico</td>\n",
       "      <td>Alta en proteínas</td>\n",
       "      <td>69.0</td>\n",
       "    </tr>\n",
       "    <tr>\n",
       "      <th>4</th>\n",
       "      <td>S5</td>\n",
       "      <td>Aeróbico</td>\n",
       "      <td>Alta en proteínas</td>\n",
       "      <td>67.3</td>\n",
       "    </tr>\n",
       "  </tbody>\n",
       "</table>\n",
       "</div>"
      ],
      "text/plain": [
       "  SubjectID Ejercicio              Dieta  Peso\n",
       "0        S1  Aeróbico  Alta en proteínas  67.5\n",
       "1        S2  Aeróbico  Alta en proteínas  68.2\n",
       "2        S3  Aeróbico  Alta en proteínas  66.8\n",
       "3        S4  Aeróbico  Alta en proteínas  69.0\n",
       "4        S5  Aeróbico  Alta en proteínas  67.3"
      ]
     },
     "metadata": {},
     "output_type": "display_data"
    }
   ],
   "source": [
    "df = pd.read_csv('peso_ejercicio_dieta.csv')\n",
    "display(df.head(5))"
   ]
  },
  {
   "cell_type": "markdown",
   "metadata": {},
   "source": [
    "Como podemos observar los factores(variables independientes son ejercicio y dieta), mientras que la variable dependiente es el peso que depende de ejericio y dieta"
   ]
  },
  {
   "cell_type": "markdown",
   "metadata": {},
   "source": [
    "2. **Assumption Checks:**  \n",
    "   - **Normality**: Test if the **Weight** distribution follows a normal pattern.  \n",
    "   - **Homogeneity of Variance**: Check if the variances among groups are homogeneous.  \n",
    "\n"
   ]
  },
  {
   "cell_type": "code",
   "execution_count": 3,
   "metadata": {},
   "outputs": [],
   "source": [
    "import scipy.stats as stats\n",
    "import seaborn as sns\n",
    "import matplotlib.pyplot as plt"
   ]
  },
  {
   "cell_type": "markdown",
   "metadata": {},
   "source": [
    "**NORMALITY**"
   ]
  },
  {
   "cell_type": "code",
   "execution_count": 4,
   "metadata": {},
   "outputs": [
    {
     "name": "stdout",
     "output_type": "stream",
     "text": [
      "Shapiro-Wilk Test: Estadístico=0.9427233934402466, p-valor=0.007182635832577944\n"
     ]
    }
   ],
   "source": [
    "# Shapiro test(lo utilizo porque funciona bien para bases de datos pequeñas)\n",
    "shapiro_test = stats.shapiro(df[\"Peso\"])\n",
    "print(f\"Shapiro-Wilk Test: Estadístico={shapiro_test.statistic}, p-valor={shapiro_test.pvalue}\")"
   ]
  },
  {
   "cell_type": "markdown",
   "metadata": {},
   "source": [
    "Si el p-valor > 0.05, los datos siguen una distribución normal. En este caso tenemos un p-valor de 0.07, no hay suficiente evidencia de que los datos sigan una distribucion normal pero es lo mas seguro"
   ]
  },
  {
   "cell_type": "code",
   "execution_count": 5,
   "metadata": {},
   "outputs": [
    {
     "data": {
      "image/png": "[encoded data removed]",
      "text/plain": [
       "<Figure size 600x400 with 1 Axes>"
      ]
     },
     "metadata": {},
     "output_type": "display_data"
    }
   ],
   "source": [
    "# QQ-Plot para visualizar normalidad\n",
    "plt.figure(figsize=(6,4))\n",
    "stats.probplot(df[\"Peso\"], dist=\"norm\", plot=plt)\n",
    "plt.title(\"QQ-Plot de Peso\")\n",
    "plt.show()"
   ]
  },
  {
   "cell_type": "markdown",
   "metadata": {},
   "source": [
    "En este grafico podemos observar que la distribucion no es perfectamente normal pero en el fondo si lo es."
   ]
  },
  {
   "cell_type": "markdown",
   "metadata": {},
   "source": [
    "**HOMOGENEITY OF VARIANCE**"
   ]
  },
  {
   "cell_type": "code",
   "execution_count": 6,
   "metadata": {},
   "outputs": [
    {
     "name": "stdout",
     "output_type": "stream",
     "text": [
      "Bartlett Test: Estadístico=0.9683851501459902, p-valor=0.6161945267797464\n"
     ]
    }
   ],
   "source": [
    "# 4. Prueba de Homogeneidad de Varianza con Barlett (debido a que tenemos una distribucion de datos normal)\n",
    "\n",
    "bartlett_test = stats.bartlett(df[df[\"Ejercicio\"]==\"Aeróbico\"][\"Peso\"],\n",
    "                               df[df[\"Ejercicio\"]==\"Anaeróbico\"][\"Peso\"],\n",
    "                               df[df[\"Ejercicio\"]==\"Combinado\"][\"Peso\"])\n",
    "print(f\"Bartlett Test: Estadístico={bartlett_test.statistic}, p-valor={bartlett_test.pvalue}\")"
   ]
  },
  {
   "cell_type": "markdown",
   "metadata": {},
   "source": [
    "Si el p-valor > 0.05, las varianzas son homogéneas. En este caso tenemos un p-valor de 0.061 por lo que podemos decir que las varianzas son homogeneas."
   ]
  },
  {
   "cell_type": "markdown",
   "metadata": {},
   "source": [
    "3. **Two-Way ANOVA Analysis:**  \n",
    "   - Perform a **two-way ANOVA** to evaluate the effects of **Exercise** and **Diet** on **Weight**.  \n",
    "   - Include the **interaction** between both factors.  \n",
    "\n"
   ]
  },
  {
   "cell_type": "code",
   "execution_count": 7,
   "metadata": {},
   "outputs": [],
   "source": [
    "import statsmodels.api as sm\n",
    "import statsmodels.formula.api as smf"
   ]
  },
  {
   "cell_type": "code",
   "execution_count": 8,
   "metadata": {},
   "outputs": [],
   "source": [
    "# Realizar Two-Way ANOVA\n",
    "modelo = smf.ols('Peso ~ C(Ejercicio) * C(Dieta)', data=df).fit()\n",
    "anova_resultados = sm.stats.anova_lm(modelo, typ=2)"
   ]
  },
  {
   "cell_type": "code",
   "execution_count": 9,
   "metadata": {},
   "outputs": [
    {
     "name": "stdout",
     "output_type": "stream",
     "text": [
      "                           sum_sq    df            F        PR(>F)\n",
      "C(Ejercicio)           526.150333   2.0  2261.751154  8.662836e-53\n",
      "C(Dieta)                66.781500   1.0   574.144404  1.903490e-30\n",
      "C(Ejercicio):C(Dieta)    0.237000   2.0     1.018787  3.678661e-01\n",
      "Residual                 6.281000  54.0          NaN           NaN\n"
     ]
    }
   ],
   "source": [
    "print(anova_resultados)"
   ]
  },
  {
   "cell_type": "markdown",
   "metadata": {},
   "source": [
    "Si p < 0.05 → El tipo de ejercicio afecta significativamente el peso. Por lo que podemos decir que el tipo de ejercicio es significativo para el peso.\n",
    "\n",
    "Si p < 0.05 → La dieta afecta significativamente el peso. Por lo que podemos decir que la dieta es significativo para el peso.\n",
    "\n",
    "Si p < 0.05 → Hay una interacción significativa entre ejercicio y dieta (el efecto del ejercicio cambia dependiendo de la dieta). Como este nos da 0.367 podemos decir que no hay interacción significativa entre Ejercicio y Dieta. Es decir que  los cambios de peso dependen del ejercicio y la dieta, pero no se potencian entre sí.\n"
   ]
  },
  {
   "cell_type": "markdown",
   "metadata": {},
   "source": [
    "4. **Post-hoc Comparisons:**  \n",
    "   - If ANOVA detects significant differences, conduct **post-hoc tests** (Bonferroni correction).  \n",
    "   - Compare the main effects and interactions between groups.  \n",
    "\n"
   ]
  },
  {
   "cell_type": "code",
   "execution_count": 10,
   "metadata": {},
   "outputs": [],
   "source": [
    "from statsmodels.stats.multicomp import pairwise_tukeyhsd\n",
    "from statsmodels.stats.multitest import multipletests\n",
    "\n"
   ]
  },
  {
   "cell_type": "markdown",
   "metadata": {},
   "source": [
    "**POST_HOC**"
   ]
  },
  {
   "cell_type": "code",
   "execution_count": 11,
   "metadata": {},
   "outputs": [
    {
     "name": "stdout",
     "output_type": "stream",
     "text": [
      "Post-hoc Tukey para Ejercicio:\n",
      "    Multiple Comparison of Means - Tukey HSD, FWER=0.05    \n",
      "===========================================================\n",
      "  group1     group2   meandiff p-adj  lower   upper  reject\n",
      "-----------------------------------------------------------\n",
      "  Aeróbico Anaeróbico    7.225   0.0  6.3621  8.0879   True\n",
      "  Aeróbico  Combinado     4.17   0.0  3.3071  5.0329   True\n",
      "Anaeróbico  Combinado   -3.055   0.0 -3.9179 -2.1921   True\n",
      "-----------------------------------------------------------\n"
     ]
    }
   ],
   "source": [
    "# Comparaciones post-hoc para Ejercicio\n",
    "posthoc_ejercicio = pairwise_tukeyhsd(df['Peso'], df['Ejercicio'])\n",
    "print(\"Post-hoc Tukey para Ejercicio:\")\n",
    "print(posthoc_ejercicio)\n",
    "\n"
   ]
  },
  {
   "cell_type": "markdown",
   "metadata": {},
   "source": [
    "En conclusion todos los tipos de ejercicio tienen efectos significativamente diferentes en el peso. El ejercicio aeróbico tiene un impacto mayor que los otros dos."
   ]
  },
  {
   "cell_type": "code",
   "execution_count": 12,
   "metadata": {},
   "outputs": [
    {
     "name": "stdout",
     "output_type": "stream",
     "text": [
      "\n",
      "Post-hoc Tukey para Dieta:\n",
      "         Multiple Comparison of Means - Tukey HSD, FWER=0.05         \n",
      "=====================================================================\n",
      "      group1          group2     meandiff p-adj  lower  upper  reject\n",
      "---------------------------------------------------------------------\n",
      "Alta en proteínas Baja en grasas     2.11 0.0092 0.5437 3.6763   True\n",
      "---------------------------------------------------------------------\n"
     ]
    }
   ],
   "source": [
    "# Comparaciones post-hoc para Dieta\n",
    "posthoc_dieta = pairwise_tukeyhsd(df['Peso'], df['Dieta'])\n",
    "print(\"\\nPost-hoc Tukey para Dieta:\")\n",
    "print(posthoc_dieta)\n"
   ]
  },
  {
   "cell_type": "markdown",
   "metadata": {},
   "source": [
    "En conclusion las personas con una dieta alta en proteínas tienen un peso significativamente mayor en comparación con aquellas con una dieta baja en grasas."
   ]
  },
  {
   "cell_type": "markdown",
   "metadata": {},
   "source": [
    "**BONFERRONI**"
   ]
  },
  {
   "cell_type": "code",
   "execution_count": 13,
   "metadata": {},
   "outputs": [],
   "source": [
    "# Ajuste de Bonferroni para Ejercicio\n",
    "comparaciones_ejercicio = posthoc_ejercicio.pvalues\n",
    "comparaciones_ejercicio_bonf = multipletests(comparaciones_ejercicio, method='bonferroni')[1]\n",
    "\n"
   ]
  },
  {
   "cell_type": "code",
   "execution_count": 14,
   "metadata": {},
   "outputs": [],
   "source": [
    "# Ajuste de Bonferroni para Dieta\n",
    "comparaciones_dieta = posthoc_dieta.pvalues\n",
    "comparaciones_dieta_bonf = multipletests(comparaciones_dieta, method='bonferroni')[1]\n"
   ]
  },
  {
   "cell_type": "code",
   "execution_count": 15,
   "metadata": {},
   "outputs": [
    {
     "name": "stdout",
     "output_type": "stream",
     "text": [
      "\n",
      "P-valores ajustados con Bonferroni para Ejercicio: [0.00000000e+00 0.00000000e+00 8.53414006e-11]\n",
      "P-valores ajustados con Bonferroni para Dieta: [0.00915491]\n"
     ]
    }
   ],
   "source": [
    "\n",
    "print(\"\\nP-valores ajustados con Bonferroni para Ejercicio:\", comparaciones_ejercicio_bonf)\n",
    "print(\"P-valores ajustados con Bonferroni para Dieta:\", comparaciones_dieta_bonf)\n"
   ]
  },
  {
   "cell_type": "markdown",
   "metadata": {},
   "source": [
    "Para ejercicio: Todos los valores son extremadamente bajos (0.000000 o 8.53e-11), lo que confirma que las diferencias entre los tipos de ejercicio son altamente significativas.\n",
    "\n",
    "Para dieta: El p-valor ajustado es 0.00915, que sigue siendo menor a 0.05, por lo que la diferencia sigue siendo significativa.\n",
    "\n",
    "\n",
    "CONCLUSION FINAL:\n",
    "\n",
    "Tanto el tipo de ejercicio como la dieta tienen un impacto significativo en el peso.\n",
    "\n",
    "Ejercicio: El aeróbico tiene un mayor impacto en el peso que los otros dos tipos.\n",
    "\n",
    "Dieta: La dieta alta en proteínas se asocia con un mayor peso en comparación con la baja en grasas.\n",
    "\n",
    "Aún con la corrección de Bonferroni, los resultados siguen siendo significativos."
   ]
  },
  {
   "cell_type": "markdown",
   "metadata": {},
   "source": [
    "5. **Additional Statistical Calculations:**  \n",
    "   - Compute **means and standard deviations** for each group.  \n",
    "   - Calculate the **effect size (partial eta squared)** and **statistical power**.  \n",
    "\n"
   ]
  },
  {
   "cell_type": "code",
   "execution_count": 18,
   "metadata": {},
   "outputs": [
    {
     "name": "stdout",
     "output_type": "stream",
     "text": [
      "Collecting pingouin\n",
      "  Obtaining dependency information for pingouin from https://files.pythonhosted.org/packages/eb/56/6d3607f3a78aee1de8e5466f5171722c8e344266a12dc44ccb73d024b3b3/pingouin-0.5.5-py3-none-any.whl.metadata\n",
      "  Downloading pingouin-0.5.5-py3-none-any.whl.metadata (19 kB)\n",
      "Requirement already satisfied: matplotlib in c:\\users\\hugo\\anaconda3\\lib\\site-packages (from pingouin) (3.7.1)\n",
      "Requirement already satisfied: numpy in c:\\users\\hugo\\anaconda3\\lib\\site-packages (from pingouin) (1.24.3)\n",
      "Requirement already satisfied: pandas>=1.5 in c:\\users\\hugo\\anaconda3\\lib\\site-packages (from pingouin) (1.5.3)\n",
      "Collecting pandas-flavor (from pingouin)\n",
      "  Obtaining dependency information for pandas-flavor from https://files.pythonhosted.org/packages/67/1a/bfb5574b215f530c7ac5be684f33d60b299abbebd763c203aa31755f2fb2/pandas_flavor-0.6.0-py3-none-any.whl.metadata\n",
      "  Downloading pandas_flavor-0.6.0-py3-none-any.whl.metadata (6.3 kB)\n",
      "Requirement already satisfied: scikit-learn>=1.2 in c:\\users\\hugo\\anaconda3\\lib\\site-packages (from pingouin) (1.3.0)\n",
      "Requirement already satisfied: scipy in c:\\users\\hugo\\anaconda3\\lib\\site-packages (from pingouin) (1.10.1)\n",
      "Requirement already satisfied: seaborn in c:\\users\\hugo\\anaconda3\\lib\\site-packages (from pingouin) (0.12.2)\n",
      "Requirement already satisfied: statsmodels in c:\\users\\hugo\\anaconda3\\lib\\site-packages (from pingouin) (0.14.0)\n",
      "Requirement already satisfied: tabulate in c:\\users\\hugo\\anaconda3\\lib\\site-packages (from pingouin) (0.8.10)\n",
      "Requirement already satisfied: python-dateutil>=2.8.1 in c:\\users\\hugo\\anaconda3\\lib\\site-packages (from pandas>=1.5->pingouin) (2.8.2)\n",
      "Requirement already satisfied: pytz>=2020.1 in c:\\users\\hugo\\anaconda3\\lib\\site-packages (from pandas>=1.5->pingouin) (2022.7)\n",
      "Requirement already satisfied: joblib>=1.1.1 in c:\\users\\hugo\\anaconda3\\lib\\site-packages (from scikit-learn>=1.2->pingouin) (1.2.0)\n",
      "Requirement already satisfied: threadpoolctl>=2.0.0 in c:\\users\\hugo\\anaconda3\\lib\\site-packages (from scikit-learn>=1.2->pingouin) (2.2.0)\n",
      "Requirement already satisfied: contourpy>=1.0.1 in c:\\users\\hugo\\anaconda3\\lib\\site-packages (from matplotlib->pingouin) (1.0.5)\n",
      "Requirement already satisfied: cycler>=0.10 in c:\\users\\hugo\\anaconda3\\lib\\site-packages (from matplotlib->pingouin) (0.11.0)\n",
      "Requirement already satisfied: fonttools>=4.22.0 in c:\\users\\hugo\\anaconda3\\lib\\site-packages (from matplotlib->pingouin) (4.25.0)\n",
      "Requirement already satisfied: kiwisolver>=1.0.1 in c:\\users\\hugo\\anaconda3\\lib\\site-packages (from matplotlib->pingouin) (1.4.4)\n",
      "Requirement already satisfied: packaging>=20.0 in c:\\users\\hugo\\anaconda3\\lib\\site-packages (from matplotlib->pingouin) (23.0)\n",
      "Requirement already satisfied: pillow>=6.2.0 in c:\\users\\hugo\\anaconda3\\lib\\site-packages (from matplotlib->pingouin) (9.4.0)\n",
      "Requirement already satisfied: pyparsing>=2.3.1 in c:\\users\\hugo\\anaconda3\\lib\\site-packages (from matplotlib->pingouin) (3.0.9)\n",
      "Requirement already satisfied: xarray in c:\\users\\hugo\\anaconda3\\lib\\site-packages (from pandas-flavor->pingouin) (2023.6.0)\n",
      "Requirement already satisfied: patsy>=0.5.2 in c:\\users\\hugo\\anaconda3\\lib\\site-packages (from statsmodels->pingouin) (0.5.3)\n",
      "Requirement already satisfied: six in c:\\users\\hugo\\anaconda3\\lib\\site-packages (from patsy>=0.5.2->statsmodels->pingouin) (1.16.0)\n",
      "Downloading pingouin-0.5.5-py3-none-any.whl (204 kB)\n",
      "   ---------------------------------------- 0.0/204.4 kB ? eta -:--:--\n",
      "   ---------------------------- ----------- 143.4/204.4 kB 2.8 MB/s eta 0:00:01\n",
      "   ---------------------------------------- 204.4/204.4 kB 3.1 MB/s eta 0:00:00\n",
      "Downloading pandas_flavor-0.6.0-py3-none-any.whl (7.2 kB)\n",
      "Installing collected packages: pandas-flavor, pingouin\n",
      "Successfully installed pandas-flavor-0.6.0 pingouin-0.5.5\n"
     ]
    }
   ],
   "source": [
    "!pip install pingouin\n"
   ]
  },
  {
   "cell_type": "code",
   "execution_count": 28,
   "metadata": {},
   "outputs": [],
   "source": [
    "import numpy as np\n",
    "import pingouin as pg\n",
    "from pingouin import compute_effsize, power_anova  # Para calcular eta cuadrado y poder estadístico\n",
    "from scipy.stats import f_oneway"
   ]
  },
  {
   "cell_type": "markdown",
   "metadata": {},
   "source": [
    "**STANDARD DEVIATION**"
   ]
  },
  {
   "cell_type": "code",
   "execution_count": 20,
   "metadata": {},
   "outputs": [
    {
     "name": "stdout",
     "output_type": "stream",
     "text": [
      "Resumen estadístico para Ejercicio:\n",
      "              mean       std  count\n",
      "Ejercicio                          \n",
      "Aeróbico    68.950  1.276715     20\n",
      "Anaeróbico  76.175  1.078925     20\n",
      "Combinado   73.120  1.031402     20\n",
      "\n",
      "Resumen estadístico para Dieta:\n",
      "                        mean       std  count\n",
      "Dieta                                        \n",
      "Alta en proteínas  71.693333  3.089240     30\n",
      "Baja en grasas     73.803333  2.970601     30\n"
     ]
    }
   ],
   "source": [
    "# Calcular medias y desviaciones estándar para cada grupo\n",
    "summary_ejercicio = df.groupby('Ejercicio')['Peso'].agg(['mean', 'std', 'count'])\n",
    "summary_dieta = df.groupby('Dieta')['Peso'].agg(['mean', 'std', 'count'])\n",
    "\n",
    "print(\"Resumen estadístico para Ejercicio:\")\n",
    "print(summary_ejercicio)\n",
    "\n",
    "print(\"\\nResumen estadístico para Dieta:\")\n",
    "print(summary_dieta)"
   ]
  },
  {
   "cell_type": "markdown",
   "metadata": {},
   "source": [
    "**PARTIAL ETA SQUARED AND STATISTICAL POWER**"
   ]
  },
  {
   "cell_type": "code",
   "execution_count": 21,
   "metadata": {},
   "outputs": [
    {
     "name": "stdout",
     "output_type": "stream",
     "text": [
      "\n",
      "Tamaño del efecto (eta cuadrado parcial) para Ejercicio: 0.8777220445747613\n",
      "Tamaño del efecto (eta cuadrado parcial) para Dieta: 0.11140465187662213\n"
     ]
    }
   ],
   "source": [
    "# ANOVA para obtener el tamaño del efecto (eta cuadrado parcial)\n",
    "anova_ejercicio = pg.anova(dv='Peso', between='Ejercicio', data=df, detailed=True)\n",
    "anova_dieta = pg.anova(dv='Peso', between='Dieta', data=df, detailed=True)\n",
    "\n",
    "# Extraer eta cuadrado parcial\n",
    "eta_squared_ejercicio = anova_ejercicio['np2'][0]\n",
    "eta_squared_dieta = anova_dieta['np2'][0]\n",
    "\n",
    "print(\"\\nTamaño del efecto (eta cuadrado parcial) para Ejercicio:\", eta_squared_ejercicio)\n",
    "print(\"Tamaño del efecto (eta cuadrado parcial) para Dieta:\", eta_squared_dieta)"
   ]
  },
  {
   "cell_type": "code",
   "execution_count": 30,
   "metadata": {},
   "outputs": [],
   "source": [
    "from statsmodels.stats.power import FTestAnovaPower"
   ]
  },
  {
   "cell_type": "code",
   "execution_count": 31,
   "metadata": {},
   "outputs": [],
   "source": [
    "# Calcular Cohen's f a partir de eta cuadrado parcial\n",
    "def eta_squared_to_cohen_f(eta_squared):\n",
    "    return np.sqrt(eta_squared / (1 - eta_squared))\n",
    "\n",
    "f_ejercicio = eta_squared_to_cohen_f(eta_squared_ejercicio)\n",
    "f_dieta = eta_squared_to_cohen_f(eta_squared_dieta)"
   ]
  },
  {
   "cell_type": "code",
   "execution_count": 32,
   "metadata": {},
   "outputs": [
    {
     "name": "stdout",
     "output_type": "stream",
     "text": [
      "\n",
      "Potencia estadística para Ejercicio: 1.0\n",
      "Potencia estadística para Dieta: 0.769457857886378\n"
     ]
    }
   ],
   "source": [
    "# Inicializar el análisis de potencia\n",
    "anova_power = FTestAnovaPower()\n",
    "\n",
    "# Calcular potencia estadística\n",
    "power_ejercicio = anova_power.solve_power(effect_size=f_ejercicio, nobs=df.shape[0], alpha=0.05, k_groups=df['Ejercicio'].nunique())\n",
    "power_dieta = anova_power.solve_power(effect_size=f_dieta, nobs=df.shape[0], alpha=0.05, k_groups=df['Dieta'].nunique())\n",
    "\n",
    "print(\"\\nPotencia estadística para Ejercicio:\", power_ejercicio)\n",
    "print(\"Potencia estadística para Dieta:\", power_dieta)"
   ]
  },
  {
   "cell_type": "markdown",
   "metadata": {},
   "source": [
    "6. **Results Visualization:**  \n",
    "   - Generate **boxplots** to visualize weight distribution across groups.  \n",
    "   - Create an **interaction plot** for **Exercise** and **Diet**.  \n",
    "\n"
   ]
  },
  {
   "cell_type": "code",
   "execution_count": 33,
   "metadata": {},
   "outputs": [],
   "source": [
    "import matplotlib.pyplot as plt\n",
    "import seaborn as sns\n",
    "import numpy as np\n",
    "import statsmodels.api as sm\n",
    "from statsmodels.graphics.factorplots import interaction_plot"
   ]
  },
  {
   "cell_type": "code",
   "execution_count": 34,
   "metadata": {},
   "outputs": [
    {
     "data": {
      "image/png": "[encoded data removed]",
      "text/plain": [
       "<Figure size 1000x500 with 1 Axes>"
      ]
     },
     "metadata": {},
     "output_type": "display_data"
    }
   ],
   "source": [
    "# Configurar estilo de gráficos\n",
    "sns.set_style(\"whitegrid\")\n",
    "\n",
    "# Boxplot para Ejercicio\n",
    "plt.figure(figsize=(10, 5))\n",
    "sns.boxplot(x='Ejercicio', y='Peso', data=df, palette=\"Set2\")\n",
    "plt.title(\"Distribución del Peso por Tipo de Ejercicio\")\n",
    "plt.xlabel(\"Tipo de Ejercicio\")\n",
    "plt.ylabel(\"Peso\")\n",
    "plt.show()"
   ]
  },
  {
   "cell_type": "code",
   "execution_count": 38,
   "metadata": {},
   "outputs": [
    {
     "data": {
      "image/png": "[encoded data removed]",
      "text/plain": [
       "<Figure size 1000x500 with 1 Axes>"
      ]
     },
     "metadata": {},
     "output_type": "display_data"
    }
   ],
   "source": [
    "# Boxplot para Dieta\n",
    "plt.figure(figsize=(10, 5))\n",
    "sns.boxplot(x='Dieta', y='Peso', data=df, palette=\"Set3\")\n",
    "plt.title(\"Distribución del Peso por Tipo de Dieta\")\n",
    "plt.xlabel(\"Tipo de Dieta\")\n",
    "plt.ylabel(\"Peso\")\n",
    "plt.show()\n",
    "\n"
   ]
  },
  {
   "cell_type": "code",
   "execution_count": 40,
   "metadata": {},
   "outputs": [
    {
     "data": {
      "text/plain": [
       "<Figure size 1000x500 with 0 Axes>"
      ]
     },
     "metadata": {},
     "output_type": "display_data"
    },
    {
     "data": {
      "image/png": "[encoded data removed]",
      "text/plain": [
       "<Figure size 640x480 with 1 Axes>"
      ]
     },
     "metadata": {},
     "output_type": "display_data"
    }
   ],
   "source": [
    "# Contar cuántas categorías tiene 'Dieta'\n",
    "num_dietas = df['Dieta'].nunique()\n",
    "\n",
    "# Definir colores y marcadores dinámicamente según la cantidad de grupos\n",
    "colores = ['red', 'blue', 'green', 'purple', 'orange'][:num_dietas]  # Ajuste dinámico\n",
    "marcadores = ['o', 's', 'D', '^', 'v'][:num_dietas]  # Ajuste dinámico\n",
    "\n",
    "# Crear gráfico de interacción\n",
    "plt.figure(figsize=(10, 5))\n",
    "interaction_plot(df['Ejercicio'], df['Dieta'], df['Peso'], colors=colores, markers=marcadores, ms=8)\n",
    "\n",
    "plt.title(\"Interacción entre Ejercicio y Dieta sobre el Peso\")\n",
    "plt.xlabel(\"Tipo de Ejercicio\")\n",
    "plt.ylabel(\"Peso Promedio\")\n",
    "plt.show()"
   ]
  },
  {
   "cell_type": "code",
   "execution_count": null,
   "metadata": {},
   "outputs": [],
   "source": []
  },
  {
   "cell_type": "markdown",
   "metadata": {},
   "source": [
    "7. **Interpretation and Conclusions:**  \n",
    "   - Explain which factors significantly affect **Weight**.  \n",
    "   - Analyze whether there are meaningful interactions between **Exercise** and **Diet**.  \n",
    "   - Discuss the study's implications based on the obtained results.  \n",
    "\n"
   ]
  },
  {
   "cell_type": "code",
   "execution_count": null,
   "metadata": {},
   "outputs": [],
   "source": []
  },
  {
   "cell_type": "markdown",
   "metadata": {},
   "source": [
    "**Implementation Requirements**  \n",
    "- Use **Python** for the entire analysis.  \n",
    "- Use the mathematical theory to compute the results.\n",
    "- Last, apply libraries such as **pandas, scipy, statsmodels, and plotly** to perform the statistical tests and visualizations.  \n",
    "\n"
   ]
  },
  {
   "cell_type": "markdown",
   "metadata": {},
   "source": [
    "**Submission Requirements**  \n",
    "Each student must submit:  \n",
    "- Well-documented **Python code**.  \n",
    "- A **statistical analysis** with result interpretation.  \n",
    "- **Graphs** supporting the conclusions.  \n",
    "- Upload your file to GitHub your repository, make a commit and push."
   ]
  }
 ],
 "metadata": {
  "kernelspec": {
   "display_name": "base",
   "language": "python",
   "name": "python3"
  },
  "language_info": {
   "codemirror_mode": {
    "name": "ipython",
    "version": 3
   },
   "file_extension": ".py",
   "mimetype": "text/x-python",
   "name": "python",
   "nbconvert_exporter": "python",
   "pygments_lexer": "ipython3",
   "version": "3.11.4"
  }
 },
 "nbformat": 4,
 "nbformat_minor": 2
}
