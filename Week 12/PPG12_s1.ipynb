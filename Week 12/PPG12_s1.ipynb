{
 "cells": [
  {
   "cell_type": "markdown",
   "id": "6ce483a8",
   "metadata": {},
   "source": [
    "## **PPG12_s1 – DATA ANALYSIS AT NETFLIX**  \n",
    "**Topics:** Time Series & Logistic Regression  \n",
    "**Datasets Provided:**  \n",
    "- `Weekly_Views.csv`  \n",
    "- `Users.csv`\n",
    "\n",
    "**Required Tools:** Python, Pandas, Plotly, Statsmodels, Scikit-learn\n",
    "\n",
    "**GENERAL INSTRUCTIONS**\n",
    "\n",
    "1. You must answer all questions using Python.\n",
    "2. All visualizations must be created using **Plotly** (interactive plots).\n",
    "3. Briefly justify every analytical or modeling decision.\n",
    "4. Final submission: a `.ipynb` file and its export to `.pdf` or `.html`."
   ]
  },
  {
   "cell_type": "markdown",
   "id": "bcbdb47b",
   "metadata": {},
   "source": [
    "**PART 1: TIME SERIES ANALYSIS**\n",
    "\n",
    "**Scenario:** You work on Netflix's content analytics team. Your task is to analyze the weekly performance of a new original series launched a year ago.\n"
   ]
  },
  {
   "cell_type": "markdown",
   "id": "51ef437b",
   "metadata": {},
   "source": [
    "1. **Initial visualization (Plotly)**  \n",
    "   Create an interactive line plot using Plotly to display weekly viewership trends. Identify and briefly describe any of the following patterns you observe:  \n",
    "   - Trend  \n",
    "   - Seasonality  \n",
    "   - Randomness\n",
    "\n"
   ]
  },
  {
   "cell_type": "code",
   "execution_count": null,
   "id": "93561164",
   "metadata": {},
   "outputs": [],
   "source": []
  },
  {
   "cell_type": "markdown",
   "id": "94522eda",
   "metadata": {},
   "source": [
    "2. **Time series decomposition**  \n",
    "   Use classical decomposition (trend, seasonal, residual components) and display each component separately. Which component appears to dominate the series?\n",
    "\n"
   ]
  },
  {
   "cell_type": "code",
   "execution_count": null,
   "id": "b206052c",
   "metadata": {},
   "outputs": [],
   "source": []
  },
  {
   "cell_type": "markdown",
   "id": "89b92415",
   "metadata": {},
   "source": [
    "3. **Stationarity check**  \n",
    "   Apply the Augmented Dickey-Fuller (ADF) test. Is the series stationary? If not, apply an appropriate transformation (e.g., differencing or logarithmic), and re-evaluate.\n",
    "\n"
   ]
  },
  {
   "cell_type": "code",
   "execution_count": null,
   "id": "82c2bdba",
   "metadata": {},
   "outputs": [],
   "source": []
  },
  {
   "cell_type": "markdown",
   "id": "4a741302",
   "metadata": {},
   "source": [
    "4. **Modeling (ARIMA or SARIMA)**  \n",
    "   Fit a model to forecast the next 4 weeks of viewership. Justify your model selection. Provide:  \n",
    "   - Forecast results  \n",
    "   - Confidence intervals  \n",
    "   - Interactive visualization comparing historical and forecasted values"
   ]
  },
  {
   "cell_type": "code",
   "execution_count": null,
   "id": "7c1f4879",
   "metadata": {},
   "outputs": [],
   "source": []
  },
  {
   "cell_type": "markdown",
   "id": "20899fcd",
   "metadata": {},
   "source": [
    "5. **Model validation**  \n",
    "   Calculate a validation error metric (e.g., MAE or RMSE) using part of the data. How reliable is your model?\n",
    "\n"
   ]
  },
  {
   "cell_type": "code",
   "execution_count": null,
   "id": "d94f02e4",
   "metadata": {},
   "outputs": [],
   "source": []
  },
  {
   "cell_type": "markdown",
   "id": "167aa1f6",
   "metadata": {},
   "source": [
    "6. **Business strategy recommendation**  \n",
    "   Based on the trends or peaks observed, propose two actionable strategies Netflix could use to increase engagement with this series.\n",
    "\n"
   ]
  },
  {
   "cell_type": "code",
   "execution_count": null,
   "id": "14c64183",
   "metadata": {},
   "outputs": [],
   "source": []
  },
  {
   "cell_type": "markdown",
   "id": "37644f09",
   "metadata": {},
   "source": [
    "**PART 2: LOGISTIC REGRESSION**\n",
    "\n",
    "**Scenario:** You're part of Netflix's personalization team. You are building a model to predict the probability that a user will click on a recommendation based on their behavior."
   ]
  },
  {
   "cell_type": "markdown",
   "id": "7dfca2e7",
   "metadata": {},
   "source": [
    "7. **Exploratory visualization (Plotly)**  \n",
    "   Use a Plotly scatter plot to examine the relationship between `exposure_time` and `clicked`, using `watched_trailer` as a color/hue. What insights do you gain?\n",
    "\n"
   ]
  },
  {
   "cell_type": "code",
   "execution_count": null,
   "id": "a64eb2c7",
   "metadata": {},
   "outputs": [],
   "source": []
  },
  {
   "cell_type": "markdown",
   "id": "49471c0b",
   "metadata": {},
   "source": [
    "8. **Logistic model construction**  \n",
    "   Fit a logistic regression model using the following features:  \n",
    "   - `age`  \n",
    "   - `watch_time_per_week`  \n",
    "   - `watched_trailer`  \n",
    "   - `exposure_time`  \n",
    "   Display the model’s coefficients and explain the effect of each variable.\n",
    "\n"
   ]
  },
  {
   "cell_type": "code",
   "execution_count": null,
   "id": "a41583a0",
   "metadata": {},
   "outputs": [],
   "source": []
  },
  {
   "cell_type": "markdown",
   "id": "151ee42f",
   "metadata": {},
   "source": [
    "9. **Model evaluation**  \n",
    "   Build and visualize the confusion matrix. Calculate and interpret the following metrics:  \n",
    "   - Accuracy  \n",
    "   - Sensitivity (Recall)  \n",
    "   - Specificity\n",
    "\n"
   ]
  },
  {
   "cell_type": "code",
   "execution_count": null,
   "id": "99b84da3",
   "metadata": {},
   "outputs": [],
   "source": []
  },
  {
   "cell_type": "markdown",
   "id": "66c41e88",
   "metadata": {},
   "source": [
    "10. **ROC Curve and AUC (Plotly)**  \n",
    "   Plot the ROC curve using Plotly. Report and interpret the AUC value. Is the model a good classifier?\n",
    "\n"
   ]
  },
  {
   "cell_type": "code",
   "execution_count": null,
   "id": "52bfb096",
   "metadata": {},
   "outputs": [],
   "source": []
  },
  {
   "cell_type": "markdown",
   "id": "71299ebb",
   "metadata": {},
   "source": [
    "11. **Individual prediction**  \n",
    "   Estimate the click probability for a user with the following characteristics:  \n",
    "   - Age: 35  \n",
    "   - Watch time per week: 15 hours  \n",
    "   - Watched trailer: Yes  \n",
    "   - Exposure time: 20 minutes  \n",
    "   Should this user be predicted as a click (assuming a threshold of 0.5)?\n",
    "\n"
   ]
  },
  {
   "cell_type": "code",
   "execution_count": null,
   "id": "7e5d5153",
   "metadata": {},
   "outputs": [],
   "source": []
  },
  {
   "cell_type": "markdown",
   "id": "4ed6c980",
   "metadata": {},
   "source": [
    "12. **Interaction effects**  \n",
    "   You suspect that the impact of `exposure_time` depends on whether the user watched the trailer. Create an interaction term and refit the model. Does the new model improve?\n",
    "\n"
   ]
  },
  {
   "cell_type": "code",
   "execution_count": null,
   "id": "cd51b674",
   "metadata": {},
   "outputs": [],
   "source": []
  },
  {
   "cell_type": "markdown",
   "id": "7bf84863",
   "metadata": {},
   "source": [
    "13. **Influential observations**  \n",
    "   Calculate Cook’s distance. Are there any influential observations? How would they affect model interpretation?\n",
    "\n"
   ]
  },
  {
   "cell_type": "code",
   "execution_count": null,
   "id": "cf7279f7",
   "metadata": {},
   "outputs": [],
   "source": []
  },
  {
   "cell_type": "markdown",
   "id": "9646ec0e",
   "metadata": {},
   "source": [
    "14. **Multicollinearity check**  \n",
    "   Assess multicollinearity between the explanatory variables. Is there redundancy? Suggest ways to address it.\n",
    "\n"
   ]
  },
  {
   "cell_type": "code",
   "execution_count": null,
   "id": "570ad483",
   "metadata": {},
   "outputs": [],
   "source": []
  },
  {
   "cell_type": "markdown",
   "id": "880d0e8f",
   "metadata": {},
   "source": [
    "15. **Strategic application**  \n",
    "   Based on your analysis, propose a recommendation strategy that could increase the click-through rate for suggested titles.\n",
    "\n"
   ]
  },
  {
   "cell_type": "code",
   "execution_count": null,
   "id": "356bc76a",
   "metadata": {},
   "outputs": [],
   "source": []
  },
  {
   "cell_type": "markdown",
   "id": "b37a1f44",
   "metadata": {},
   "source": [
    "**SUBMISSION CHECKLIST**\n",
    "\n",
    "- Jupyter Notebook (`PPG12_s1.ipynb`)  \n",
    "- Export to PDF or HTML  \n",
    "- All plots must be interactive using Plotly  \n",
    "- Code must include comments and clear interpretations"
   ]
  }
 ],
 "metadata": {
  "kernelspec": {
   "display_name": "Python 3",
   "language": "python",
   "name": "python3"
  },
  "language_info": {
   "name": "python",
   "version": "3.9.6"
  }
 },
 "nbformat": 4,
 "nbformat_minor": 5
}
